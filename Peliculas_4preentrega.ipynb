{
 "cells": [
  {
   "cell_type": "markdown",
   "id": "f10985a7-fc4c-40db-bde8-b108ae7f1901",
   "metadata": {},
   "source": [
    "### Librerias\n",
    "\n",
    "*Selección e importación:* las librerias seleccionadas e importadas a continuación son las necesarias para realizar un análisis exploratorio del DataFrame \"Peliculas\"."
   ]
  },
  {
   "cell_type": "code",
   "execution_count": 103,
   "id": "bdf9b886-b925-4cc8-8527-5bdaee30eb57",
   "metadata": {},
   "outputs": [],
   "source": [
    "#Importación de librerias\n",
    "import pandas as pd\n",
    "import numpy as np\n",
    "import matplotlib.pyplot as plt\n",
    "import seaborn as sns\n",
    "import sklearn as skl\n",
    "from scipy import stats\n",
    "from sklearn.preprocessing import LabelEncoder"
   ]
  },
  {
   "cell_type": "markdown",
   "id": "ae9101bf-d576-4e91-97cf-40e3275afecf",
   "metadata": {},
   "source": [
    "### Análisis exploratorio de datos"
   ]
  },
  {
   "cell_type": "markdown",
   "id": "67938bdb-eb4f-4542-bc7e-f1740cb2dbda",
   "metadata": {},
   "source": [
    "*Caracterización del DataFrame:* Para realizar la caracterización del DataFrame se determinó cantidad de filas y columnas, nombre de las columnas y tipos de variables."
   ]
  },
  {
   "cell_type": "code",
   "execution_count": 104,
   "id": "3f07245b-b5a9-4c8a-98b9-1b9bf9ab4492",
   "metadata": {},
   "outputs": [],
   "source": [
    "df = pd.read_csv('Movie_Data_File2.csv')"
   ]
  },
  {
   "cell_type": "code",
   "execution_count": 105,
   "id": "73d5be84-2085-4ddb-a793-68fe0c62c426",
   "metadata": {},
   "outputs": [
    {
     "data": {
      "text/html": [
       "<div>\n",
       "<style scoped>\n",
       "    .dataframe tbody tr th:only-of-type {\n",
       "        vertical-align: middle;\n",
       "    }\n",
       "\n",
       "    .dataframe tbody tr th {\n",
       "        vertical-align: top;\n",
       "    }\n",
       "\n",
       "    .dataframe thead th {\n",
       "        text-align: right;\n",
       "    }\n",
       "</style>\n",
       "<table border=\"1\" class=\"dataframe\">\n",
       "  <thead>\n",
       "    <tr style=\"text-align: right;\">\n",
       "      <th></th>\n",
       "      <th>Film_title</th>\n",
       "      <th>Release_year</th>\n",
       "      <th>Director</th>\n",
       "      <th>Cast</th>\n",
       "      <th>Average_rating</th>\n",
       "      <th>Owner_rating</th>\n",
       "      <th>Genres</th>\n",
       "      <th>Runtime</th>\n",
       "      <th>Countries</th>\n",
       "      <th>Original_language</th>\n",
       "      <th>...</th>\n",
       "      <th>★½</th>\n",
       "      <th>★★</th>\n",
       "      <th>★★½</th>\n",
       "      <th>★★★</th>\n",
       "      <th>★★★½</th>\n",
       "      <th>★★★★</th>\n",
       "      <th>★★★★½</th>\n",
       "      <th>★★★★★</th>\n",
       "      <th>Total_ratings</th>\n",
       "      <th>Film_URL</th>\n",
       "    </tr>\n",
       "  </thead>\n",
       "  <tbody>\n",
       "    <tr>\n",
       "      <th>0</th>\n",
       "      <td>The Fan</td>\n",
       "      <td>NaN</td>\n",
       "      <td>Eckhart Schmidt</td>\n",
       "      <td>['Désirée Nosbusch', 'Bodo Staiger', 'Simone B...</td>\n",
       "      <td>3.57</td>\n",
       "      <td>NaN</td>\n",
       "      <td>['Horror', 'Drama']</td>\n",
       "      <td>92.0</td>\n",
       "      <td>['Germany']</td>\n",
       "      <td>German</td>\n",
       "      <td>...</td>\n",
       "      <td>103</td>\n",
       "      <td>402</td>\n",
       "      <td>525</td>\n",
       "      <td>1660</td>\n",
       "      <td>1950</td>\n",
       "      <td>2646</td>\n",
       "      <td>808</td>\n",
       "      <td>714</td>\n",
       "      <td>9042</td>\n",
       "      <td>https://letterboxd.com/film/the-fan-1982/</td>\n",
       "    </tr>\n",
       "    <tr>\n",
       "      <th>1</th>\n",
       "      <td>Mad Max: Fury Road</td>\n",
       "      <td>NaN</td>\n",
       "      <td>George Miller</td>\n",
       "      <td>['Tom Hardy', 'Charlize Theron', 'Nicholas Hou...</td>\n",
       "      <td>4.18</td>\n",
       "      <td>4.5</td>\n",
       "      <td>['Adventure', 'Science Fiction', 'Action']</td>\n",
       "      <td>121.0</td>\n",
       "      <td>['Australia', 'USA']</td>\n",
       "      <td>English</td>\n",
       "      <td>...</td>\n",
       "      <td>6139</td>\n",
       "      <td>37471</td>\n",
       "      <td>30112</td>\n",
       "      <td>158356</td>\n",
       "      <td>163753</td>\n",
       "      <td>477901</td>\n",
       "      <td>280815</td>\n",
       "      <td>511140</td>\n",
       "      <td>1682389</td>\n",
       "      <td>https://letterboxd.com/film/mad-max-fury-road/</td>\n",
       "    </tr>\n",
       "    <tr>\n",
       "      <th>2</th>\n",
       "      <td>Suspiria</td>\n",
       "      <td>NaN</td>\n",
       "      <td>Dario Argento</td>\n",
       "      <td>['Jessica Harper', 'Stefania Casini', 'Flavio ...</td>\n",
       "      <td>3.93</td>\n",
       "      <td>4.0</td>\n",
       "      <td>['Horror']</td>\n",
       "      <td>99.0</td>\n",
       "      <td>['Italy']</td>\n",
       "      <td>English</td>\n",
       "      <td>...</td>\n",
       "      <td>2710</td>\n",
       "      <td>11006</td>\n",
       "      <td>14397</td>\n",
       "      <td>53427</td>\n",
       "      <td>70309</td>\n",
       "      <td>138742</td>\n",
       "      <td>60628</td>\n",
       "      <td>88628</td>\n",
       "      <td>443757</td>\n",
       "      <td>https://letterboxd.com/film/suspiria/</td>\n",
       "    </tr>\n",
       "    <tr>\n",
       "      <th>3</th>\n",
       "      <td>Lost in Translation</td>\n",
       "      <td>NaN</td>\n",
       "      <td>Sofia Coppola</td>\n",
       "      <td>['Bill Murray', 'Scarlett Johansson', 'Akiko T...</td>\n",
       "      <td>3.79</td>\n",
       "      <td>4.5</td>\n",
       "      <td>['Drama', 'Comedy', 'Romance']</td>\n",
       "      <td>102.0</td>\n",
       "      <td>['UK', 'USA']</td>\n",
       "      <td>English</td>\n",
       "      <td>...</td>\n",
       "      <td>11281</td>\n",
       "      <td>45997</td>\n",
       "      <td>46716</td>\n",
       "      <td>155110</td>\n",
       "      <td>166638</td>\n",
       "      <td>314160</td>\n",
       "      <td>122359</td>\n",
       "      <td>193717</td>\n",
       "      <td>1076949</td>\n",
       "      <td>https://letterboxd.com/film/lost-in-translation/</td>\n",
       "    </tr>\n",
       "    <tr>\n",
       "      <th>4</th>\n",
       "      <td>Akira</td>\n",
       "      <td>NaN</td>\n",
       "      <td>Katsuhiro Otomo</td>\n",
       "      <td>['Mitsuo Iwata', 'Nozomu Sasaki', 'Mami Koyama...</td>\n",
       "      <td>4.28</td>\n",
       "      <td>5.0</td>\n",
       "      <td>['Animation', 'Action', 'Science Fiction']</td>\n",
       "      <td>124.0</td>\n",
       "      <td>['Japan']</td>\n",
       "      <td>Japanese</td>\n",
       "      <td>...</td>\n",
       "      <td>1663</td>\n",
       "      <td>7286</td>\n",
       "      <td>9544</td>\n",
       "      <td>40850</td>\n",
       "      <td>61104</td>\n",
       "      <td>168485</td>\n",
       "      <td>112657</td>\n",
       "      <td>196532</td>\n",
       "      <td>600721</td>\n",
       "      <td>https://letterboxd.com/film/akira/</td>\n",
       "    </tr>\n",
       "  </tbody>\n",
       "</table>\n",
       "<p>5 rows × 29 columns</p>\n",
       "</div>"
      ],
      "text/plain": [
       "            Film_title  Release_year         Director  \\\n",
       "0              The Fan           NaN  Eckhart Schmidt   \n",
       "1   Mad Max: Fury Road           NaN    George Miller   \n",
       "2             Suspiria           NaN    Dario Argento   \n",
       "3  Lost in Translation           NaN    Sofia Coppola   \n",
       "4                Akira           NaN  Katsuhiro Otomo   \n",
       "\n",
       "                                                Cast  Average_rating  \\\n",
       "0  ['Désirée Nosbusch', 'Bodo Staiger', 'Simone B...            3.57   \n",
       "1  ['Tom Hardy', 'Charlize Theron', 'Nicholas Hou...            4.18   \n",
       "2  ['Jessica Harper', 'Stefania Casini', 'Flavio ...            3.93   \n",
       "3  ['Bill Murray', 'Scarlett Johansson', 'Akiko T...            3.79   \n",
       "4  ['Mitsuo Iwata', 'Nozomu Sasaki', 'Mami Koyama...            4.28   \n",
       "\n",
       "   Owner_rating                                      Genres  Runtime  \\\n",
       "0           NaN                         ['Horror', 'Drama']     92.0   \n",
       "1           4.5  ['Adventure', 'Science Fiction', 'Action']    121.0   \n",
       "2           4.0                                  ['Horror']     99.0   \n",
       "3           4.5              ['Drama', 'Comedy', 'Romance']    102.0   \n",
       "4           5.0  ['Animation', 'Action', 'Science Fiction']    124.0   \n",
       "\n",
       "              Countries Original_language  ...     ★½     ★★    ★★½     ★★★  \\\n",
       "0           ['Germany']            German  ...    103    402    525    1660   \n",
       "1  ['Australia', 'USA']           English  ...   6139  37471  30112  158356   \n",
       "2             ['Italy']           English  ...   2710  11006  14397   53427   \n",
       "3         ['UK', 'USA']           English  ...  11281  45997  46716  155110   \n",
       "4             ['Japan']          Japanese  ...   1663   7286   9544   40850   \n",
       "\n",
       "     ★★★½    ★★★★   ★★★★½   ★★★★★  Total_ratings  \\\n",
       "0    1950    2646     808     714           9042   \n",
       "1  163753  477901  280815  511140        1682389   \n",
       "2   70309  138742   60628   88628         443757   \n",
       "3  166638  314160  122359  193717        1076949   \n",
       "4   61104  168485  112657  196532         600721   \n",
       "\n",
       "                                           Film_URL  \n",
       "0         https://letterboxd.com/film/the-fan-1982/  \n",
       "1    https://letterboxd.com/film/mad-max-fury-road/  \n",
       "2             https://letterboxd.com/film/suspiria/  \n",
       "3  https://letterboxd.com/film/lost-in-translation/  \n",
       "4                https://letterboxd.com/film/akira/  \n",
       "\n",
       "[5 rows x 29 columns]"
      ]
     },
     "execution_count": 105,
     "metadata": {},
     "output_type": "execute_result"
    }
   ],
   "source": [
    "df.head()"
   ]
  },
  {
   "cell_type": "code",
   "execution_count": 106,
   "id": "76d57bc2-7b77-47a3-81ce-46df6595751b",
   "metadata": {},
   "outputs": [
    {
     "data": {
      "text/plain": [
       "(10002, 29)"
      ]
     },
     "execution_count": 106,
     "metadata": {},
     "output_type": "execute_result"
    }
   ],
   "source": [
    "#Cantidad de filas y columnas\n",
    "df.shape"
   ]
  },
  {
   "cell_type": "code",
   "execution_count": 107,
   "id": "fe15c064-5ddf-44c4-86ae-0f771030d666",
   "metadata": {},
   "outputs": [
    {
     "data": {
      "text/plain": [
       "Film_title            object\n",
       "Release_year         float64\n",
       "Director              object\n",
       "Cast                  object\n",
       "Average_rating       float64\n",
       "Owner_rating         float64\n",
       "Genres                object\n",
       "Runtime              float64\n",
       "Countries             object\n",
       "Original_language     object\n",
       "Spoken_languages      object\n",
       "Description           object\n",
       "Studios               object\n",
       "Watches                int64\n",
       "List_appearances       int64\n",
       "Likes                  int64\n",
       "Fans                   int64\n",
       "½                      int64\n",
       "★                      int64\n",
       "★½                     int64\n",
       "★★                     int64\n",
       "★★½                    int64\n",
       "★★★                    int64\n",
       "★★★½                   int64\n",
       "★★★★                   int64\n",
       "★★★★½                  int64\n",
       "★★★★★                  int64\n",
       "Total_ratings          int64\n",
       "Film_URL              object\n",
       "dtype: object"
      ]
     },
     "execution_count": 107,
     "metadata": {},
     "output_type": "execute_result"
    }
   ],
   "source": [
    "#Nombre de las columnas y tipos de variables\n",
    "df.dtypes"
   ]
  },
  {
   "cell_type": "markdown",
   "id": "80b1d9ff-3ed9-4ed6-94d4-2c64390f4be2",
   "metadata": {},
   "source": [
    "**Analisis de variables categoricas**"
   ]
  },
  {
   "cell_type": "markdown",
   "id": "d27f5bb7-f106-4cb6-a2fe-7767e9331472",
   "metadata": {},
   "source": [
    "*Cast*"
   ]
  },
  {
   "cell_type": "markdown",
   "id": "53bcec50-1640-4e65-9452-96ff6faa55f7",
   "metadata": {},
   "source": [
    "Eliminar datos de la columna Cast, dejando solamente los dos primeros actores"
   ]
  },
  {
   "cell_type": "code",
   "execution_count": 108,
   "id": "90ba24d4-ed07-4826-85ce-3ddb288b4f86",
   "metadata": {},
   "outputs": [],
   "source": [
    "def extraer_dos_actores(cadena):\n",
    "    if isinstance(cadena, str):\n",
    "        actores = [actor.strip() for actor in cadena.split(',')]\n",
    "        return pd.Series(actores[:2]) \n",
    "    return pd.Series([None, None]) \n",
    "\n",
    "df[['Protagonista', 'Coprotagonista']] = df['Cast'].apply(extraer_dos_actores)\n",
    "df.drop(columns=['Cast'], inplace=True)\n"
   ]
  },
  {
   "cell_type": "code",
   "execution_count": 109,
   "id": "ebf58c2e-bdbb-4d49-8fb4-1b4d0bf1da8d",
   "metadata": {},
   "outputs": [
    {
     "name": "stdout",
     "output_type": "stream",
     "text": [
      "          Protagonista        Coprotagonista\n",
      "0  ['Désirée Nosbusch'        'Bodo Staiger'\n",
      "1         ['Tom Hardy'     'Charlize Theron'\n",
      "2    ['Jessica Harper'     'Stefania Casini'\n",
      "3       ['Bill Murray'  'Scarlett Johansson'\n",
      "4      ['Mitsuo Iwata'       'Nozomu Sasaki'\n"
     ]
    }
   ],
   "source": [
    "print(df[['Protagonista', 'Coprotagonista']].head())"
   ]
  },
  {
   "cell_type": "markdown",
   "id": "ee4b1402-9fab-4f6f-8aff-91366ff27282",
   "metadata": {},
   "source": [
    "Observamos que hay Protagonistas repetidos, por lo tanto procederemos a unificarlos"
   ]
  },
  {
   "cell_type": "code",
   "execution_count": 110,
   "id": "d059fb63-1c1b-402c-9c4a-55a907d2ac86",
   "metadata": {},
   "outputs": [],
   "source": [
    "df['Protagonista'] = df['Protagonista'].astype(str)  \n",
    "\n",
    "df['Protagonista'] = df['Protagonista'].str.replace(r\"[\\[\\]']\", \"\", regex=True)\n",
    "\n",
    "df['Protagonista'] = df['Protagonista'].str.strip()\n",
    "\n",
    "df['Protagonista'] = df['Protagonista'].str.replace(r\"\\s*,\\s*\", \", \", regex=True)"
   ]
  },
  {
   "cell_type": "markdown",
   "id": "b5b65bb6-1949-4ccb-b13f-f574779aa4b2",
   "metadata": {},
   "source": [
    "Haremos lo mismo con los coprotagonistas"
   ]
  },
  {
   "cell_type": "code",
   "execution_count": 111,
   "id": "2d53a9df-d23c-4f27-9a38-f0ca7775e884",
   "metadata": {},
   "outputs": [],
   "source": [
    "df['Coprotagonista'] = df['Coprotagonista'].astype(str)  \n",
    "\n",
    "df['Coprotagonista'] = df['Coprotagonista'].str.replace(r\"[\\[\\]']\", \"\", regex=True)\n",
    "\n",
    "df['Coprotagonista'] = df['Coprotagonista'].str.strip()\n",
    "\n",
    "df['Coprotagonista'] = df['Coprotagonista'].str.replace(r\"\\s*,\\s*\", \", \", regex=True)"
   ]
  },
  {
   "cell_type": "markdown",
   "id": "c82b4404-da03-40fe-9739-93a74bdcefd9",
   "metadata": {},
   "source": [
    "Realizamos el conteo"
   ]
  },
  {
   "cell_type": "code",
   "execution_count": 112,
   "id": "9512279b-7f20-4c48-b890-5f698c7c08cd",
   "metadata": {},
   "outputs": [
    {
     "name": "stdout",
     "output_type": "stream",
     "text": [
      "Protagonista\n",
      "None                 57\n",
      "Mel Blanc            49\n",
      "Nicolas Cage         36\n",
      "Sean Connery         33\n",
      "Johnny Depp          33\n",
      "                     ..\n",
      "Madonna               1\n",
      "Jonathan Lipnicki     1\n",
      "Martina Gedeck        1\n",
      "Halina Reijn          1\n",
      "Olivia Wilde          1\n",
      "Name: count, Length: 5064, dtype: int64\n"
     ]
    }
   ],
   "source": [
    "conteo_Protagonista = df['Protagonista'].value_counts()\n",
    "print(conteo_Protagonista)"
   ]
  },
  {
   "cell_type": "code",
   "execution_count": 113,
   "id": "54f32b99-e5d6-4151-bb54-70abc8405265",
   "metadata": {},
   "outputs": [
    {
     "name": "stdout",
     "output_type": "stream",
     "text": [
      "Coprotagonista\n",
      "nan                 86\n",
      "None                57\n",
      "Tommy Lee Jones     14\n",
      "Robert De Niro      14\n",
      "Rose Byrne          13\n",
      "                    ..\n",
      "Kristen Connolly     1\n",
      "Josefine Preuß       1\n",
      "Aylin Tezel          1\n",
      "Julia Koschitz       1\n",
      "Allison Williams     1\n",
      "Name: count, Length: 6284, dtype: int64\n"
     ]
    }
   ],
   "source": [
    "conteo_Coprotagonista = df['Coprotagonista'].value_counts()\n",
    "print(conteo_Coprotagonista)"
   ]
  },
  {
   "cell_type": "markdown",
   "id": "c915befe-676e-4a9f-a20f-9dec47dcfb77",
   "metadata": {},
   "source": [
    "*Genres*"
   ]
  },
  {
   "cell_type": "markdown",
   "id": "e6e95c87-a1d2-46aa-ab97-c4714d7733c6",
   "metadata": {},
   "source": [
    "Eliminar datos de la columna Genres, dejando solamente el primero"
   ]
  },
  {
   "cell_type": "code",
   "execution_count": 114,
   "id": "163a1163-5ed5-4e79-9c8c-c4cfaa6f2022",
   "metadata": {},
   "outputs": [],
   "source": [
    "def extraer_primer_genero(cadena):\n",
    "    if isinstance(cadena, str):\n",
    "        generos = [g.strip() for g in cadena.split(',')]\n",
    "        return generos[0] if generos else ''\n",
    "    return ''\n",
    "df['Genres'] = df['Genres'].apply(extraer_primer_genero)"
   ]
  },
  {
   "cell_type": "code",
   "execution_count": 115,
   "id": "d101ca7c-e577-41bc-baa2-0b9d5fabd53c",
   "metadata": {},
   "outputs": [
    {
     "name": "stdout",
     "output_type": "stream",
     "text": [
      "         Genres\n",
      "0     ['Horror'\n",
      "1  ['Adventure'\n",
      "2    ['Horror']\n",
      "3      ['Drama'\n",
      "4  ['Animation'\n"
     ]
    }
   ],
   "source": [
    "print(df[['Genres']].head())"
   ]
  },
  {
   "cell_type": "markdown",
   "id": "3c07c3da-58bf-45bd-8347-dca645c546c8",
   "metadata": {},
   "source": [
    "Observamos que hay generos repetidos, por lo tanto procederemos a unificarlos"
   ]
  },
  {
   "cell_type": "code",
   "execution_count": 116,
   "id": "24de114a-65fe-4236-8e17-a0f952f4b648",
   "metadata": {},
   "outputs": [],
   "source": [
    "df['Genres'] = df['Genres'].astype(str)  \n",
    "\n",
    "df['Genres'] = df['Genres'].str.replace(r\"[\\[\\]']\", \"\", regex=True)\n",
    "\n",
    "df['Genres'] = df['Genres'].str.strip()\n",
    "\n",
    "df['Genres'] = df['Genres'].str.replace(r\"\\s*,\\s*\", \", \", regex=True)"
   ]
  },
  {
   "cell_type": "markdown",
   "id": "7058ed85-a12c-4679-b12b-32e15d9c3225",
   "metadata": {},
   "source": [
    "Comprobamos que no hay valores repetidos"
   ]
  },
  {
   "cell_type": "code",
   "execution_count": 117,
   "id": "39e04775-4b30-461e-a68e-8d76952c4608",
   "metadata": {},
   "outputs": [
    {
     "name": "stdout",
     "output_type": "stream",
     "text": [
      "\n",
      "Valores únicos en la columna 'Genres':\n",
      "['Horror' 'Adventure' 'Drama' 'Animation' 'Comedy' 'Mystery' 'Documentary'\n",
      " 'Action' 'Romance' 'Thriller' 'Science Fiction' 'Fantasy' 'Crime'\n",
      " 'Western' 'History' 'Family' 'War' 'Music' 'TV Movie' 'Epic heroes' '']\n"
     ]
    }
   ],
   "source": [
    "print(\"\\nValores únicos en la columna 'Genres':\")\n",
    "print(df['Genres'].unique())"
   ]
  },
  {
   "cell_type": "markdown",
   "id": "4ba24054-206b-4ce2-9ead-7bdefef4629e",
   "metadata": {},
   "source": [
    "Si bien no hay valores repetidos, observamos que una de las categorias es ' ' y procederemos a eliminar a las filas que la contenga. "
   ]
  },
  {
   "cell_type": "code",
   "execution_count": 118,
   "id": "6180943b-1fa0-4e0b-abd6-72e46476b6fc",
   "metadata": {},
   "outputs": [
    {
     "name": "stdout",
     "output_type": "stream",
     "text": [
      "24\n"
     ]
    }
   ],
   "source": [
    "conteo = (df['Genres'] == '').sum()\n",
    "print(conteo)"
   ]
  },
  {
   "cell_type": "code",
   "execution_count": 119,
   "id": "1ff66458-db38-4ef3-84a9-2399fa2fab98",
   "metadata": {},
   "outputs": [],
   "source": [
    "#Eliminamos los espacios en blanco al principio y al final de cada cadena.\n",
    "df['Genres'] = df['Genres'].str.strip()\n",
    "df = df[df['Genres'] != '']"
   ]
  },
  {
   "cell_type": "code",
   "execution_count": 120,
   "id": "294ef4db-b629-4280-8d41-8e5a90266876",
   "metadata": {},
   "outputs": [
    {
     "name": "stdout",
     "output_type": "stream",
     "text": [
      "\n",
      "Valores únicos en la columna 'Genres':\n",
      "['Horror' 'Adventure' 'Drama' 'Animation' 'Comedy' 'Mystery' 'Documentary'\n",
      " 'Action' 'Romance' 'Thriller' 'Science Fiction' 'Fantasy' 'Crime'\n",
      " 'Western' 'History' 'Family' 'War' 'Music' 'TV Movie' 'Epic heroes']\n"
     ]
    }
   ],
   "source": [
    "#Comprobamos la eliminación\n",
    "print(\"\\nValores únicos en la columna 'Genres':\")\n",
    "print(df['Genres'].unique())"
   ]
  },
  {
   "cell_type": "markdown",
   "id": "a10bf2c8-70ed-46eb-bf51-6ef1cfdffa67",
   "metadata": {},
   "source": [
    "Realizamos el conteo"
   ]
  },
  {
   "cell_type": "code",
   "execution_count": 121,
   "id": "b07008f0-a89b-497a-9919-73237e1c1b9c",
   "metadata": {},
   "outputs": [
    {
     "name": "stdout",
     "output_type": "stream",
     "text": [
      "Genres\n",
      "Drama              2232\n",
      "Comedy             1423\n",
      "Horror              867\n",
      "Thriller            802\n",
      "Action              734\n",
      "Crime               529\n",
      "Romance             504\n",
      "Science Fiction     443\n",
      "Adventure           421\n",
      "Documentary         338\n",
      "Fantasy             333\n",
      "Mystery             261\n",
      "Animation           231\n",
      "Family              219\n",
      "History             164\n",
      "Western             159\n",
      "War                 129\n",
      "Music               118\n",
      "TV Movie             69\n",
      "Epic heroes           2\n",
      "Name: count, dtype: int64\n"
     ]
    }
   ],
   "source": [
    "conteo_Genres = df['Genres'].value_counts()\n",
    "print(conteo_Genres)"
   ]
  },
  {
   "cell_type": "markdown",
   "id": "e8e79b52-2087-46e9-aa79-a4ca7829b88e",
   "metadata": {},
   "source": [
    "*Countries*"
   ]
  },
  {
   "cell_type": "markdown",
   "id": "b9f8217b-ac9c-4e8c-9472-2c16d279eef8",
   "metadata": {},
   "source": [
    "Eliminar datos de la columna Countries, dejando solamente el primero"
   ]
  },
  {
   "cell_type": "code",
   "execution_count": 122,
   "id": "bbc06a3e-5bbf-42b8-b8b7-7dd470965b86",
   "metadata": {},
   "outputs": [],
   "source": [
    "def extraer_primer_pais(cadena):\n",
    "    if isinstance(cadena, str):\n",
    "        pais = [g.strip() for g in cadena.split(',')]\n",
    "        return pais [0] if pais else ''\n",
    "    return ''\n",
    "df['Countries'] = df['Countries'].apply(extraer_primer_pais)\n"
   ]
  },
  {
   "cell_type": "code",
   "execution_count": 123,
   "id": "7b5f96d7-2265-4442-a38b-4a69987987b8",
   "metadata": {},
   "outputs": [
    {
     "name": "stdout",
     "output_type": "stream",
     "text": [
      "      Countries\n",
      "0   ['Germany']\n",
      "1  ['Australia'\n",
      "2     ['Italy']\n",
      "3         ['UK'\n",
      "4     ['Japan']\n"
     ]
    }
   ],
   "source": [
    "print(df[['Countries']].head())"
   ]
  },
  {
   "cell_type": "code",
   "execution_count": 124,
   "id": "7571387f-59d8-4ea5-bdb5-e23fd40099ce",
   "metadata": {},
   "outputs": [
    {
     "name": "stdout",
     "output_type": "stream",
     "text": [
      "\n",
      "Valores únicos en la columna 'Countries':\n",
      "[\"['Germany']\" \"['Australia'\" \"['Italy']\" \"['UK'\" \"['Japan']\" \"['Germany'\"\n",
      " \"['USA']\" \"['UK']\" \"['France'\" \"['Ireland'\" \"['USA'\" \"['Belgium'\"\n",
      " \"['Mexico'\" \"['Czechoslovakia'\" \"['Mexico']\" \"['South Korea'\"\n",
      " \"['France']\" \"['New Zealand'\" \"['Italy'\" \"['Hong Kong']\"\n",
      " \"['South Korea']\" \"['Canada'\" \"['Canada']\" \"['China'\" \"['USSR']\"\n",
      " \"['Denmark'\" \"['Japan'\" \"['Austria']\" \"['Australia']\" \"['Sweden']\"\n",
      " \"['Spain']\" \"['India'\" \"['Brazil'\" \"['Sweden'\" \"['Switzerland'\"\n",
      " \"['Netherlands']\" \"['Spain'\" \"['Netherlands'\" \"['Poland']\" \"['Czechia'\"\n",
      " \"['Hong Kong'\" \"['New Zealand']\" \"['Slovakia'\" \"['Bulgaria'\" \"['Hungary'\"\n",
      " '' \"['USSR'\" \"['Austria'\" \"['Russia'\" \"['Iceland'\" \"['Turkey'\"\n",
      " \"['United Arab Emirates'\" \"['South Africa'\" \"['Thailand'\" \"['Greece']\"\n",
      " \"['Greece'\" \"['Poland'\" \"['Norway']\" \"['Argentina'\" \"['Indonesia']\"\n",
      " \"['Philippines'\" \"['Colombia'\" \"['Czechoslovakia']\" \"['Russia']\"\n",
      " \"['Indonesia'\" \"['Ireland']\" \"['Chile'\" \"['Turkey']\" \"['Romania'\"\n",
      " \"['India']\" \"['Singapore']\" \"['Israel'\" \"['Cross Country'\"\n",
      " \"['Philippines']\" \"['Ukraine']\" \"['Dominican Republic'\" \"['Libya'\"\n",
      " \"['Iraq']\" \"['Denmark']\" \"['Bolivia'\" \"['Lithuania'\" \"['Malaysia']\"\n",
      " \"['China']\" \"['Finland'\" \"['Colombia']\" \"['Luxembourg'\" \"['Taiwan'\"\n",
      " \"['Syrian Arab Republic'\" \"['Hungary']\" \"['Taiwan']\" \"['Switzerland']\"\n",
      " \"['Ivory Coast'\" \"['Country Club'\" \"['Bahamas'\" \"['Cuba'\" \"['Jamaica']\"\n",
      " \"['Norway'\" \"['Iran']\" \"['Brazil']\" \"['Bosnia and Herzegovina'\"\n",
      " \"['Burkina Faso'\" \"['Nepal'\" \"['Serbia']\" \"['Portugal'\" \"['Aruba'\"\n",
      " \"['Serbia'\" \"['South Africa']\" \"['Lithuania']\" \"['Ecuador'\" \"['Panama'\"\n",
      " \"['Estonia'\" \"['Uganda']\" \"['Israel']\" \"['Jordan'\" \"['Pakistan'\"\n",
      " \"['Nigeria']\" \"['Iceland']\" \"['Argentina']\" \"['Belgium']\"\n",
      " \"['Yugoslavia']\" \"['Malawi'\" \"['Ghana'\" \"['Lebanon'\" \"['Iraq'\" \"['Peru'\"\n",
      " \"['Malaysia'\" \"['Albania'\" \"['Egypt'\" \"['Portugal']\"\n",
      " \"['Netherlands Antilles'\" \"['Mongolia'\" \"['Romania']\" \"['Benin'\"\n",
      " \"['Lebanon']\" \"['Ukraine'\" '[\"Lao People\\'s Democratic Republic\"'\n",
      " \"['Morocco'\" \"['Finland']\" \"['Croatia'\"]\n"
     ]
    }
   ],
   "source": [
    "print(\"\\nValores únicos en la columna 'Countries':\")\n",
    "print(df['Countries'].unique())"
   ]
  },
  {
   "cell_type": "markdown",
   "id": "292c767f-0674-40be-8337-9c55f5b03902",
   "metadata": {},
   "source": [
    "Observamos que hay paises repetidos, por lo tanto procederemos a unificarlos"
   ]
  },
  {
   "cell_type": "code",
   "execution_count": 125,
   "id": "48292116-2ea5-472e-b322-c2a33f1581eb",
   "metadata": {},
   "outputs": [],
   "source": [
    "df['Countries'] = df['Countries'].astype(str)  \n",
    "\n",
    "df['Countries'] = df['Countries'].str.replace(r\"[\\[\\]']\", \"\", regex=True)\n",
    "\n",
    "df['Countries'] = df['Countries'].str.strip()\n",
    "\n",
    "df['Countries'] = df['Countries'].str.replace(r\"\\s*,\\s*\", \", \", regex=True)"
   ]
  },
  {
   "cell_type": "markdown",
   "id": "cff5cd4e-3bb2-4bcf-a43b-e6e8dad265ae",
   "metadata": {},
   "source": [
    "Comprobamos que ya no haya valores repetidos"
   ]
  },
  {
   "cell_type": "code",
   "execution_count": 126,
   "id": "7d252b53-34a6-45b8-9f10-56d9206b3ede",
   "metadata": {},
   "outputs": [
    {
     "data": {
      "text/plain": [
       "array(['Germany', 'Australia', 'Italy', 'UK', 'Japan', 'USA', 'France',\n",
       "       'Ireland', 'Belgium', 'Mexico', 'Czechoslovakia', 'South Korea',\n",
       "       'New Zealand', 'Hong Kong', 'Canada', 'China', 'USSR', 'Denmark',\n",
       "       'Austria', 'Sweden', 'Spain', 'India', 'Brazil', 'Switzerland',\n",
       "       'Netherlands', 'Poland', 'Czechia', 'Slovakia', 'Bulgaria',\n",
       "       'Hungary', '', 'Russia', 'Iceland', 'Turkey',\n",
       "       'United Arab Emirates', 'South Africa', 'Thailand', 'Greece',\n",
       "       'Norway', 'Argentina', 'Indonesia', 'Philippines', 'Colombia',\n",
       "       'Chile', 'Romania', 'Singapore', 'Israel', 'Cross Country',\n",
       "       'Ukraine', 'Dominican Republic', 'Libya', 'Iraq', 'Bolivia',\n",
       "       'Lithuania', 'Malaysia', 'Finland', 'Luxembourg', 'Taiwan',\n",
       "       'Syrian Arab Republic', 'Ivory Coast', 'Country Club', 'Bahamas',\n",
       "       'Cuba', 'Jamaica', 'Iran', 'Bosnia and Herzegovina',\n",
       "       'Burkina Faso', 'Nepal', 'Serbia', 'Portugal', 'Aruba', 'Ecuador',\n",
       "       'Panama', 'Estonia', 'Uganda', 'Jordan', 'Pakistan', 'Nigeria',\n",
       "       'Yugoslavia', 'Malawi', 'Ghana', 'Lebanon', 'Peru', 'Albania',\n",
       "       'Egypt', 'Netherlands Antilles', 'Mongolia', 'Benin',\n",
       "       '\"Lao Peoples Democratic Republic\"', 'Morocco', 'Croatia'],\n",
       "      dtype=object)"
      ]
     },
     "execution_count": 126,
     "metadata": {},
     "output_type": "execute_result"
    }
   ],
   "source": [
    "df['Countries'].unique()"
   ]
  },
  {
   "cell_type": "markdown",
   "id": "2961806e-e2f3-4ecd-8d71-efb530330dfe",
   "metadata": {},
   "source": [
    "Si bien no hay valores repetidos, observamos que una de las categorias es ' ' y procederemos a eliminar a las filas que la contenga."
   ]
  },
  {
   "cell_type": "markdown",
   "id": "b4b08bb6-36f4-4197-9dc1-e25cac8e69ed",
   "metadata": {},
   "source": [
    "Primero veremos cuantas filas contienen ' '"
   ]
  },
  {
   "cell_type": "code",
   "execution_count": 127,
   "id": "b85a7c79-bb21-4fee-a8c3-51b9f6ddebbb",
   "metadata": {},
   "outputs": [
    {
     "name": "stdout",
     "output_type": "stream",
     "text": [
      "105\n"
     ]
    }
   ],
   "source": [
    "conteo = (df['Countries'] == '').sum()\n",
    "print(conteo)"
   ]
  },
  {
   "cell_type": "code",
   "execution_count": 128,
   "id": "405fb5b9-f07d-4f2c-9845-ef020b7db031",
   "metadata": {},
   "outputs": [],
   "source": [
    "#Eliminamos los espacios en blanco al principio y al final de cada cadena.\n",
    "df['Countries'] = df['Countries'].str.strip()\n",
    "df = df[df['Countries'] != '']"
   ]
  },
  {
   "cell_type": "code",
   "execution_count": 129,
   "id": "45a2788b-0715-4316-aaf2-30fdcce1905e",
   "metadata": {},
   "outputs": [
    {
     "name": "stdout",
     "output_type": "stream",
     "text": [
      "\n",
      "Valores únicos en la columna 'Countries':\n",
      "['Germany' 'Australia' 'Italy' 'UK' 'Japan' 'USA' 'France' 'Ireland'\n",
      " 'Belgium' 'Mexico' 'Czechoslovakia' 'South Korea' 'New Zealand'\n",
      " 'Hong Kong' 'Canada' 'China' 'USSR' 'Denmark' 'Austria' 'Sweden' 'Spain'\n",
      " 'India' 'Brazil' 'Switzerland' 'Netherlands' 'Poland' 'Czechia'\n",
      " 'Slovakia' 'Bulgaria' 'Hungary' 'Russia' 'Iceland' 'Turkey'\n",
      " 'United Arab Emirates' 'South Africa' 'Thailand' 'Greece' 'Norway'\n",
      " 'Argentina' 'Indonesia' 'Philippines' 'Colombia' 'Chile' 'Romania'\n",
      " 'Singapore' 'Israel' 'Cross Country' 'Ukraine' 'Dominican Republic'\n",
      " 'Libya' 'Iraq' 'Bolivia' 'Lithuania' 'Malaysia' 'Finland' 'Luxembourg'\n",
      " 'Taiwan' 'Syrian Arab Republic' 'Ivory Coast' 'Country Club' 'Bahamas'\n",
      " 'Cuba' 'Jamaica' 'Iran' 'Bosnia and Herzegovina' 'Burkina Faso' 'Nepal'\n",
      " 'Serbia' 'Portugal' 'Aruba' 'Ecuador' 'Panama' 'Estonia' 'Uganda'\n",
      " 'Jordan' 'Pakistan' 'Nigeria' 'Yugoslavia' 'Malawi' 'Ghana' 'Lebanon'\n",
      " 'Peru' 'Albania' 'Egypt' 'Netherlands Antilles' 'Mongolia' 'Benin'\n",
      " '\"Lao Peoples Democratic Republic\"' 'Morocco' 'Croatia']\n"
     ]
    }
   ],
   "source": [
    "#Comprobamos la eliminación\n",
    "print(\"\\nValores únicos en la columna 'Countries':\")\n",
    "print(df['Countries'].unique())"
   ]
  },
  {
   "cell_type": "markdown",
   "id": "ecd9c9a8-49b7-4ac9-a15e-0ded3c456000",
   "metadata": {},
   "source": [
    "Realizamos el conteo"
   ]
  },
  {
   "cell_type": "code",
   "execution_count": 130,
   "id": "a0778f41-9f6d-442f-96ac-c15f729aa2a7",
   "metadata": {},
   "outputs": [
    {
     "name": "stdout",
     "output_type": "stream",
     "text": [
      "Countries\n",
      "USA                                  5636\n",
      "UK                                    863\n",
      "France                                525\n",
      "Italy                                 373\n",
      "Canada                                354\n",
      "                                     ... \n",
      "Netherlands Antilles                    1\n",
      "Mongolia                                1\n",
      "Benin                                   1\n",
      "\"Lao Peoples Democratic Republic\"       1\n",
      "Morocco                                 1\n",
      "Name: count, Length: 90, dtype: int64\n"
     ]
    }
   ],
   "source": [
    "conteo_Countries = df['Countries'].value_counts()\n",
    "print(conteo_Countries)"
   ]
  },
  {
   "cell_type": "markdown",
   "id": "4910950a-5359-437b-aa66-b3daed90a20c",
   "metadata": {},
   "source": [
    "*Studios*"
   ]
  },
  {
   "cell_type": "markdown",
   "id": "b5549f8d-5a82-467c-913d-d013d29f11db",
   "metadata": {},
   "source": [
    "Eliminar datos de la columna Studios, dejando solamente el primero"
   ]
  },
  {
   "cell_type": "code",
   "execution_count": 131,
   "id": "3b689370-3307-4c62-bcbd-177ec6a47aaf",
   "metadata": {},
   "outputs": [],
   "source": [
    "def extraer_primer_productor(cadena):\n",
    "    if isinstance(cadena, str):\n",
    "        productor = [g.strip() for g in cadena.split(',')]\n",
    "        return productor [0] if productor else ''\n",
    "    return ''\n",
    "df['Studios'] = df['Studios'].apply(extraer_primer_productor)"
   ]
  },
  {
   "cell_type": "code",
   "execution_count": 132,
   "id": "061a149d-c7e9-48a9-a170-f07883e47ad9",
   "metadata": {},
   "outputs": [
    {
     "name": "stdout",
     "output_type": "stream",
     "text": [
      "                       Studios\n",
      "0  ['Barbara Moorse Workshop']\n",
      "1     ['Warner Bros. Pictures'\n",
      "2          ['Seda Spettacoli']\n",
      "3         ['American Zoetrope'\n",
      "4                       ['MBS'\n"
     ]
    }
   ],
   "source": [
    "print(df[['Studios']].head())"
   ]
  },
  {
   "cell_type": "markdown",
   "id": "5d6c0ccc-0fc0-42ff-b9a6-742e9af8ffa4",
   "metadata": {},
   "source": [
    "Eliminamos los Studios repetidos y verificamos que se hayan realizado los cambios con exito."
   ]
  },
  {
   "cell_type": "code",
   "execution_count": 133,
   "id": "6627d2f1-45b3-4183-baa2-e2a07ff41935",
   "metadata": {},
   "outputs": [],
   "source": [
    "df['Studios'] = df['Studios'].astype(str)  \n",
    "\n",
    "df['Studios'] = df['Studios'].str.replace(r\"[\\[\\]']\", \"\", regex=True)\n",
    "\n",
    "df['Studios'] = df['Studios'].str.strip()\n",
    "\n",
    "df['Studios'] = df['Studios'].str.replace(r\"\\s*,\\s*\", \", \", regex=True)"
   ]
  },
  {
   "cell_type": "code",
   "execution_count": 134,
   "id": "d8b48480-4a64-4514-abe8-71295f10b1e0",
   "metadata": {},
   "outputs": [
    {
     "name": "stdout",
     "output_type": "stream",
     "text": [
      "Studios\n",
      "Paramount Pictures           303\n",
      "Universal Pictures           249\n",
      "                             222\n",
      "Columbia Pictures            217\n",
      "Warner Bros. Pictures        203\n",
      "                            ... \n",
      "Futura Films                   1\n",
      "C.A.P.A.C.                     1\n",
      "Carlton Film Export            1\n",
      "Films Jean Alexandre           1\n",
      "Testa Gay Cinematografica      1\n",
      "Name: count, Length: 4522, dtype: int64\n"
     ]
    }
   ],
   "source": [
    "conteo_Studios = df['Studios'].value_counts()\n",
    "print(conteo_Studios)"
   ]
  },
  {
   "cell_type": "markdown",
   "id": "9e333c52-7018-404e-83fa-ec6e7f5bdc55",
   "metadata": {},
   "source": [
    "*Director*"
   ]
  },
  {
   "cell_type": "markdown",
   "id": "52db8dd4-74c1-4fbe-acac-f74c5144eef2",
   "metadata": {},
   "source": [
    "Eliminar datos de la columna Director, dejando solamente el primero"
   ]
  },
  {
   "cell_type": "code",
   "execution_count": 135,
   "id": "1d4e0441-807d-4ed9-b1ad-703cd5df8c40",
   "metadata": {},
   "outputs": [],
   "source": [
    "def extraer_primer_director(cadena):\n",
    "    if isinstance(cadena, str):\n",
    "        pais = [g.strip() for g in cadena.split(',')]\n",
    "        return pais [0] if pais else ''\n",
    "    return ''\n",
    "df['Director'] = df['Director'].apply(extraer_primer_pais)"
   ]
  },
  {
   "cell_type": "code",
   "execution_count": 136,
   "id": "570f1441-a821-4124-b491-90afa4e503bf",
   "metadata": {},
   "outputs": [
    {
     "name": "stdout",
     "output_type": "stream",
     "text": [
      "Director\n",
      "Chuck Jones           54\n",
      "Cirio H. Santiago     41\n",
      "Antonio Margheriti    39\n",
      "William Witney        33\n",
      "Steven Spielberg      31\n",
      "                      ..\n",
      "Yuval Adler            1\n",
      "Ali Selim              1\n",
      "Jean Negulesco         1\n",
      "Clement Virgo          1\n",
      "Kazuo Komizu           1\n",
      "Name: count, Length: 4473, dtype: int64\n"
     ]
    }
   ],
   "source": [
    "conteo_directores = df['Director'].value_counts()\n",
    "print(conteo_directores)"
   ]
  },
  {
   "cell_type": "markdown",
   "id": "0bc7e4aa-b415-4739-b2a2-0d80073ee80f",
   "metadata": {},
   "source": [
    "**Columnas**"
   ]
  },
  {
   "cell_type": "markdown",
   "id": "97587a75-e1b9-4487-90c5-bd46d4913a55",
   "metadata": {},
   "source": [
    "*Creación de nueva variable*"
   ]
  },
  {
   "cell_type": "markdown",
   "id": "ac28745a-0442-439f-b84b-5b7023a7c144",
   "metadata": {},
   "source": [
    "Variable Porcentje_Likes"
   ]
  },
  {
   "cell_type": "code",
   "execution_count": 137,
   "id": "0ed9beef-9832-4ba2-9608-7dd9517b36a0",
   "metadata": {},
   "outputs": [
    {
     "name": "stdout",
     "output_type": "stream",
     "text": [
      "Index(['Film_title', 'Release_year', 'Director', 'Average_rating',\n",
      "       'Owner_rating', 'Genres', 'Runtime', 'Countries', 'Original_language',\n",
      "       'Spoken_languages', 'Description', 'Studios', 'Watches',\n",
      "       'List_appearances', 'Likes', 'Fans', '½', '★', '★½', '★★', '★★½', '★★★',\n",
      "       '★★★½', '★★★★', '★★★★½', '★★★★★', 'Total_ratings', 'Film_URL',\n",
      "       'Protagonista', 'Coprotagonista', 'Porcentaje_likes'],\n",
      "      dtype='object')\n"
     ]
    }
   ],
   "source": [
    "df['Porcentaje_likes'] = (df['Likes'] / df['Watches'])*100\n",
    "print(df.columns)"
   ]
  },
  {
   "cell_type": "markdown",
   "id": "fc273709-65b9-43e3-bcb3-e082494e2be3",
   "metadata": {},
   "source": [
    "*Eliminación de columnas*"
   ]
  },
  {
   "cell_type": "markdown",
   "id": "514e0698-8073-45f9-9c91-39c6b0deae19",
   "metadata": {},
   "source": [
    "Eliminamos las columnas que no utilizaremos para aplicar el modelo de aprendizaje supervisado, ya sea porque no son objeto de nuestro analisis o porque repiten información."
   ]
  },
  {
   "cell_type": "code",
   "execution_count": 138,
   "id": "4453b9a5-39ac-4c81-93d6-10018357edf3",
   "metadata": {},
   "outputs": [],
   "source": [
    "#Eliminación de columnas: Release_year por tener totalidad de datos faltantes y el resto de la columnas por no contener información necesaria para nuestro análisis\n",
    "df = df.drop(columns=['Release_year', 'Owner_rating' , 'Spoken_languages', 'List_appearances', 'Fans', 'Likes' ,  '½' , '★' , '★½' , '★★' , '★★½' , '★★★' , '★★★½' , '★★★★' , '★★★★½' , '★★★★★','Film_URL'])"
   ]
  },
  {
   "cell_type": "code",
   "execution_count": 139,
   "id": "84fae56b-5903-4c5e-8fef-d7b9b8350040",
   "metadata": {},
   "outputs": [
    {
     "data": {
      "text/plain": [
       "Film_title            object\n",
       "Director              object\n",
       "Average_rating       float64\n",
       "Genres                object\n",
       "Runtime              float64\n",
       "Countries             object\n",
       "Original_language     object\n",
       "Description           object\n",
       "Studios               object\n",
       "Watches                int64\n",
       "Total_ratings          int64\n",
       "Protagonista          object\n",
       "Coprotagonista        object\n",
       "Porcentaje_likes     float64\n",
       "dtype: object"
      ]
     },
     "execution_count": 139,
     "metadata": {},
     "output_type": "execute_result"
    }
   ],
   "source": [
    "#Comprobamos la eliminación de las columnas no deseadas\n",
    "df.shape\n",
    "df.dtypes"
   ]
  },
  {
   "cell_type": "markdown",
   "id": "3ff15922-fe58-4a4c-ac4b-1d606ef3f61d",
   "metadata": {},
   "source": [
    "*Traducción del nombre de las columnas*"
   ]
  },
  {
   "cell_type": "code",
   "execution_count": 140,
   "id": "8f34c445-45dc-4f65-9031-b953a2ed0df9",
   "metadata": {},
   "outputs": [
    {
     "name": "stdout",
     "output_type": "stream",
     "text": [
      "Index(['Titulo', 'Director', 'Calificación_promedio', 'Genero', 'Duración',\n",
      "       'Pais', 'Lenguaje', 'Descripción', 'Productora', 'Vistas', 'Ratings',\n",
      "       'Protagonista', 'Coprotagonista', 'Porcentaje_likes'],\n",
      "      dtype='object')\n"
     ]
    }
   ],
   "source": [
    "#Cambio del nombre de las columnas \n",
    "df = df.rename(columns={'Film_title' : 'Titulo' , 'Average_rating' : 'Calificación_promedio', 'Genres' : 'Genero', 'Runtime' : 'Duración' , 'Countries' : 'Pais' , 'Original_language' : 'Lenguaje' , 'Description' : 'Descripción' , 'Studios' : 'Productora' , 'Watches' : 'Vistas', 'Total_ratings': 'Ratings'})\n",
    "print(df.columns)"
   ]
  },
  {
   "cell_type": "markdown",
   "id": "5a0edbf4-6695-4488-b601-45fb2a9f5944",
   "metadata": {},
   "source": [
    "**Valores faltantes**"
   ]
  },
  {
   "cell_type": "markdown",
   "id": "858a391d-065b-4a08-a028-92ecbe7a6530",
   "metadata": {},
   "source": [
    "*Identificacion de valores faltantes y manejo* "
   ]
  },
  {
   "cell_type": "code",
   "execution_count": 141,
   "id": "2e9c78c4-f1ec-4e36-b431-f1eecb370043",
   "metadata": {},
   "outputs": [
    {
     "data": {
      "text/plain": [
       "Titulo                     0\n",
       "Director                   0\n",
       "Calificación_promedio    522\n",
       "Genero                     0\n",
       "Duración                   8\n",
       "Pais                       0\n",
       "Lenguaje                   0\n",
       "Descripción                2\n",
       "Productora                 0\n",
       "Vistas                     0\n",
       "Ratings                    0\n",
       "Protagonista               0\n",
       "Coprotagonista             0\n",
       "Porcentaje_likes           0\n",
       "dtype: int64"
      ]
     },
     "execution_count": 141,
     "metadata": {},
     "output_type": "execute_result"
    }
   ],
   "source": [
    "#Identificación de valores faltantes\n",
    "df.isnull().sum()"
   ]
  },
  {
   "cell_type": "markdown",
   "id": "93faded9-b11f-411f-be7d-86b89dbd5f14",
   "metadata": {},
   "source": [
    "Obtenemos % de datos faltantes numericos para definir el manejo de los mismos"
   ]
  },
  {
   "cell_type": "code",
   "execution_count": 142,
   "id": "75605ffe-00ab-4ae6-8328-d0b0a5989c31",
   "metadata": {},
   "outputs": [
    {
     "name": "stdout",
     "output_type": "stream",
     "text": [
      "El porcentaje máximo de valores nulos por columna es igual a 5.29 %\n"
     ]
    }
   ],
   "source": [
    "masnan = df.isnull().sum().max()\n",
    "filas_total= len(df)\n",
    "resultado1 = (masnan / filas_total) * 100\n",
    "print(f\"El porcentaje máximo de valores nulos por columna es igual a {resultado1:.2f} %\")"
   ]
  },
  {
   "cell_type": "markdown",
   "id": "96f2937a-f1cb-4cb2-b5b2-363756c8dfa1",
   "metadata": {},
   "source": [
    "La falta de datos numéricos es aleatoria y por lo tanto los manejaremos a través de la *Imputación Simple* utilizando la media, ya que con la *Eliminación de filas* perderíamos infrmación importante contenida en el resto de las columnas de la misma fila. Por otra parte, al ser bajo el % de datos faltantes respecto a la totalidad, la Imputación no cambiara la distribución de nuestros datos."
   ]
  },
  {
   "cell_type": "markdown",
   "id": "0fba7586-b467-48d2-a824-2f2df2bdc248",
   "metadata": {},
   "source": [
    "Se utiliza SimpleImputer(strategy='mean') para completar Calificación_promedio y Duración."
   ]
  },
  {
   "cell_type": "code",
   "execution_count": 143,
   "id": "20974b30-8c3f-41be-9c1a-77853c8e3261",
   "metadata": {},
   "outputs": [],
   "source": [
    "from sklearn.impute import SimpleImputer\n",
    "imp =SimpleImputer(strategy='mean')\n",
    "df['Calificación_promedio']=imp.fit_transform(df[['Calificación_promedio']])"
   ]
  },
  {
   "cell_type": "code",
   "execution_count": 144,
   "id": "3ac2c9b0-b746-46e3-ac4f-60f22569e93a",
   "metadata": {},
   "outputs": [],
   "source": [
    "from sklearn.impute import SimpleImputer\n",
    "imp =SimpleImputer(strategy='mean')\n",
    "df['Duración']=imp.fit_transform(df[['Duración']])"
   ]
  },
  {
   "cell_type": "code",
   "execution_count": 145,
   "id": "4c2e034c-e7e1-4b47-9384-a34b6cfe16b2",
   "metadata": {},
   "outputs": [
    {
     "data": {
      "text/plain": [
       "Titulo                   0\n",
       "Director                 0\n",
       "Calificación_promedio    0\n",
       "Genero                   0\n",
       "Duración                 0\n",
       "Pais                     0\n",
       "Lenguaje                 0\n",
       "Descripción              2\n",
       "Productora               0\n",
       "Vistas                   0\n",
       "Ratings                  0\n",
       "Protagonista             0\n",
       "Coprotagonista           0\n",
       "Porcentaje_likes         0\n",
       "dtype: int64"
      ]
     },
     "execution_count": 145,
     "metadata": {},
     "output_type": "execute_result"
    }
   ],
   "source": [
    "#Compruebo que la imputación de los datos numéricos se realizó con exito\n",
    "df.isnull().sum()"
   ]
  },
  {
   "cell_type": "markdown",
   "id": "c144a713-d90b-4db9-8aff-56cb6bbac684",
   "metadata": {},
   "source": [
    "Eliminación de datos faltantes categóricos"
   ]
  },
  {
   "cell_type": "code",
   "execution_count": 146,
   "id": "3923e0ac-9e55-4b1e-80dd-fe185d68d5fb",
   "metadata": {},
   "outputs": [
    {
     "name": "stdout",
     "output_type": "stream",
     "text": [
      "<class 'pandas.core.frame.DataFrame'>\n",
      "Index: 9871 entries, 0 to 10001\n",
      "Data columns (total 14 columns):\n",
      " #   Column                 Non-Null Count  Dtype  \n",
      "---  ------                 --------------  -----  \n",
      " 0   Titulo                 9871 non-null   object \n",
      " 1   Director               9871 non-null   object \n",
      " 2   Calificación_promedio  9871 non-null   float64\n",
      " 3   Genero                 9871 non-null   object \n",
      " 4   Duración               9871 non-null   float64\n",
      " 5   Pais                   9871 non-null   object \n",
      " 6   Lenguaje               9871 non-null   object \n",
      " 7   Descripción            9871 non-null   object \n",
      " 8   Productora             9871 non-null   object \n",
      " 9   Vistas                 9871 non-null   int64  \n",
      " 10  Ratings                9871 non-null   int64  \n",
      " 11  Protagonista           9871 non-null   object \n",
      " 12  Coprotagonista         9871 non-null   object \n",
      " 13  Porcentaje_likes       9871 non-null   float64\n",
      "dtypes: float64(3), int64(2), object(9)\n",
      "memory usage: 1.1+ MB\n"
     ]
    }
   ],
   "source": [
    "df = df.dropna(subset=['Descripción'], axis=0) \n",
    "df.info()"
   ]
  },
  {
   "cell_type": "markdown",
   "id": "2e0abc26-72ad-41df-95aa-fe374d6dbcb2",
   "metadata": {},
   "source": [
    "**Outliers**"
   ]
  },
  {
   "cell_type": "markdown",
   "id": "a82e5852-2455-40dc-a09f-4c5c154e657a",
   "metadata": {},
   "source": [
    "*Identificacion de Outliers y manejo*"
   ]
  },
  {
   "cell_type": "markdown",
   "id": "ce5f4006-b9e2-4d74-ab91-3756342d657c",
   "metadata": {},
   "source": [
    "Identificamos que variables contienen valores numericos"
   ]
  },
  {
   "cell_type": "code",
   "execution_count": 147,
   "id": "b69b6122-cffa-4ded-a005-ff342a233a62",
   "metadata": {},
   "outputs": [
    {
     "name": "stdout",
     "output_type": "stream",
     "text": [
      "Index(['Calificación_promedio', 'Duración', 'Vistas', 'Ratings',\n",
      "       'Porcentaje_likes'],\n",
      "      dtype='object')\n"
     ]
    }
   ],
   "source": [
    "print(df.select_dtypes(include=['number']).columns)"
   ]
  },
  {
   "cell_type": "markdown",
   "id": "b80fb7ae-7e0a-466c-aec6-9886c8042e21",
   "metadata": {},
   "source": [
    "Visualización de distribución y valores extremos para luego seleccionar la estrategia de manejo."
   ]
  },
  {
   "cell_type": "code",
   "execution_count": 148,
   "id": "02e7caac-f2b3-495e-88cb-803bae770aaa",
   "metadata": {},
   "outputs": [
    {
     "data": {
      "image/png": "[encoded data removed]",
      "text/plain": [
       "<Figure size 500x500 with 1 Axes>"
      ]
     },
     "metadata": {},
     "output_type": "display_data"
    }
   ],
   "source": [
    "sns.displot(df['Calificación_promedio'], kde=True) \n",
    "sns.despine() "
   ]
  },
  {
   "cell_type": "code",
   "execution_count": 149,
   "id": "8308e396-071f-4e68-97f9-c25d04013b04",
   "metadata": {},
   "outputs": [
    {
     "data": {
      "image/png": "[encoded data removed]",
      "text/plain": [
       "<Figure size 500x500 with 1 Axes>"
      ]
     },
     "metadata": {},
     "output_type": "display_data"
    }
   ],
   "source": [
    "sns.displot(df['Duración'], kde=True) \n",
    "sns.despine() "
   ]
  },
  {
   "cell_type": "markdown",
   "id": "0216303c-c533-4732-83d2-6288cad11138",
   "metadata": {},
   "source": [
    "Debido a que las variables Calificación promedio y Duración presentan distribución normal utilizaremos zscore para detectar outliers"
   ]
  },
  {
   "cell_type": "markdown",
   "id": "85d4455a-4f38-4332-a5c3-60f6634bd54e",
   "metadata": {},
   "source": [
    "*Calificación_promedio*"
   ]
  },
  {
   "cell_type": "code",
   "execution_count": 150,
   "id": "60c83c48-eb21-4030-99fa-70972761e4ea",
   "metadata": {},
   "outputs": [
    {
     "name": "stdout",
     "output_type": "stream",
     "text": [
      "Cantidad de outliers encontrados: 54\n",
      "      Calificación_promedio    zscore\n",
      "157                    1.49 -3.370698\n",
      "650                    1.57 -3.219093\n",
      "1050                   1.66 -3.048536\n",
      "1100                   1.65 -3.067487\n",
      "1172                   1.68 -3.010635\n",
      "1705                   1.35 -3.636009\n",
      "1827                   1.43 -3.484403\n",
      "1993                   1.56 -3.238043\n",
      "2506                   1.28 -3.768664\n",
      "2575                   1.49 -3.370698\n",
      "2935                   1.53 -3.294896\n",
      "3215                   1.63 -3.105388\n",
      "3220                   1.11 -4.090826\n",
      "3221                   1.40 -3.541255\n",
      "3222                   1.54 -3.275945\n",
      "3223                   1.57 -3.219093\n",
      "3227                   1.62 -3.124339\n",
      "3812                   1.34 -3.654959\n",
      "4176                   1.24 -3.844467\n",
      "4178                   1.29 -3.749713\n",
      "4333                   1.60 -3.162240\n",
      "4366                   1.44 -3.465452\n",
      "4367                   1.68 -3.010635\n",
      "4531                   1.52 -3.313846\n",
      "4652                   1.43 -3.484403\n",
      "5086                   1.48 -3.389649\n",
      "5188                   1.40 -3.541255\n",
      "5762                   1.64 -3.086438\n",
      "5955                   1.56 -3.238043\n",
      "6093                   1.58 -3.200142\n",
      "6097                   1.29 -3.749713\n",
      "6125                   1.41 -3.522304\n",
      "6177                   1.62 -3.124339\n",
      "6371                   1.40 -3.541255\n",
      "7094                   1.60 -3.162240\n",
      "7362                   1.54 -3.275945\n",
      "7556                   1.55 -3.256994\n",
      "7593                   1.43 -3.484403\n",
      "7698                   1.55 -3.256994\n",
      "7699                   1.09 -4.128728\n",
      "7704                   1.44 -3.465452\n",
      "7706                   1.64 -3.086438\n",
      "7759                   1.67 -3.029585\n",
      "7893                   1.35 -3.636009\n",
      "8168                   1.49 -3.370698\n",
      "8175                   1.39 -3.560206\n",
      "8178                   1.08 -4.147678\n",
      "8561                   1.57 -3.219093\n",
      "9098                   1.52 -3.313846\n",
      "9249                   1.41 -3.522304\n",
      "9310                   1.59 -3.181191\n",
      "9350                   1.58 -3.200142\n",
      "9567                   1.64 -3.086438\n",
      "9636                   1.59 -3.181191\n"
     ]
    }
   ],
   "source": [
    "from scipy.stats import zscore\n",
    "df['zscore'] = zscore(df['Calificación_promedio'])\n",
    "\n",
    "outliers = df[(df['zscore'] > 3) | (df['zscore'] < -3)]\n",
    "\n",
    "print(\"Cantidad de outliers encontrados:\", len(outliers))\n",
    "print(outliers[['Calificación_promedio', 'zscore']])"
   ]
  },
  {
   "cell_type": "code",
   "execution_count": 151,
   "id": "2066c043-0d18-483f-8f7f-bce27a600a40",
   "metadata": {},
   "outputs": [
    {
     "name": "stdout",
     "output_type": "stream",
     "text": [
      "Valor mínimo: 1.08\n",
      "Valor máximo: 4.71\n"
     ]
    }
   ],
   "source": [
    "print(\"Valor mínimo:\", df['Calificación_promedio'].min())\n",
    "print(\"Valor máximo:\", df['Calificación_promedio'].max())"
   ]
  },
  {
   "cell_type": "markdown",
   "id": "537df46c-c55b-41a4-ae93-cde9d2c57d50",
   "metadata": {},
   "source": [
    "La calificación promedio tiene un rango de 1 a 5 por lo tanto los valores que estadisticamente son identificados como outliers, son calificaciones promedio bajas pero se encuntran dentro del rango que podria recibir una pelicula, por lo tanto dichos valores seran conservados."
   ]
  },
  {
   "cell_type": "markdown",
   "id": "00c200ce-db49-4633-893a-17cfe39b21a6",
   "metadata": {},
   "source": [
    "*Duración*"
   ]
  },
  {
   "cell_type": "code",
   "execution_count": 152,
   "id": "e3e5a3cd-7c1e-46be-ae60-769bce1883df",
   "metadata": {},
   "outputs": [
    {
     "name": "stdout",
     "output_type": "stream",
     "text": [
      "Cantidad de outliers encontrados: 105\n",
      "      Duración     zscore\n",
      "12       228.0   3.297172\n",
      "145      233.0   3.429602\n",
      "369      467.0   9.627332\n",
      "717      379.0   7.296562\n",
      "889      316.0   5.627942\n",
      "...        ...        ...\n",
      "9908     600.0  13.149973\n",
      "9909     300.0   5.204166\n",
      "9916     585.0  12.752683\n",
      "9994     344.0   6.369551\n",
      "9996     270.0   4.409585\n",
      "\n",
      "[105 rows x 2 columns]\n"
     ]
    }
   ],
   "source": [
    "from scipy.stats import zscore\n",
    "df['zscore'] = zscore(df['Duración'])\n",
    "\n",
    "outliers = df[(df['zscore'] > 3) | (df['zscore'] < -3)]\n",
    "\n",
    "print(\"Cantidad de outliers encontrados:\", len(outliers))\n",
    "print(outliers[['Duración', 'zscore']])"
   ]
  },
  {
   "cell_type": "markdown",
   "id": "4c9ad854-2c66-4535-a492-0ee42eda4663",
   "metadata": {},
   "source": [
    "Hacemos un top 10 de las peliculas con mayor duracion para ver a que se tratan los valores fuera de rango."
   ]
  },
  {
   "cell_type": "code",
   "execution_count": 153,
   "id": "7734ece0-6b85-45da-acbd-9a3d11304944",
   "metadata": {},
   "outputs": [
    {
     "name": "stdout",
     "output_type": "stream",
     "text": [
      "                             Titulo                  Director  \\\n",
      "8827          Berlin Alexanderplatz  Rainer Werner Fassbinder   \n",
      "3082                          Out 1           Jacques Rivette   \n",
      "7517                Big Little Lies          Jean-Marc Vallée   \n",
      "9166                    I, Claudius              Herbert Wise   \n",
      "4376           Brideshead Revisited         Charles Sturridge   \n",
      "9908                     Your Honor             Edward Berger   \n",
      "9916       The Underground Railroad             Barry Jenkins   \n",
      "1821                          Shoah           Claude Lanzmann   \n",
      "7542  Tie Xi Qu: West of the Tracks                 Wang Bing   \n",
      "6193                  Into the West           Robert Dornhelm   \n",
      "\n",
      "      Calificación_promedio       Genero  Duración     Pais Lenguaje  \\\n",
      "8827                   4.23        Crime     907.0  Germany   German   \n",
      "3082                   4.06      Mystery     743.0   France   French   \n",
      "7517                   4.33        Drama     702.0      USA  English   \n",
      "9166                   4.29        Drama     669.0       UK  English   \n",
      "4376                   4.22        Drama     659.0       UK  English   \n",
      "9908                   3.58        Drama     600.0      USA  English   \n",
      "9916                   4.13        Drama     585.0      USA  English   \n",
      "1821                   4.51  Documentary     566.0   France   French   \n",
      "7542                   4.38  Documentary     551.0    China  Chinese   \n",
      "6193                   3.58        Drama     540.0      USA  English   \n",
      "\n",
      "                                            Descripción  \\\n",
      "8827  In late 1920s Berlin, Franz Biberkopf is relea...   \n",
      "3082  While two theater groups rehearse plays by Aes...   \n",
      "7517  The tale of three mothers of first graders who...   \n",
      "9166  Acclaimed blackly comic historical drama serie...   \n",
      "4376  Charles Ryder, an agnostic man, becomes involv...   \n",
      "9908  New Orleans judge Michael Desiato is forced to...   \n",
      "9916  Follow young Cora’s journey as she makes a des...   \n",
      "1821  Director Claude Lanzmann spent 11 years on thi...   \n",
      "7542  A detailed look at the gradual decline of Shen...   \n",
      "6193  The lives of two families, one white American,...   \n",
      "\n",
      "                       Productora  Vistas  Ratings      Protagonista  \\\n",
      "8827                 Bavaria Film    9689     5591  Günter Lamprecht   \n",
      "3082         Les Films du Losange    7217     4447      Juliet Berto   \n",
      "7517  David E. Kelley Productions  263344   151202     Nicole Kidman   \n",
      "9166     London Films Productions    5509     3301      Derek Jacobi   \n",
      "4376           Granada Television    5214     2816      Jeremy Irons   \n",
      "9908        King Size Productions   16390    11545    Bryan Cranston   \n",
      "9916         Plan B Entertainment   10372     6959       Thuso Mbedu   \n",
      "1821                     Historia   25058    14349   Claude Lanzmann   \n",
      "7542      Wang Bing Film Workshop    5703     3538              None   \n",
      "6193        DreamWorks Television    1177      611       Will Patton   \n",
      "\n",
      "         Coprotagonista  Porcentaje_likes     zscore  \n",
      "8827    Hanna Schygulla         31.706058  21.281183  \n",
      "3082  Jean-Pierre Léaud         36.012193  16.937475  \n",
      "7517  Reese Witherspoon         30.779133  15.851548  \n",
      "9166      Siân Phillips         33.889998  14.977509  \n",
      "4376    Anthony Andrews         34.253932  14.712649  \n",
      "9908         Hope Davis         21.683954  13.149973  \n",
      "9916    Chase W. Dillon         32.934825  12.752683  \n",
      "1821      Simon Srebnik         27.384468  12.249448  \n",
      "7542               None         39.347712  11.852158  \n",
      "6193    Jessica Capshaw         16.227698  11.560812  \n"
     ]
    }
   ],
   "source": [
    "top10 = df.sort_values(by='Duración', ascending=False).head(10)\n",
    "print(top10)"
   ]
  },
  {
   "cell_type": "markdown",
   "id": "c9cb682a-2f9d-49e9-bcc9-153dfe800212",
   "metadata": {},
   "source": [
    "Cuando analizamos los ouliers de duración observamos que los valores mas altos son series y no son objeto de nuestro estudio, por lo tanto buscaremos palabras claves dentro del titulo y la descripción que nos indiquen cuantas hay."
   ]
  },
  {
   "cell_type": "code",
   "execution_count": 154,
   "id": "a04a3a67-bc05-47d0-afcf-071ce661d0b2",
   "metadata": {},
   "outputs": [
    {
     "name": "stdout",
     "output_type": "stream",
     "text": [
      "1077\n"
     ]
    }
   ],
   "source": [
    "keywords = ['season', 'episode', 'series', 'part']\n",
    "\n",
    "def check_series(row):\n",
    "    Titulo = str(row['Titulo']).lower() if pd.notna(row['Titulo']) else ''\n",
    "    Descripción = str(row['Descripción']).lower() if pd.notna(row['Descripción']) else ''\n",
    "    text = Titulo + Descripción  \n",
    "    return any(keyword in text for keyword in keywords)\n",
    "\n",
    "df['is_series'] = df.apply(check_series, axis=1)\n",
    "print(df['is_series'].sum())"
   ]
  },
  {
   "cell_type": "markdown",
   "id": "7e197ba2-0d92-4efa-9aff-d299d36c95c0",
   "metadata": {},
   "source": [
    "Eliminamos las series "
   ]
  },
  {
   "cell_type": "code",
   "execution_count": 155,
   "id": "0712f91b-7958-4f30-a058-ba4a86eca6a7",
   "metadata": {},
   "outputs": [],
   "source": [
    "df = df[~df['is_series']]"
   ]
  },
  {
   "cell_type": "markdown",
   "id": "c73fb404-252b-4ce2-9fa4-15054a28be4f",
   "metadata": {},
   "source": [
    "Volvemos a realizar el analisis de los outliers"
   ]
  },
  {
   "cell_type": "code",
   "execution_count": 156,
   "id": "f4816d08-7c59-4312-9ea9-3a693cfb3663",
   "metadata": {},
   "outputs": [
    {
     "name": "stdout",
     "output_type": "stream",
     "text": [
      "Cantidad de outliers encontrados: 88\n",
      "      Duración     zscore\n",
      "12       228.0   3.398041\n",
      "145      233.0   3.534422\n",
      "369      467.0   9.917053\n",
      "717      379.0   7.516747\n",
      "889      316.0   5.798346\n",
      "...        ...        ...\n",
      "9835     326.0   6.071108\n",
      "9908     600.0  13.544787\n",
      "9909     300.0   5.361927\n",
      "9916     585.0  13.135644\n",
      "9994     344.0   6.562080\n",
      "\n",
      "[88 rows x 2 columns]\n"
     ]
    }
   ],
   "source": [
    "from scipy.stats import zscore\n",
    "df['zscore'] = zscore(df['Duración'])\n",
    "\n",
    "outliers = df[(df['zscore'] > 3) | (df['zscore'] < -3)]\n",
    "\n",
    "print(\"Cantidad de outliers encontrados:\", len(outliers))\n",
    "print(outliers[['Duración', 'zscore']])"
   ]
  },
  {
   "cell_type": "code",
   "execution_count": 157,
   "id": "5e9cc504-49a9-4a68-bde4-bee880dc281b",
   "metadata": {},
   "outputs": [
    {
     "name": "stdout",
     "output_type": "stream",
     "text": [
      "                             Titulo                  Director  \\\n",
      "8827          Berlin Alexanderplatz  Rainer Werner Fassbinder   \n",
      "3082                          Out 1           Jacques Rivette   \n",
      "7517                Big Little Lies          Jean-Marc Vallée   \n",
      "4376           Brideshead Revisited         Charles Sturridge   \n",
      "9908                     Your Honor             Edward Berger   \n",
      "9916       The Underground Railroad             Barry Jenkins   \n",
      "1821                          Shoah           Claude Lanzmann   \n",
      "7542  Tie Xi Qu: West of the Tracks                 Wang Bing   \n",
      "6193                  Into the West           Robert Dornhelm   \n",
      "8689                      The Stand                Josh Boone   \n",
      "\n",
      "      Calificación_promedio       Genero  Duración     Pais Lenguaje  \\\n",
      "8827                   4.23        Crime     907.0  Germany   German   \n",
      "3082                   4.06      Mystery     743.0   France   French   \n",
      "7517                   4.33        Drama     702.0      USA  English   \n",
      "4376                   4.22        Drama     659.0       UK  English   \n",
      "9908                   3.58        Drama     600.0      USA  English   \n",
      "9916                   4.13        Drama     585.0      USA  English   \n",
      "1821                   4.51  Documentary     566.0   France   French   \n",
      "7542                   4.38  Documentary     551.0    China  Chinese   \n",
      "6193                   3.58        Drama     540.0      USA  English   \n",
      "8689                   2.75        Drama     515.0      USA  English   \n",
      "\n",
      "                                            Descripción  \\\n",
      "8827  In late 1920s Berlin, Franz Biberkopf is relea...   \n",
      "3082  While two theater groups rehearse plays by Aes...   \n",
      "7517  The tale of three mothers of first graders who...   \n",
      "4376  Charles Ryder, an agnostic man, becomes involv...   \n",
      "9908  New Orleans judge Michael Desiato is forced to...   \n",
      "9916  Follow young Cora’s journey as she makes a des...   \n",
      "1821  Director Claude Lanzmann spent 11 years on thi...   \n",
      "7542  A detailed look at the gradual decline of Shen...   \n",
      "6193  The lives of two families, one white American,...   \n",
      "8689  In a world mostly wiped out by the plague and ...   \n",
      "\n",
      "                       Productora  Vistas  Ratings      Protagonista  \\\n",
      "8827                 Bavaria Film    9689     5591  Günter Lamprecht   \n",
      "3082         Les Films du Losange    7217     4447      Juliet Berto   \n",
      "7517  David E. Kelley Productions  263344   151202     Nicole Kidman   \n",
      "4376           Granada Television    5214     2816      Jeremy Irons   \n",
      "9908        King Size Productions   16390    11545    Bryan Cranston   \n",
      "9916         Plan B Entertainment   10372     6959       Thuso Mbedu   \n",
      "1821                     Historia   25058    14349   Claude Lanzmann   \n",
      "7542      Wang Bing Film Workshop    5703     3538              None   \n",
      "6193        DreamWorks Television    1177      611       Will Patton   \n",
      "8689                  CBS Studios    8810     6044     James Marsden   \n",
      "\n",
      "         Coprotagonista  Porcentaje_likes     zscore  is_series  \n",
      "8827    Hanna Schygulla         31.706058  21.918581      False  \n",
      "3082  Jean-Pierre Léaud         36.012193  17.445284      False  \n",
      "7517  Reese Witherspoon         30.779133  16.326960      False  \n",
      "4376    Anthony Andrews         34.253932  15.154083      False  \n",
      "9908         Hope Davis         21.683954  13.544787      False  \n",
      "9916    Chase W. Dillon         32.934825  13.135644      False  \n",
      "1821      Simon Srebnik         27.384468  12.617396      False  \n",
      "7542               None         39.347712  12.208253      False  \n",
      "6193    Jessica Capshaw         16.227698  11.908215      False  \n",
      "8689       Odessa Young         13.666288  11.226310      False  \n"
     ]
    }
   ],
   "source": [
    "top10 = df.sort_values(by='Duración', ascending=False).head(10)\n",
    "print(top10)"
   ]
  },
  {
   "cell_type": "markdown",
   "id": "acdbbe88-cb5d-4a87-8169-55094886a5fe",
   "metadata": {},
   "source": [
    "Observamos que no se eliminaron todos los outliers y que seguimos teniendo series en nuestra lista, por lo tanto pondremos un limite de 210 minutos (3,5 horas)."
   ]
  },
  {
   "cell_type": "code",
   "execution_count": 158,
   "id": "4cc8411e-eb32-4a8f-a154-bf7f841990dc",
   "metadata": {},
   "outputs": [
    {
     "name": "stdout",
     "output_type": "stream",
     "text": [
      "Filas originales: 8704\n",
      "Filas después del filtrado: 8704\n"
     ]
    }
   ],
   "source": [
    "df = df[df['Duración'] <= 210.0]\n",
    "\n",
    "# Mostrar cantidad de filas antes y después\n",
    "print(\"Filas originales:\", len(df))\n",
    "print(\"Filas después del filtrado:\", len(df))"
   ]
  },
  {
   "cell_type": "code",
   "execution_count": 159,
   "id": "bff0403a-2b10-4a93-881c-6bdf1d33c850",
   "metadata": {},
   "outputs": [
    {
     "name": "stdout",
     "output_type": "stream",
     "text": [
      "                       Titulo                  Director  \\\n",
      "8826            Mrs. Fletcher         Nicole Holofcener   \n",
      "7530             The Irishman           Martin Scorsese   \n",
      "2691            War and Peace                King Vidor   \n",
      "1842            Seven Samurai            Akira Kurosawa   \n",
      "5414               Shackleton         Charles Sturridge   \n",
      "2986  The Fighting Devil Dogs              John English   \n",
      "5526          World on a Wire  Rainer Werner Fassbinder   \n",
      "3071            Boccaccio '70          Vittorio De Sica   \n",
      "1319                Malcolm X                 Spike Lee   \n",
      "1335                    Giant            George Stevens   \n",
      "\n",
      "      Calificación_promedio           Genero  Duración       Pais  Lenguaje  \\\n",
      "8826               3.600000            Drama     210.0        USA   English   \n",
      "7530               3.910000          History     209.0        USA   English   \n",
      "2691               3.350000            Drama     208.0      Italy   English   \n",
      "1842               4.610000            Drama     207.0      Japan  Japanese   \n",
      "5414               3.500000            Drama     206.0  Australia   English   \n",
      "2986               3.268664  Science Fiction     204.0        USA   English   \n",
      "5526               4.100000          Mystery     204.0    Germany    German   \n",
      "3071               3.630000          Romance     204.0     France   Italian   \n",
      "1319               4.250000          History     202.0        USA   English   \n",
      "1335               3.880000            Drama     201.0        USA   English   \n",
      "\n",
      "                                            Descripción  \\\n",
      "8826  A dual coming-of-age comedy exploring the impa...   \n",
      "7530  Pennsylvania, 1956. Frank Sheeran, a war veter...   \n",
      "2691  Napoleon's tumultuous relations with Russia in...   \n",
      "1842  A samurai answers a village's request for prot...   \n",
      "5414  The true story of Ernest Shackleton's 1914 End...   \n",
      "2986  Two marine lieutenants battle a masked would-b...   \n",
      "5526  Cybernetics engineer Fred Stiller uncovers a m...   \n",
      "3071  An anthology of four comic moral tales about t...   \n",
      "1319  A tribute to the controversial black activist ...   \n",
      "1335  Wealthy rancher Bick Benedict and dirt-poor co...   \n",
      "\n",
      "                         Productora   Vistas  Ratings       Protagonista  \\\n",
      "8826                            HBO    10902     6843       Kathryn Hahn   \n",
      "7530            Tribeca Productions  1074634   749429     Robert De Niro   \n",
      "2691             Paramount Pictures    13446     7772     Audrey Hepburn   \n",
      "1842                           TOHO   471535   322316     Toshirō Mifune   \n",
      "5414               A+E Global Media     1208      653    Kenneth Branagh   \n",
      "2986              Republic Pictures       65       37         Lee Powell   \n",
      "5526                            WDR    22553    14815     Klaus Löwitsch   \n",
      "3071                        Cineriz     8379     4871     Marisa Solinas   \n",
      "1319  40 Acres and a Mule Filmworks   212589   135837  Denzel Washington   \n",
      "1335          Warner Bros. Pictures    51596    31302   Elizabeth Taylor   \n",
      "\n",
      "       Coprotagonista  Porcentaje_likes    zscore  is_series  \n",
      "8826    Jackson White         28.059072  2.907069      False  \n",
      "7530        Al Pacino         27.460047  2.879793      False  \n",
      "2691      Henry Fonda         16.763350  2.852517      False  \n",
      "1842  Takashi Shimura         39.599393  2.825241      False  \n",
      "5414      John Grillo         16.142384  2.797964      False  \n",
      "2986    Bruce Bennett         26.153846  2.743412      False  \n",
      "5526    Mascha Rabben         33.875759  2.743412      False  \n",
      "3071     Anita Ekberg         20.909416  2.743412      False  \n",
      "1319   Angela Bassett         29.814807  2.688860      False  \n",
      "1335      Rock Hudson         24.228622  2.661583      False  \n"
     ]
    }
   ],
   "source": [
    "top10 = df.sort_values(by='Duración', ascending=False).head(10)\n",
    "print(top10)"
   ]
  },
  {
   "cell_type": "markdown",
   "id": "73578f77-2898-4346-8932-945a3fe8331e",
   "metadata": {},
   "source": [
    "Observamos que el filtro se aplicó con exito"
   ]
  },
  {
   "cell_type": "markdown",
   "id": "99d2b46f-ec86-4a31-a412-7f5c8ec1b925",
   "metadata": {},
   "source": [
    "Debido a que las variable Vistas y Ratings tienen sesgo utilizaremos el metodo Rango intercuartilico para detectar outliers"
   ]
  },
  {
   "cell_type": "code",
   "execution_count": 160,
   "id": "d3db2beb-67f6-4057-a8ac-74c59b79a46d",
   "metadata": {},
   "outputs": [
    {
     "data": {
      "image/png": "[encoded data removed]",
      "text/plain": [
       "<Figure size 500x500 with 1 Axes>"
      ]
     },
     "metadata": {},
     "output_type": "display_data"
    }
   ],
   "source": [
    "sns.displot(df['Vistas'], kde=True) \n",
    "sns.despine() "
   ]
  },
  {
   "cell_type": "code",
   "execution_count": 161,
   "id": "8be6f625-b597-477c-aa72-d584e9d23ee4",
   "metadata": {},
   "outputs": [
    {
     "data": {
      "image/png": "[encoded data removed]",
      "text/plain": [
       "<Figure size 500x500 with 1 Axes>"
      ]
     },
     "metadata": {},
     "output_type": "display_data"
    }
   ],
   "source": [
    "sns.displot(df['Ratings'], kde=True) \n",
    "sns.despine() "
   ]
  },
  {
   "cell_type": "code",
   "execution_count": 162,
   "id": "59debdf6-edbd-468d-b03d-02a127fc0d85",
   "metadata": {},
   "outputs": [
    {
     "data": {
      "image/png": "[encoded data removed]",
      "text/plain": [
       "<Figure size 500x500 with 1 Axes>"
      ]
     },
     "metadata": {},
     "output_type": "display_data"
    }
   ],
   "source": [
    "sns.displot(df['Porcentaje_likes'], kde=True) \n",
    "sns.despine() "
   ]
  },
  {
   "cell_type": "markdown",
   "id": "d3c65b96-582c-4a23-888f-f9f570333d2f",
   "metadata": {},
   "source": [
    "La columna Vistas, Ratings y Porcentaje_likes presentan sesgo por lo tanto utilizaremos el metodo de rango intercuartilico para detectar outliers"
   ]
  },
  {
   "cell_type": "markdown",
   "id": "e10b6dad-2d23-4f8a-a082-730d67e7bad8",
   "metadata": {},
   "source": [
    "*Vistas*"
   ]
  },
  {
   "cell_type": "code",
   "execution_count": 163,
   "id": "1878513b-4fe4-4049-951e-be62d16d9f01",
   "metadata": {},
   "outputs": [
    {
     "name": "stdout",
     "output_type": "stream",
     "text": [
      "Cantidad de outliers encontrados: 1254\n",
      "       Vistas\n",
      "1     2488721\n",
      "3     1596190\n",
      "4      873068\n",
      "6      283873\n",
      "7     3014320\n",
      "...       ...\n",
      "9933   367484\n",
      "9934   304029\n",
      "9967   328284\n",
      "9968   697663\n",
      "9978   889283\n",
      "\n",
      "[1254 rows x 1 columns]\n"
     ]
    }
   ],
   "source": [
    "Q1 = df['Vistas'].quantile(0.25)\n",
    "Q3 = df['Vistas'].quantile(0.75)\n",
    "IQR = Q3 - Q1\n",
    "\n",
    "# Límites\n",
    "limite_inferior = Q1 - 1.5 * IQR\n",
    "limite_superior = Q3 + 1.5 * IQR\n",
    "\n",
    "# Identificar outliers\n",
    "outliers = df[(df['Vistas'] < limite_inferior) | (df['Vistas'] > limite_superior)]\n",
    "print(\"Cantidad de outliers encontrados:\", len(outliers))\n",
    "print(outliers[['Vistas']])"
   ]
  },
  {
   "cell_type": "code",
   "execution_count": 164,
   "id": "689827e6-e6b7-482f-8a32-6564cbc571e0",
   "metadata": {},
   "outputs": [
    {
     "name": "stdout",
     "output_type": "stream",
     "text": [
      "                                 Titulo           Director  \\\n",
      "9826                             Barbie       Greta Gerwig   \n",
      "265                          Fight Club      David Fincher   \n",
      "243                        Interstellar  Christopher Nolan   \n",
      "7554                           Parasite       Bong Joon Ho   \n",
      "7552                              Joker      Todd Phillips   \n",
      "9817  Spider-Man: Into the Spider-Verse    Bob Persichetti   \n",
      "18                      The Truman Show         Peter Weir   \n",
      "862                           Inception  Christopher Nolan   \n",
      "1232                        Ratatouille          Brad Bird   \n",
      "634                        Forrest Gump    Robert Zemeckis   \n",
      "\n",
      "      Calificación_promedio           Genero  Duración         Pais Lenguaje  \\\n",
      "9826                   3.78           Comedy     114.0           UK  English   \n",
      "265                    4.27            Drama     139.0      Germany  English   \n",
      "243                    4.41  Science Fiction     169.0           UK  English   \n",
      "7554                   4.55           Comedy     133.0  South Korea   Korean   \n",
      "7552                   3.84            Crime     122.0       Canada  English   \n",
      "9817                   4.41        Adventure     117.0          USA  English   \n",
      "18                     4.22           Comedy     103.0          USA  English   \n",
      "862                    4.21           Action     148.0           UK  English   \n",
      "1232                   4.22        Animation     111.0          USA  English   \n",
      "634                    4.15            Drama     142.0          USA  English   \n",
      "\n",
      "                                            Descripción  \\\n",
      "9826  Barbie and Ken are having the time of their li...   \n",
      "265   A ticking-time-bomb insomniac and a slippery s...   \n",
      "243   The adventures of a group of explorers who mak...   \n",
      "7554  All unemployed, Ki-taek's family takes peculia...   \n",
      "7552  During the 1980s, a failed stand-up comedian i...   \n",
      "9817  Struggling to find his place in the world whil...   \n",
      "18    Every second of every day, from the moment he ...   \n",
      "862   Cobb, a skilled thief who commits corporate es...   \n",
      "1232  Remy, a resident of Paris, appreciates good fo...   \n",
      "634   A man with a low IQ has accomplished great thi...   \n",
      "\n",
      "                   Productora   Vistas  Ratings         Protagonista  \\\n",
      "9826  LuckyChap Entertainment  5195503  4091037        Margot Robbie   \n",
      "265         Fox 2000 Pictures  5059722  3581103        Edward Norton   \n",
      "243        Legendary Pictures  5044987  3700599  Matthew McConaughey   \n",
      "7554             Barunson E&A  5015041  3800561         Song Kang-ho   \n",
      "7552    Warner Bros. Pictures  4952400  3475013      Joaquin Phoenix   \n",
      "9817        Columbia Pictures  4446217  3177015        Shameik Moore   \n",
      "18         Paramount Pictures  4382819  2926289           Jim Carrey   \n",
      "862        Legendary Pictures  4326850  2822912    Leonardo DiCaprio   \n",
      "1232                    Pixar  4261300  2432446        Patton Oswalt   \n",
      "634        Paramount Pictures  4222068  2544494            Tom Hanks   \n",
      "\n",
      "            Coprotagonista  Porcentaje_likes    zscore  is_series  \n",
      "9826          Ryan Gosling         41.196820  0.288554      False  \n",
      "265              Brad Pitt         45.961517  0.970459      False  \n",
      "243          Anne Hathaway         47.909539  1.788745      False  \n",
      "7554          Lee Sun-kyun         54.452456  0.806802      False  \n",
      "7552        Robert De Niro         38.980959  0.506764      False  \n",
      "9817          Jake Johnson         49.715545  0.370383      False  \n",
      "18            Laura Linney         40.544773 -0.011484      False  \n",
      "862   Joseph Gordon-Levitt         39.833921  1.215945      False  \n",
      "1232              Ian Holm         34.343980  0.206725      False  \n",
      "634           Robin Wright         34.836009  1.052288      False  \n"
     ]
    }
   ],
   "source": [
    "top10 = df.sort_values(by='Vistas', ascending=False).head(10)\n",
    "print(top10)"
   ]
  },
  {
   "cell_type": "markdown",
   "id": "3368b49b-3ec6-4d23-a0e3-6aa358bddaeb",
   "metadata": {},
   "source": [
    "Cuando analizamos los valores mas altos de Vistas vemos que no se trata de errores en los registros, ya que hay peliculas que realmente recibieron esas visitas. Analizamos las 10 peliculas mas vistas y observamos que son peliculas que fueron exitosas en los ultimos tiempos, por lo tanto conservaremos esos valores."
   ]
  },
  {
   "cell_type": "markdown",
   "id": "a7553522-a05f-4a41-a678-6d9e32b12153",
   "metadata": {},
   "source": [
    "*Ratings*"
   ]
  },
  {
   "cell_type": "code",
   "execution_count": 165,
   "id": "72a45618-6270-4d0c-b80d-5156a91eb083",
   "metadata": {},
   "outputs": [
    {
     "name": "stdout",
     "output_type": "stream",
     "text": [
      "Cantidad de outliers encontrados: 1243\n",
      "      Ratings\n",
      "1     1682389\n",
      "3     1076949\n",
      "4      600721\n",
      "6      183927\n",
      "7     1780203\n",
      "...       ...\n",
      "9933   316501\n",
      "9934   262071\n",
      "9967   243736\n",
      "9968   633397\n",
      "9978   782412\n",
      "\n",
      "[1243 rows x 1 columns]\n"
     ]
    }
   ],
   "source": [
    "Q1 = df['Ratings'].quantile(0.25)\n",
    "Q3 = df['Ratings'].quantile(0.75)\n",
    "IQR = Q3 - Q1\n",
    "\n",
    "# Límites\n",
    "limite_inferior = Q1 - 1.5 * IQR\n",
    "limite_superior = Q3 + 1.5 * IQR\n",
    "\n",
    "# Identificar outliers\n",
    "outliers = df[(df['Ratings'] < limite_inferior) | (df['Ratings'] > limite_superior)]\n",
    "print(\"Cantidad de outliers encontrados:\", len(outliers))\n",
    "print(outliers[['Ratings']])"
   ]
  },
  {
   "cell_type": "code",
   "execution_count": 166,
   "id": "667ddd07-31f9-4ea6-9ce3-10791e24741c",
   "metadata": {},
   "outputs": [
    {
     "name": "stdout",
     "output_type": "stream",
     "text": [
      "                                 Titulo           Director  \\\n",
      "9826                             Barbie       Greta Gerwig   \n",
      "7554                           Parasite       Bong Joon Ho   \n",
      "243                        Interstellar  Christopher Nolan   \n",
      "265                          Fight Club      David Fincher   \n",
      "7552                              Joker      Todd Phillips   \n",
      "9817  Spider-Man: Into the Spider-Verse    Bob Persichetti   \n",
      "9126  Everything Everywhere All at Once   Daniel Scheinert   \n",
      "9825                        Oppenheimer  Christopher Nolan   \n",
      "8943                               Dune   Denis Villeneuve   \n",
      "21                             Whiplash    Damien Chazelle   \n",
      "\n",
      "      Calificación_promedio           Genero  Duración         Pais Lenguaje  \\\n",
      "9826                   3.78           Comedy     114.0           UK  English   \n",
      "7554                   4.55           Comedy     133.0  South Korea   Korean   \n",
      "243                    4.41  Science Fiction     169.0           UK  English   \n",
      "265                    4.27            Drama     139.0      Germany  English   \n",
      "7552                   3.84            Crime     122.0       Canada  English   \n",
      "9817                   4.41        Adventure     117.0          USA  English   \n",
      "9126                   4.28  Science Fiction     140.0          USA  English   \n",
      "9825                   4.19          History     181.0           UK  English   \n",
      "8943                   3.88  Science Fiction     155.0          USA  English   \n",
      "21                     4.42            Drama     107.0          USA  English   \n",
      "\n",
      "                                            Descripción  \\\n",
      "9826  Barbie and Ken are having the time of their li...   \n",
      "7554  All unemployed, Ki-taek's family takes peculia...   \n",
      "243   The adventures of a group of explorers who mak...   \n",
      "265   A ticking-time-bomb insomniac and a slippery s...   \n",
      "7552  During the 1980s, a failed stand-up comedian i...   \n",
      "9817  Struggling to find his place in the world whil...   \n",
      "9126  An aging Chinese immigrant is swept up in an i...   \n",
      "9825  The story of J. Robert Oppenheimer's role in t...   \n",
      "8943  Paul Atreides, a brilliant and gifted young ma...   \n",
      "21    Under the direction of a ruthless instructor, ...   \n",
      "\n",
      "                   Productora   Vistas  Ratings         Protagonista  \\\n",
      "9826  LuckyChap Entertainment  5195503  4091037        Margot Robbie   \n",
      "7554             Barunson E&A  5015041  3800561         Song Kang-ho   \n",
      "243        Legendary Pictures  5044987  3700599  Matthew McConaughey   \n",
      "265         Fox 2000 Pictures  5059722  3581103        Edward Norton   \n",
      "7552    Warner Bros. Pictures  4952400  3475013      Joaquin Phoenix   \n",
      "9817        Columbia Pictures  4446217  3177015        Shameik Moore   \n",
      "9126                IAC Films  3793318  3020239        Michelle Yeoh   \n",
      "9825                  Syncopy  3689850  2974621       Cillian Murphy   \n",
      "8943       Legendary Pictures  3886386  2964068    Timothée Chalamet   \n",
      "21                 Bold Films  3925603  2963756         Miles Teller   \n",
      "\n",
      "        Coprotagonista  Porcentaje_likes    zscore  is_series  \n",
      "9826      Ryan Gosling         41.196820  0.288554      False  \n",
      "7554      Lee Sun-kyun         54.452456  0.806802      False  \n",
      "243      Anne Hathaway         47.909539  1.788745      False  \n",
      "265          Brad Pitt         45.961517  0.970459      False  \n",
      "7552    Robert De Niro         38.980959  0.506764      False  \n",
      "9817      Jake Johnson         49.715545  0.370383      False  \n",
      "9126     Stephanie Hsu         49.100576  0.997735      False  \n",
      "9825       Emily Blunt         38.649268  2.116059      False  \n",
      "8943  Rebecca Ferguson         36.360670  1.406878      False  \n",
      "21        J.K. Simmons         47.094243  0.097621      False  \n"
     ]
    }
   ],
   "source": [
    "top10 = df.sort_values(by='Ratings', ascending=False).head(10)\n",
    "print(top10)"
   ]
  },
  {
   "cell_type": "markdown",
   "id": "e716acea-e8ee-44a6-86d9-7a90595537a5",
   "metadata": {},
   "source": [
    "Cuando analizamos los outliers de la variable Ratings observamos que son las mismas peliculas que aparecieron con mas Vistas y Likes, por lo tanto también se conservaran estos valores "
   ]
  },
  {
   "cell_type": "markdown",
   "id": "cc45aae2-4957-4061-be9b-a73671e630f0",
   "metadata": {},
   "source": [
    "*Porcentaje_likes*"
   ]
  },
  {
   "cell_type": "code",
   "execution_count": 167,
   "id": "345e8ee2-9402-4fc9-9225-82fe7009af56",
   "metadata": {},
   "outputs": [
    {
     "name": "stdout",
     "output_type": "stream",
     "text": [
      "Cantidad de outliers encontrados: 57\n",
      "      Porcentaje_likes\n",
      "21           47.094243\n",
      "80           46.531302\n",
      "108          43.409498\n",
      "243          47.909539\n",
      "265          45.961517\n",
      "280          44.596920\n",
      "495          43.990640\n",
      "587          43.317558\n",
      "610          45.567265\n",
      "884          44.253989\n",
      "1531         43.919918\n",
      "1791         43.324516\n",
      "1891         43.684645\n",
      "1920         45.474817\n",
      "1923         45.384682\n",
      "2158         45.144426\n",
      "2185         52.279308\n",
      "2577         43.334153\n",
      "3158         45.359116\n",
      "4156         42.723896\n",
      "4218         44.018715\n",
      "4373         42.630680\n",
      "4375         44.145659\n",
      "4399         43.840399\n",
      "4690         42.492814\n",
      "4747         43.877945\n",
      "4871         42.888852\n",
      "5654         49.241539\n",
      "5811         43.063306\n",
      "6024         42.812797\n",
      "6720         50.358195\n",
      "6759         45.283019\n",
      "6985         43.442024\n",
      "7018         50.000000\n",
      "7106         43.893014\n",
      "7332         45.662606\n",
      "7554         54.452456\n",
      "7567         47.235237\n",
      "7673         43.746827\n",
      "7943         43.589744\n",
      "8393         43.765072\n",
      "8472         45.591029\n",
      "8841         42.691415\n",
      "9126         49.100576\n",
      "9255         45.769449\n",
      "9384         44.119553\n",
      "9599         45.217728\n",
      "9641         55.555556\n",
      "9817         49.715545\n",
      "9839         48.544364\n",
      "9862         47.689640\n",
      "9864         43.424379\n",
      "9881         46.232134\n",
      "9911         53.333333\n",
      "9935         42.789668\n",
      "9965         50.000000\n",
      "9976         54.098361\n"
     ]
    }
   ],
   "source": [
    "Q1 = df['Porcentaje_likes'].quantile(0.25)\n",
    "Q3 = df['Porcentaje_likes'].quantile(0.75)\n",
    "IQR = Q3 - Q1\n",
    "\n",
    "# Límites\n",
    "limite_inferior = Q1 - 1.5 * IQR\n",
    "limite_superior = Q3 + 1.5 * IQR\n",
    "\n",
    "# Identificar outliers\n",
    "outliers = df[(df['Porcentaje_likes'] < limite_inferior) | (df['Porcentaje_likes'] > limite_superior)]\n",
    "print(\"Cantidad de outliers encontrados:\", len(outliers))\n",
    "print(outliers[['Porcentaje_likes']])"
   ]
  },
  {
   "cell_type": "markdown",
   "id": "857ef943-1941-451b-8843-31159d607bcc",
   "metadata": {},
   "source": [
    "Cuando analizamos los outliers de la variable Porcentaje_likes observamos que son valores que podria tomar la variable si la pelicula le gusto a mas del 50% del público que la vio. Por lo tanto, se conservarán estos valores. "
   ]
  },
  {
   "cell_type": "markdown",
   "id": "cbcc96cc-0fb3-42df-b917-68c33eb02c82",
   "metadata": {},
   "source": [
    "**Selección de columnas para aplicar modelo de aprendisaje no supervisado**"
   ]
  },
  {
   "cell_type": "code",
   "execution_count": 168,
   "id": "de696a18-04bc-4546-83b4-6a3a18f0ffd6",
   "metadata": {},
   "outputs": [
    {
     "data": {
      "text/plain": [
       "Titulo                    object\n",
       "Director                  object\n",
       "Calificación_promedio    float64\n",
       "Genero                    object\n",
       "Duración                 float64\n",
       "Pais                      object\n",
       "Lenguaje                  object\n",
       "Descripción               object\n",
       "Productora                object\n",
       "Vistas                     int64\n",
       "Ratings                    int64\n",
       "Protagonista              object\n",
       "Coprotagonista            object\n",
       "Porcentaje_likes         float64\n",
       "zscore                   float64\n",
       "is_series                   bool\n",
       "dtype: object"
      ]
     },
     "execution_count": 168,
     "metadata": {},
     "output_type": "execute_result"
    }
   ],
   "source": [
    "df.dtypes"
   ]
  },
  {
   "cell_type": "markdown",
   "id": "cc34abbd-af79-4d9a-be3b-b9009e738750",
   "metadata": {},
   "source": [
    "Eliminacion de columnas que no utilizaremos para la elaboracion del modelo no supervisado. Conservaremos las columnas numéricas y las categoricas que son de interes para nuestro analisis serán exploradas y transformadas con Get Dummies a continuación."
   ]
  },
  {
   "cell_type": "code",
   "execution_count": 169,
   "id": "f59e53c1-d7e5-4b31-b1fb-d867a297edfc",
   "metadata": {},
   "outputs": [],
   "source": [
    "df = df.drop(columns=['Titulo', 'Descripción' , 'zscore' , 'is_series'])"
   ]
  },
  {
   "cell_type": "code",
   "execution_count": 170,
   "id": "0c992166-6973-4ec5-8c7d-6abcf8c8c8f5",
   "metadata": {},
   "outputs": [
    {
     "data": {
      "text/plain": [
       "Director                  object\n",
       "Calificación_promedio    float64\n",
       "Genero                    object\n",
       "Duración                 float64\n",
       "Pais                      object\n",
       "Lenguaje                  object\n",
       "Productora                object\n",
       "Vistas                     int64\n",
       "Ratings                    int64\n",
       "Protagonista              object\n",
       "Coprotagonista            object\n",
       "Porcentaje_likes         float64\n",
       "dtype: object"
      ]
     },
     "execution_count": 170,
     "metadata": {},
     "output_type": "execute_result"
    }
   ],
   "source": [
    "#Corroboramos la eliminación\n",
    "df.dtypes"
   ]
  },
  {
   "cell_type": "markdown",
   "id": "0d7a3f53-4d33-4e1e-a28b-b8b4b1b8aa5a",
   "metadata": {},
   "source": [
    "### Transformacion de datos categóricos One Hot Encoding"
   ]
  },
  {
   "cell_type": "markdown",
   "id": "0caadedf-46a6-4bf3-8cad-fa14be832bdc",
   "metadata": {},
   "source": [
    "Debido a que las variables a transformar son categóricas y no tienen un orden predeterminado utilizaremos OneHotEncoding para las siguientes columnas: Director, Genero, Pais, Lenguaje, Productora, Protagonista, Coprotagonista.\n",
    "\n",
    "Este proceso transforma cada categoría única dentro de esas columnas en una nueva columna binaria (0 o 1), permitiendo así que modelos de machine learning puedan trabajar con estos datos"
   ]
  },
  {
   "cell_type": "code",
   "execution_count": 171,
   "id": "b1b8cbd5-00d6-4488-99cb-44b7a79f06d8",
   "metadata": {},
   "outputs": [
    {
     "name": "stdout",
     "output_type": "stream",
     "text": [
      "   Calificación_promedio  Duración   Vistas  Ratings  Porcentaje_likes  \\\n",
      "0                      3        92    12841     9042                29   \n",
      "1                      4       121  2488721  1682389                37   \n",
      "3                      3       102  1596190  1076949                30   \n",
      "4                      4       124   873068   600721                39   \n",
      "6                      3       100   283873   183927                30   \n",
      "\n",
      "   Director_  Director_A.V. Rockwell  Director_Aaron B. Koontz  \\\n",
      "0          0                       0                         0   \n",
      "1          0                       0                         0   \n",
      "3          0                       0                         0   \n",
      "4          0                       0                         0   \n",
      "6          0                       0                         0   \n",
      "\n",
      "   Director_Aaron Blaise  Director_Aaron Hann  ...  \\\n",
      "0                      0                    0  ...   \n",
      "1                      0                    0  ...   \n",
      "3                      0                    0  ...   \n",
      "4                      0                    0  ...   \n",
      "6                      0                    0  ...   \n",
      "\n",
      "   Coprotagonista_Zoë Kravitz  Coprotagonista_Zuleikha Robinson  \\\n",
      "0                           0                                 0   \n",
      "1                           0                                 0   \n",
      "3                           0                                 0   \n",
      "4                           0                                 0   \n",
      "6                           0                                 0   \n",
      "\n",
      "   Coprotagonista_nan  Coprotagonista_Álvaro Guevara  \\\n",
      "0                   0                              0   \n",
      "1                   0                              0   \n",
      "3                   0                              0   \n",
      "4                   0                              0   \n",
      "6                   0                              0   \n",
      "\n",
      "   Coprotagonista_Ángel Aranda  Coprotagonista_Édith Scob  \\\n",
      "0                            0                          0   \n",
      "1                            0                          0   \n",
      "3                            0                          0   \n",
      "4                            0                          0   \n",
      "6                            0                          0   \n",
      "\n",
      "   Coprotagonista_Éric Cantona  Coprotagonista_Ériq Ebouaney  \\\n",
      "0                            0                             0   \n",
      "1                            0                             0   \n",
      "3                            0                             0   \n",
      "4                            0                             0   \n",
      "6                            0                             0   \n",
      "\n",
      "   Coprotagonista_Óscar Jaenada  Coprotagonista_Ørjan Gamst  \n",
      "0                             0                           0  \n",
      "1                             0                           0  \n",
      "3                             0                           0  \n",
      "4                             0                           0  \n",
      "6                             0                           0  \n",
      "\n",
      "[5 rows x 18570 columns]\n"
     ]
    }
   ],
   "source": [
    "# Especificamos las columnas categóricas que necesitamos transformar\n",
    "columnas_categoricas = ['Director', 'Genero' , 'Pais' , 'Lenguaje', 'Productora', 'Protagonista' , 'Coprotagonista']  \n",
    "\n",
    "# Aplicamos One Hot Encoding\n",
    "df = pd.get_dummies(df, columns=columnas_categoricas)\n",
    "\n",
    "# Convertír todas las columnas booleanas a enteros\n",
    "df = df.astype(int)\n",
    "\n",
    "# Vemos los resultados aplicados a las primeras filas \n",
    "print(df.head())\n",
    "\n",
    "# Guardardamos el nuevo DataFrame a CSV\n",
    "df.to_csv(\"Movie_Data_File_Codificado.csv\", index=False)"
   ]
  },
  {
   "attachments": {},
   "cell_type": "markdown",
   "id": "6ed67144-2de5-4ea5-925d-10c62ffc2db1",
   "metadata": {},
   "source": [
    "### Modelos de aprendizaje no supervisado\n",
    "\n",
    "**Instalacion de librerias y carga del dataset**"
   ]
  },
  {
   "cell_type": "code",
   "execution_count": 172,
   "id": "9a0ddd21-19ed-4dd9-b4a4-90c0f4390e1e",
   "metadata": {},
   "outputs": [],
   "source": [
    "from sklearn.cluster import KMeans\n",
    "from sklearn.decomposition import PCA\n",
    "import matplotlib.pyplot as plt\n",
    "import seaborn as sns\n",
    "from sklearn.preprocessing import StandardScaler\n",
    "from kneed import KneeLocator"
   ]
  },
  {
   "cell_type": "code",
   "execution_count": 173,
   "id": "568cb7cd-b038-464c-8ee0-fe31290638e8",
   "metadata": {},
   "outputs": [
    {
     "ename": "MemoryError",
     "evalue": "Unable to allocate 1.20 GiB for an array with shape (18570, 8704) and data type int64",
     "output_type": "error",
     "traceback": [
      "\u001b[31m---------------------------------------------------------------------------\u001b[39m",
      "\u001b[31mMemoryError\u001b[39m                               Traceback (most recent call last)",
      "\u001b[36mCell\u001b[39m\u001b[36m \u001b[39m\u001b[32mIn[173]\u001b[39m\u001b[32m, line 2\u001b[39m\n\u001b[32m      1\u001b[39m \u001b[38;5;66;03m#Carga del dataset\u001b[39;00m\n\u001b[32m----> \u001b[39m\u001b[32m2\u001b[39m df = \u001b[43mpd\u001b[49m\u001b[43m.\u001b[49m\u001b[43mread_csv\u001b[49m\u001b[43m(\u001b[49m\u001b[33;43m'\u001b[39;49m\u001b[33;43mMovie_Data_File_Codificado.csv\u001b[39;49m\u001b[33;43m'\u001b[39;49m\u001b[43m)\u001b[49m\n",
      "\u001b[36mFile \u001b[39m\u001b[32m~\\AppData\\Local\\Packages\\PythonSoftwareFoundation.Python.3.11_qbz5n2kfra8p0\\LocalCache\\local-packages\\Python311\\site-packages\\pandas\\io\\parsers\\readers.py:1026\u001b[39m, in \u001b[36mread_csv\u001b[39m\u001b[34m(filepath_or_buffer, sep, delimiter, header, names, index_col, usecols, dtype, engine, converters, true_values, false_values, skipinitialspace, skiprows, skipfooter, nrows, na_values, keep_default_na, na_filter, verbose, skip_blank_lines, parse_dates, infer_datetime_format, keep_date_col, date_parser, date_format, dayfirst, cache_dates, iterator, chunksize, compression, thousands, decimal, lineterminator, quotechar, quoting, doublequote, escapechar, comment, encoding, encoding_errors, dialect, on_bad_lines, delim_whitespace, low_memory, memory_map, float_precision, storage_options, dtype_backend)\u001b[39m\n\u001b[32m   1013\u001b[39m kwds_defaults = _refine_defaults_read(\n\u001b[32m   1014\u001b[39m     dialect,\n\u001b[32m   1015\u001b[39m     delimiter,\n\u001b[32m   (...)\u001b[39m\u001b[32m   1022\u001b[39m     dtype_backend=dtype_backend,\n\u001b[32m   1023\u001b[39m )\n\u001b[32m   1024\u001b[39m kwds.update(kwds_defaults)\n\u001b[32m-> \u001b[39m\u001b[32m1026\u001b[39m \u001b[38;5;28;01mreturn\u001b[39;00m \u001b[43m_read\u001b[49m\u001b[43m(\u001b[49m\u001b[43mfilepath_or_buffer\u001b[49m\u001b[43m,\u001b[49m\u001b[43m \u001b[49m\u001b[43mkwds\u001b[49m\u001b[43m)\u001b[49m\n",
      "\u001b[36mFile \u001b[39m\u001b[32m~\\AppData\\Local\\Packages\\PythonSoftwareFoundation.Python.3.11_qbz5n2kfra8p0\\LocalCache\\local-packages\\Python311\\site-packages\\pandas\\io\\parsers\\readers.py:626\u001b[39m, in \u001b[36m_read\u001b[39m\u001b[34m(filepath_or_buffer, kwds)\u001b[39m\n\u001b[32m    623\u001b[39m     \u001b[38;5;28;01mreturn\u001b[39;00m parser\n\u001b[32m    625\u001b[39m \u001b[38;5;28;01mwith\u001b[39;00m parser:\n\u001b[32m--> \u001b[39m\u001b[32m626\u001b[39m     \u001b[38;5;28;01mreturn\u001b[39;00m \u001b[43mparser\u001b[49m\u001b[43m.\u001b[49m\u001b[43mread\u001b[49m\u001b[43m(\u001b[49m\u001b[43mnrows\u001b[49m\u001b[43m)\u001b[49m\n",
      "\u001b[36mFile \u001b[39m\u001b[32m~\\AppData\\Local\\Packages\\PythonSoftwareFoundation.Python.3.11_qbz5n2kfra8p0\\LocalCache\\local-packages\\Python311\\site-packages\\pandas\\io\\parsers\\readers.py:1968\u001b[39m, in \u001b[36mTextFileReader.read\u001b[39m\u001b[34m(self, nrows)\u001b[39m\n\u001b[32m   1965\u001b[39m     \u001b[38;5;28;01melse\u001b[39;00m:\n\u001b[32m   1966\u001b[39m         new_col_dict = col_dict\n\u001b[32m-> \u001b[39m\u001b[32m1968\u001b[39m     df = \u001b[43mDataFrame\u001b[49m\u001b[43m(\u001b[49m\n\u001b[32m   1969\u001b[39m \u001b[43m        \u001b[49m\u001b[43mnew_col_dict\u001b[49m\u001b[43m,\u001b[49m\n\u001b[32m   1970\u001b[39m \u001b[43m        \u001b[49m\u001b[43mcolumns\u001b[49m\u001b[43m=\u001b[49m\u001b[43mcolumns\u001b[49m\u001b[43m,\u001b[49m\n\u001b[32m   1971\u001b[39m \u001b[43m        \u001b[49m\u001b[43mindex\u001b[49m\u001b[43m=\u001b[49m\u001b[43mindex\u001b[49m\u001b[43m,\u001b[49m\n\u001b[32m   1972\u001b[39m \u001b[43m        \u001b[49m\u001b[43mcopy\u001b[49m\u001b[43m=\u001b[49m\u001b[38;5;129;43;01mnot\u001b[39;49;00m\u001b[43m \u001b[49m\u001b[43musing_copy_on_write\u001b[49m\u001b[43m(\u001b[49m\u001b[43m)\u001b[49m\u001b[43m,\u001b[49m\n\u001b[32m   1973\u001b[39m \u001b[43m    \u001b[49m\u001b[43m)\u001b[49m\n\u001b[32m   1975\u001b[39m     \u001b[38;5;28mself\u001b[39m._currow += new_rows\n\u001b[32m   1976\u001b[39m \u001b[38;5;28;01mreturn\u001b[39;00m df\n",
      "\u001b[36mFile \u001b[39m\u001b[32m~\\AppData\\Local\\Packages\\PythonSoftwareFoundation.Python.3.11_qbz5n2kfra8p0\\LocalCache\\local-packages\\Python311\\site-packages\\pandas\\core\\frame.py:778\u001b[39m, in \u001b[36mDataFrame.__init__\u001b[39m\u001b[34m(self, data, index, columns, dtype, copy)\u001b[39m\n\u001b[32m    772\u001b[39m     mgr = \u001b[38;5;28mself\u001b[39m._init_mgr(\n\u001b[32m    773\u001b[39m         data, axes={\u001b[33m\"\u001b[39m\u001b[33mindex\u001b[39m\u001b[33m\"\u001b[39m: index, \u001b[33m\"\u001b[39m\u001b[33mcolumns\u001b[39m\u001b[33m\"\u001b[39m: columns}, dtype=dtype, copy=copy\n\u001b[32m    774\u001b[39m     )\n\u001b[32m    776\u001b[39m \u001b[38;5;28;01melif\u001b[39;00m \u001b[38;5;28misinstance\u001b[39m(data, \u001b[38;5;28mdict\u001b[39m):\n\u001b[32m    777\u001b[39m     \u001b[38;5;66;03m# GH#38939 de facto copy defaults to False only in non-dict cases\u001b[39;00m\n\u001b[32m--> \u001b[39m\u001b[32m778\u001b[39m     mgr = \u001b[43mdict_to_mgr\u001b[49m\u001b[43m(\u001b[49m\u001b[43mdata\u001b[49m\u001b[43m,\u001b[49m\u001b[43m \u001b[49m\u001b[43mindex\u001b[49m\u001b[43m,\u001b[49m\u001b[43m \u001b[49m\u001b[43mcolumns\u001b[49m\u001b[43m,\u001b[49m\u001b[43m \u001b[49m\u001b[43mdtype\u001b[49m\u001b[43m=\u001b[49m\u001b[43mdtype\u001b[49m\u001b[43m,\u001b[49m\u001b[43m \u001b[49m\u001b[43mcopy\u001b[49m\u001b[43m=\u001b[49m\u001b[43mcopy\u001b[49m\u001b[43m,\u001b[49m\u001b[43m \u001b[49m\u001b[43mtyp\u001b[49m\u001b[43m=\u001b[49m\u001b[43mmanager\u001b[49m\u001b[43m)\u001b[49m\n\u001b[32m    779\u001b[39m \u001b[38;5;28;01melif\u001b[39;00m \u001b[38;5;28misinstance\u001b[39m(data, ma.MaskedArray):\n\u001b[32m    780\u001b[39m     \u001b[38;5;28;01mfrom\u001b[39;00m\u001b[38;5;250m \u001b[39m\u001b[34;01mnumpy\u001b[39;00m\u001b[34;01m.\u001b[39;00m\u001b[34;01mma\u001b[39;00m\u001b[38;5;250m \u001b[39m\u001b[38;5;28;01mimport\u001b[39;00m mrecords\n",
      "\u001b[36mFile \u001b[39m\u001b[32m~\\AppData\\Local\\Packages\\PythonSoftwareFoundation.Python.3.11_qbz5n2kfra8p0\\LocalCache\\local-packages\\Python311\\site-packages\\pandas\\core\\internals\\construction.py:503\u001b[39m, in \u001b[36mdict_to_mgr\u001b[39m\u001b[34m(data, index, columns, dtype, typ, copy)\u001b[39m\n\u001b[32m    499\u001b[39m     \u001b[38;5;28;01melse\u001b[39;00m:\n\u001b[32m    500\u001b[39m         \u001b[38;5;66;03m# dtype check to exclude e.g. range objects, scalars\u001b[39;00m\n\u001b[32m    501\u001b[39m         arrays = [x.copy() \u001b[38;5;28;01mif\u001b[39;00m \u001b[38;5;28mhasattr\u001b[39m(x, \u001b[33m\"\u001b[39m\u001b[33mdtype\u001b[39m\u001b[33m\"\u001b[39m) \u001b[38;5;28;01melse\u001b[39;00m x \u001b[38;5;28;01mfor\u001b[39;00m x \u001b[38;5;129;01min\u001b[39;00m arrays]\n\u001b[32m--> \u001b[39m\u001b[32m503\u001b[39m \u001b[38;5;28;01mreturn\u001b[39;00m \u001b[43marrays_to_mgr\u001b[49m\u001b[43m(\u001b[49m\u001b[43marrays\u001b[49m\u001b[43m,\u001b[49m\u001b[43m \u001b[49m\u001b[43mcolumns\u001b[49m\u001b[43m,\u001b[49m\u001b[43m \u001b[49m\u001b[43mindex\u001b[49m\u001b[43m,\u001b[49m\u001b[43m \u001b[49m\u001b[43mdtype\u001b[49m\u001b[43m=\u001b[49m\u001b[43mdtype\u001b[49m\u001b[43m,\u001b[49m\u001b[43m \u001b[49m\u001b[43mtyp\u001b[49m\u001b[43m=\u001b[49m\u001b[43mtyp\u001b[49m\u001b[43m,\u001b[49m\u001b[43m \u001b[49m\u001b[43mconsolidate\u001b[49m\u001b[43m=\u001b[49m\u001b[43mcopy\u001b[49m\u001b[43m)\u001b[49m\n",
      "\u001b[36mFile \u001b[39m\u001b[32m~\\AppData\\Local\\Packages\\PythonSoftwareFoundation.Python.3.11_qbz5n2kfra8p0\\LocalCache\\local-packages\\Python311\\site-packages\\pandas\\core\\internals\\construction.py:152\u001b[39m, in \u001b[36marrays_to_mgr\u001b[39m\u001b[34m(arrays, columns, index, dtype, verify_integrity, typ, consolidate)\u001b[39m\n\u001b[32m    149\u001b[39m axes = [columns, index]\n\u001b[32m    151\u001b[39m \u001b[38;5;28;01mif\u001b[39;00m typ == \u001b[33m\"\u001b[39m\u001b[33mblock\u001b[39m\u001b[33m\"\u001b[39m:\n\u001b[32m--> \u001b[39m\u001b[32m152\u001b[39m     \u001b[38;5;28;01mreturn\u001b[39;00m \u001b[43mcreate_block_manager_from_column_arrays\u001b[49m\u001b[43m(\u001b[49m\n\u001b[32m    153\u001b[39m \u001b[43m        \u001b[49m\u001b[43marrays\u001b[49m\u001b[43m,\u001b[49m\u001b[43m \u001b[49m\u001b[43maxes\u001b[49m\u001b[43m,\u001b[49m\u001b[43m \u001b[49m\u001b[43mconsolidate\u001b[49m\u001b[43m=\u001b[49m\u001b[43mconsolidate\u001b[49m\u001b[43m,\u001b[49m\u001b[43m \u001b[49m\u001b[43mrefs\u001b[49m\u001b[43m=\u001b[49m\u001b[43mrefs\u001b[49m\n\u001b[32m    154\u001b[39m \u001b[43m    \u001b[49m\u001b[43m)\u001b[49m\n\u001b[32m    155\u001b[39m \u001b[38;5;28;01melif\u001b[39;00m typ == \u001b[33m\"\u001b[39m\u001b[33marray\u001b[39m\u001b[33m\"\u001b[39m:\n\u001b[32m    156\u001b[39m     \u001b[38;5;28;01mreturn\u001b[39;00m ArrayManager(arrays, [index, columns])\n",
      "\u001b[36mFile \u001b[39m\u001b[32m~\\AppData\\Local\\Packages\\PythonSoftwareFoundation.Python.3.11_qbz5n2kfra8p0\\LocalCache\\local-packages\\Python311\\site-packages\\pandas\\core\\internals\\managers.py:2139\u001b[39m, in \u001b[36mcreate_block_manager_from_column_arrays\u001b[39m\u001b[34m(arrays, axes, consolidate, refs)\u001b[39m\n\u001b[32m   2121\u001b[39m \u001b[38;5;28;01mdef\u001b[39;00m\u001b[38;5;250m \u001b[39m\u001b[34mcreate_block_manager_from_column_arrays\u001b[39m(\n\u001b[32m   2122\u001b[39m     arrays: \u001b[38;5;28mlist\u001b[39m[ArrayLike],\n\u001b[32m   2123\u001b[39m     axes: \u001b[38;5;28mlist\u001b[39m[Index],\n\u001b[32m   (...)\u001b[39m\u001b[32m   2135\u001b[39m     \u001b[38;5;66;03m# These last three are sufficient to allow us to safely pass\u001b[39;00m\n\u001b[32m   2136\u001b[39m     \u001b[38;5;66;03m#  verify_integrity=False below.\u001b[39;00m\n\u001b[32m   2138\u001b[39m     \u001b[38;5;28;01mtry\u001b[39;00m:\n\u001b[32m-> \u001b[39m\u001b[32m2139\u001b[39m         blocks = \u001b[43m_form_blocks\u001b[49m\u001b[43m(\u001b[49m\u001b[43marrays\u001b[49m\u001b[43m,\u001b[49m\u001b[43m \u001b[49m\u001b[43mconsolidate\u001b[49m\u001b[43m,\u001b[49m\u001b[43m \u001b[49m\u001b[43mrefs\u001b[49m\u001b[43m)\u001b[49m\n\u001b[32m   2140\u001b[39m         mgr = BlockManager(blocks, axes, verify_integrity=\u001b[38;5;28;01mFalse\u001b[39;00m)\n\u001b[32m   2141\u001b[39m     \u001b[38;5;28;01mexcept\u001b[39;00m \u001b[38;5;167;01mValueError\u001b[39;00m \u001b[38;5;28;01mas\u001b[39;00m e:\n",
      "\u001b[36mFile \u001b[39m\u001b[32m~\\AppData\\Local\\Packages\\PythonSoftwareFoundation.Python.3.11_qbz5n2kfra8p0\\LocalCache\\local-packages\\Python311\\site-packages\\pandas\\core\\internals\\managers.py:2212\u001b[39m, in \u001b[36m_form_blocks\u001b[39m\u001b[34m(arrays, consolidate, refs)\u001b[39m\n\u001b[32m   2209\u001b[39m \u001b[38;5;28;01mif\u001b[39;00m \u001b[38;5;28missubclass\u001b[39m(dtype.type, (\u001b[38;5;28mstr\u001b[39m, \u001b[38;5;28mbytes\u001b[39m)):\n\u001b[32m   2210\u001b[39m     dtype = np.dtype(\u001b[38;5;28mobject\u001b[39m)\n\u001b[32m-> \u001b[39m\u001b[32m2212\u001b[39m values, placement = \u001b[43m_stack_arrays\u001b[49m\u001b[43m(\u001b[49m\u001b[38;5;28;43mlist\u001b[39;49m\u001b[43m(\u001b[49m\u001b[43mtup_block\u001b[49m\u001b[43m)\u001b[49m\u001b[43m,\u001b[49m\u001b[43m \u001b[49m\u001b[43mdtype\u001b[49m\u001b[43m)\u001b[49m\n\u001b[32m   2213\u001b[39m \u001b[38;5;28;01mif\u001b[39;00m is_dtlike:\n\u001b[32m   2214\u001b[39m     values = ensure_wrapped_if_datetimelike(values)\n",
      "\u001b[36mFile \u001b[39m\u001b[32m~\\AppData\\Local\\Packages\\PythonSoftwareFoundation.Python.3.11_qbz5n2kfra8p0\\LocalCache\\local-packages\\Python311\\site-packages\\pandas\\core\\internals\\managers.py:2252\u001b[39m, in \u001b[36m_stack_arrays\u001b[39m\u001b[34m(tuples, dtype)\u001b[39m\n\u001b[32m   2249\u001b[39m first = arrays[\u001b[32m0\u001b[39m]\n\u001b[32m   2250\u001b[39m shape = (\u001b[38;5;28mlen\u001b[39m(arrays),) + first.shape\n\u001b[32m-> \u001b[39m\u001b[32m2252\u001b[39m stacked = np.empty(shape, dtype=dtype)\n\u001b[32m   2253\u001b[39m \u001b[38;5;28;01mfor\u001b[39;00m i, arr \u001b[38;5;129;01min\u001b[39;00m \u001b[38;5;28menumerate\u001b[39m(arrays):\n\u001b[32m   2254\u001b[39m     stacked[i] = arr\n",
      "\u001b[31mMemoryError\u001b[39m: Unable to allocate 1.20 GiB for an array with shape (18570, 8704) and data type int64"
     ]
    }
   ],
   "source": [
    "#Carga del dataset\n",
    "df = pd.read_csv('Movie_Data_File_Codificado.csv')"
   ]
  },
  {
   "cell_type": "code",
   "execution_count": null,
   "id": "b2c9afc4-5dc1-4d34-859b-bcb2afeef806",
   "metadata": {},
   "outputs": [
    {
     "data": {
      "text/plain": [
       "Calificación_promedio           int64\n",
       "Duración                        int64\n",
       "Vistas                          int64\n",
       "Ratings                         int64\n",
       "Porcentaje_likes                int64\n",
       "                                ...  \n",
       "Coprotagonista_Édith Scob       int64\n",
       "Coprotagonista_Éric Cantona     int64\n",
       "Coprotagonista_Ériq Ebouaney    int64\n",
       "Coprotagonista_Óscar Jaenada    int64\n",
       "Coprotagonista_Ørjan Gamst      int64\n",
       "Length: 18570, dtype: object"
      ]
     },
     "execution_count": 78,
     "metadata": {},
     "output_type": "execute_result"
    }
   ],
   "source": [
    "df.dtypes"
   ]
  },
  {
   "cell_type": "markdown",
   "id": "264ffa1b-f8df-4081-9ef3-a89e11a431a5",
   "metadata": {},
   "source": [
    "## Clustering"
   ]
  },
  {
   "cell_type": "markdown",
   "id": "75729599-5842-465c-ae20-5708d7d77a5f",
   "metadata": {},
   "source": [
    "**Kmeans**"
   ]
  },
  {
   "cell_type": "markdown",
   "id": "609fe90f-9ea1-45bb-a028-ce7fdec6b6e0",
   "metadata": {},
   "source": [
    "*Métrica: Elbow*"
   ]
  },
  {
   "cell_type": "markdown",
   "id": "c1967795-d733-4076-9d11-a61e1bbffb9c",
   "metadata": {},
   "source": [
    "Comenzaremos aplicando el metodo Elbow para encontrar el número optimo de Clusters. A partir de dicho valor, aplicaremos kmeans"
   ]
  },
  {
   "cell_type": "code",
   "execution_count": null,
   "id": "24bd8dba-953a-4495-a6ab-db4346547464",
   "metadata": {},
   "outputs": [],
   "source": [
    "#Nos aseguramos de utilizar solo columnas numéricos\n",
    "df_cluster= df.select_dtypes(include='number').copy()"
   ]
  },
  {
   "cell_type": "code",
   "execution_count": null,
   "id": "3fa6fbec-b20f-489d-8064-81a404515a7e",
   "metadata": {},
   "outputs": [],
   "source": [
    "#Escalamos\n",
    "scaler = StandardScaler()\n",
    "X_scaled = scaler.fit_transform(df_cluster)"
   ]
  },
  {
   "cell_type": "code",
   "execution_count": null,
   "id": "3de51b77-9416-46cd-a83d-d31207d5baa4",
   "metadata": {},
   "outputs": [],
   "source": [
    "# Aplicamos método Elbow para encontrar el mejor número de clusters\n",
    "inertias = []\n",
    "K_range = range(1, 11)\n",
    "\n",
    "for k in K_range:\n",
    "    kmeans = KMeans(n_clusters=k, random_state=42)\n",
    "    kmeans.fit(X_scaled)\n",
    "    inertias.append(kmeans.inertia_)\n"
   ]
  },
  {
   "cell_type": "code",
   "execution_count": null,
   "id": "01ff3630-43ea-44cf-a0d4-c0aad62804c1",
   "metadata": {},
   "outputs": [],
   "source": [
    "# Utilizamos KneeLocator para encontrar el k óptimo\n",
    "kneedle = KneeLocator(K_range, inertias, curve='convex', direction='decreasing')\n",
    "k_optimo = kneedle.knee"
   ]
  },
  {
   "cell_type": "code",
   "execution_count": null,
   "id": "6ecf9cae-7d4d-49d6-9d4f-a1f9f1cd9ee4",
   "metadata": {},
   "outputs": [
    {
     "name": "stdout",
     "output_type": "stream",
     "text": [
      "Advertencia: No se pudo determinar un k óptimo. La línea vertical no se graficará.\n"
     ]
    },
    {
     "name": "stderr",
     "output_type": "stream",
     "text": [
      "C:\\Users\\mkorb\\AppData\\Local\\Temp\\ipykernel_36948\\1651101449.py:11: UserWarning: No artists with labels found to put in legend.  Note that artists whose label start with an underscore are ignored when legend() is called with no argument.\n",
      "  plt.legend()\n"
     ]
    },
    {
     "data": {
      "image/png": "[encoded data removed]",
      "text/plain": [
       "<Figure size 800x500 with 1 Axes>"
      ]
     },
     "metadata": {},
     "output_type": "display_data"
    },
    {
     "name": "stdout",
     "output_type": "stream",
     "text": [
      "El número óptimo de clusters es: None\n"
     ]
    }
   ],
   "source": [
    "# Gráficamos para obseravr el k óptimo\n",
    "plt.figure(figsize=(8, 5))\n",
    "plt.plot(K_range, inertias, marker='o')\n",
    "if k_optimo is not None:\n",
    "    plt.axvline(x=k_optimo, color='red', linestyle='--', label=f'k óptimo = {k_optimo}')\n",
    "else:\n",
    "    print(\"Advertencia: No se pudo determinar un k óptimo. La línea vertical no se graficará.\")\n",
    "plt.xlabel('Número de clusters (k)')\n",
    "plt.ylabel('Inercia')\n",
    "plt.title('Método del Codo con k óptimo')\n",
    "plt.legend()\n",
    "plt.grid(True)\n",
    "plt.show()\n",
    "\n",
    "print(f\"El número óptimo de clusters es: {k_optimo}\")"
   ]
  },
  {
   "cell_type": "markdown",
   "id": "4b02f759-dbb6-471b-bd62-8817f6105c87",
   "metadata": {},
   "source": [
    "El modelo Elbow no detecta el valor de k óptimo por este motivo da una advertencia. "
   ]
  },
  {
   "cell_type": "markdown",
   "id": "566fed47-5012-4789-b708-f57b9a7f8f69",
   "metadata": {},
   "source": [
    "Debido a que no se observó un codo claramente, incluso la función arroja error, y tampoco pudimos encontrarlo de forma analítica, aplicamos a continuación tres opciones:**1)** Utilizaremos Silhouette Score en vez de Elbow, **2)** Realizaremos PCA antes de aplicar Elbow, **3)** Ampliaremos el rango."
   ]
  },
  {
   "cell_type": "markdown",
   "id": "38f70cfb-7106-43fb-add7-0ed3dafc0d0f",
   "metadata": {},
   "source": [
    "**OPCION 1: Silhouette Score**"
   ]
  },
  {
   "cell_type": "code",
   "execution_count": null,
   "id": "c7217996-6cf8-44cd-9be2-28c05daa0169",
   "metadata": {},
   "outputs": [],
   "source": [
    "from sklearn.metrics import silhouette_score\n",
    "from sklearn.cluster import KMeans"
   ]
  },
  {
   "cell_type": "code",
   "execution_count": null,
   "id": "4811bcae-34a4-468b-8d68-5c810cc9b55b",
   "metadata": {},
   "outputs": [],
   "source": [
    "silhouettes = []\n",
    "\n",
    "for k in range(2, 11):\n",
    "    kmeans = KMeans(n_clusters=k, random_state=42)\n",
    "    kmeans.fit(X_scaled)\n",
    "    score = silhouette_score(X_scaled, kmeans.labels_)\n",
    "    silhouettes.append(score)"
   ]
  },
  {
   "cell_type": "code",
   "execution_count": null,
   "id": "10b813a7-3426-444c-a2a9-d937c3b6b114",
   "metadata": {},
   "outputs": [
    {
     "data": {
      "image/png": "[encoded data removed]",
      "text/plain": [
       "<Figure size 800x500 with 1 Axes>"
      ]
     },
     "metadata": {},
     "output_type": "display_data"
    }
   ],
   "source": [
    "#Graficamos\n",
    "plt.figure(figsize=(8, 5))\n",
    "plt.plot(range(2, 11), silhouettes, marker='o', color='green')\n",
    "plt.xlabel(\"Número de clusters (k)\")\n",
    "plt.ylabel(\"Silhouette Score\")\n",
    "plt.title(\"Silhouette Score por número de clusters\")\n",
    "plt.grid(True)\n",
    "plt.show()"
   ]
  },
  {
   "cell_type": "code",
   "execution_count": null,
   "id": "6ff5eda3-5c7d-4081-a79b-0ce044c955a1",
   "metadata": {},
   "outputs": [
    {
     "name": "stdout",
     "output_type": "stream",
     "text": [
      "El mejor k según Silhouette Score es: 5\n"
     ]
    }
   ],
   "source": [
    "# Elegimos el k con mayor score\n",
    "k_optimo = range(2, 11)[silhouettes.index(max(silhouettes))]\n",
    "print(f\"El mejor k según Silhouette Score es: {k_optimo}\")"
   ]
  },
  {
   "cell_type": "markdown",
   "id": "b93b116f-28ac-421b-8c4d-7dfad00d7827",
   "metadata": {},
   "source": [
    "**OPCION 2: PCA y luego Elbow**"
   ]
  },
  {
   "cell_type": "markdown",
   "id": "4f95a8ef-41b1-48f6-8c7d-aa5e19962fe4",
   "metadata": {},
   "source": [
    "*PCA*"
   ]
  },
  {
   "cell_type": "markdown",
   "id": "174f9fea-58ab-4864-ab7a-a558c943e1f7",
   "metadata": {},
   "source": [
    "Elejimos automáticamente cuántos componentes PCA conservar para explicar al menos el 90% de la varianza total."
   ]
  },
  {
   "cell_type": "code",
   "execution_count": null,
   "id": "c9322837",
   "metadata": {},
   "outputs": [],
   "source": [
    "def elegir_n_componentes_pca(X, varianza_objetivo=0.90):\n",
    "    \n",
    "    # PCA sin reducir aún\n",
    "    pca_temp = PCA()\n",
    "    pca_temp.fit(X)\n",
    "\n",
    "    # Calculamos varianza acumulada\n",
    "    varianza_acumulada = np.cumsum(pca_temp.explained_variance_ratio_)\n",
    "\n",
    "    # Encontramos el mínimo número de componentes que cumple el objetivo\n",
    "    n_componentes = np.argmax(varianza_acumulada >= varianza_objetivo) + 1"
   ]
  },
  {
   "cell_type": "code",
   "execution_count": null,
   "id": "4df0a2da",
   "metadata": {},
   "outputs": [
    {
     "ename": "MemoryError",
     "evalue": "Unable to allocate 578. MiB for an array with shape (8704, 8704) and data type float64",
     "output_type": "error",
     "traceback": [
      "\u001b[31m---------------------------------------------------------------------------\u001b[39m",
      "\u001b[31mMemoryError\u001b[39m                               Traceback (most recent call last)",
      "\u001b[36mCell\u001b[39m\u001b[36m \u001b[39m\u001b[32mIn[101]\u001b[39m\u001b[32m, line 1\u001b[39m\n\u001b[32m----> \u001b[39m\u001b[32m1\u001b[39m n_comp = \u001b[43melegir_n_componentes_pca\u001b[49m\u001b[43m(\u001b[49m\u001b[43mX_scaled\u001b[49m\u001b[43m)\u001b[49m\n\u001b[32m      2\u001b[39m \u001b[38;5;28mprint\u001b[39m(\u001b[33mf\u001b[39m\u001b[33m\"\u001b[39m\u001b[33mComponentes seleccionados: \u001b[39m\u001b[38;5;132;01m{\u001b[39;00mn_comp\u001b[38;5;132;01m}\u001b[39;00m\u001b[33m\"\u001b[39m)\n",
      "\u001b[36mCell\u001b[39m\u001b[36m \u001b[39m\u001b[32mIn[100]\u001b[39m\u001b[32m, line 5\u001b[39m, in \u001b[36melegir_n_componentes_pca\u001b[39m\u001b[34m(X, varianza_objetivo)\u001b[39m\n\u001b[32m      1\u001b[39m \u001b[38;5;28;01mdef\u001b[39;00m\u001b[38;5;250m \u001b[39m\u001b[34melegir_n_componentes_pca\u001b[39m(X, varianza_objetivo=\u001b[32m0.90\u001b[39m):\n\u001b[32m      2\u001b[39m \n\u001b[32m      3\u001b[39m     \u001b[38;5;66;03m# PCA sin reducir aún\u001b[39;00m\n\u001b[32m      4\u001b[39m     pca_temp = PCA()\n\u001b[32m----> \u001b[39m\u001b[32m5\u001b[39m     \u001b[43mpca_temp\u001b[49m\u001b[43m.\u001b[49m\u001b[43mfit\u001b[49m\u001b[43m(\u001b[49m\u001b[43mX\u001b[49m\u001b[43m)\u001b[49m\n\u001b[32m      7\u001b[39m     \u001b[38;5;66;03m# Calculamos varianza acumulada\u001b[39;00m\n\u001b[32m      8\u001b[39m     varianza_acumulada = np.cumsum(pca_temp.explained_variance_ratio_)\n",
      "\u001b[36mFile \u001b[39m\u001b[32m~\\AppData\\Local\\Packages\\PythonSoftwareFoundation.Python.3.11_qbz5n2kfra8p0\\LocalCache\\local-packages\\Python311\\site-packages\\sklearn\\base.py:1363\u001b[39m, in \u001b[36m_fit_context.<locals>.decorator.<locals>.wrapper\u001b[39m\u001b[34m(estimator, *args, **kwargs)\u001b[39m\n\u001b[32m   1356\u001b[39m     estimator._validate_params()\n\u001b[32m   1358\u001b[39m \u001b[38;5;28;01mwith\u001b[39;00m config_context(\n\u001b[32m   1359\u001b[39m     skip_parameter_validation=(\n\u001b[32m   1360\u001b[39m         prefer_skip_nested_validation \u001b[38;5;129;01mor\u001b[39;00m global_skip_validation\n\u001b[32m   1361\u001b[39m     )\n\u001b[32m   1362\u001b[39m ):\n\u001b[32m-> \u001b[39m\u001b[32m1363\u001b[39m     \u001b[38;5;28;01mreturn\u001b[39;00m \u001b[43mfit_method\u001b[49m\u001b[43m(\u001b[49m\u001b[43mestimator\u001b[49m\u001b[43m,\u001b[49m\u001b[43m \u001b[49m\u001b[43m*\u001b[49m\u001b[43margs\u001b[49m\u001b[43m,\u001b[49m\u001b[43m \u001b[49m\u001b[43m*\u001b[49m\u001b[43m*\u001b[49m\u001b[43mkwargs\u001b[49m\u001b[43m)\u001b[49m\n",
      "\u001b[36mFile \u001b[39m\u001b[32m~\\AppData\\Local\\Packages\\PythonSoftwareFoundation.Python.3.11_qbz5n2kfra8p0\\LocalCache\\local-packages\\Python311\\site-packages\\sklearn\\decomposition\\_pca.py:440\u001b[39m, in \u001b[36mPCA.fit\u001b[39m\u001b[34m(self, X, y)\u001b[39m\n\u001b[32m    422\u001b[39m \u001b[38;5;129m@_fit_context\u001b[39m(prefer_skip_nested_validation=\u001b[38;5;28;01mTrue\u001b[39;00m)\n\u001b[32m    423\u001b[39m \u001b[38;5;28;01mdef\u001b[39;00m\u001b[38;5;250m \u001b[39m\u001b[34mfit\u001b[39m(\u001b[38;5;28mself\u001b[39m, X, y=\u001b[38;5;28;01mNone\u001b[39;00m):\n\u001b[32m    424\u001b[39m \u001b[38;5;250m    \u001b[39m\u001b[33;03m\"\"\"Fit the model with X.\u001b[39;00m\n\u001b[32m    425\u001b[39m \n\u001b[32m    426\u001b[39m \u001b[33;03m    Parameters\u001b[39;00m\n\u001b[32m   (...)\u001b[39m\u001b[32m    438\u001b[39m \u001b[33;03m        Returns the instance itself.\u001b[39;00m\n\u001b[32m    439\u001b[39m \u001b[33;03m    \"\"\"\u001b[39;00m\n\u001b[32m--> \u001b[39m\u001b[32m440\u001b[39m     \u001b[38;5;28;43mself\u001b[39;49m\u001b[43m.\u001b[49m\u001b[43m_fit\u001b[49m\u001b[43m(\u001b[49m\u001b[43mX\u001b[49m\u001b[43m)\u001b[49m\n\u001b[32m    441\u001b[39m     \u001b[38;5;28;01mreturn\u001b[39;00m \u001b[38;5;28mself\u001b[39m\n",
      "\u001b[36mFile \u001b[39m\u001b[32m~\\AppData\\Local\\Packages\\PythonSoftwareFoundation.Python.3.11_qbz5n2kfra8p0\\LocalCache\\local-packages\\Python311\\site-packages\\sklearn\\decomposition\\_pca.py:540\u001b[39m, in \u001b[36mPCA._fit\u001b[39m\u001b[34m(self, X)\u001b[39m\n\u001b[32m    538\u001b[39m \u001b[38;5;66;03m# Call different fits for either full or truncated SVD\u001b[39;00m\n\u001b[32m    539\u001b[39m \u001b[38;5;28;01mif\u001b[39;00m \u001b[38;5;28mself\u001b[39m._fit_svd_solver \u001b[38;5;129;01min\u001b[39;00m (\u001b[33m\"\u001b[39m\u001b[33mfull\u001b[39m\u001b[33m\"\u001b[39m, \u001b[33m\"\u001b[39m\u001b[33mcovariance_eigh\u001b[39m\u001b[33m\"\u001b[39m):\n\u001b[32m--> \u001b[39m\u001b[32m540\u001b[39m     \u001b[38;5;28;01mreturn\u001b[39;00m \u001b[38;5;28;43mself\u001b[39;49m\u001b[43m.\u001b[49m\u001b[43m_fit_full\u001b[49m\u001b[43m(\u001b[49m\u001b[43mX\u001b[49m\u001b[43m,\u001b[49m\u001b[43m \u001b[49m\u001b[43mn_components\u001b[49m\u001b[43m,\u001b[49m\u001b[43m \u001b[49m\u001b[43mxp\u001b[49m\u001b[43m,\u001b[49m\u001b[43m \u001b[49m\u001b[43mis_array_api_compliant\u001b[49m\u001b[43m)\u001b[49m\n\u001b[32m    541\u001b[39m \u001b[38;5;28;01melif\u001b[39;00m \u001b[38;5;28mself\u001b[39m._fit_svd_solver \u001b[38;5;129;01min\u001b[39;00m [\u001b[33m\"\u001b[39m\u001b[33marpack\u001b[39m\u001b[33m\"\u001b[39m, \u001b[33m\"\u001b[39m\u001b[33mrandomized\u001b[39m\u001b[33m\"\u001b[39m]:\n\u001b[32m    542\u001b[39m     \u001b[38;5;28;01mreturn\u001b[39;00m \u001b[38;5;28mself\u001b[39m._fit_truncated(X, n_components, xp)\n",
      "\u001b[36mFile \u001b[39m\u001b[32m~\\AppData\\Local\\Packages\\PythonSoftwareFoundation.Python.3.11_qbz5n2kfra8p0\\LocalCache\\local-packages\\Python311\\site-packages\\sklearn\\decomposition\\_pca.py:581\u001b[39m, in \u001b[36mPCA._fit_full\u001b[39m\u001b[34m(self, X, n_components, xp, is_array_api_compliant)\u001b[39m\n\u001b[32m    571\u001b[39m x_is_centered = \u001b[38;5;129;01mnot\u001b[39;00m \u001b[38;5;28mself\u001b[39m.copy\n\u001b[32m    573\u001b[39m \u001b[38;5;28;01mif\u001b[39;00m \u001b[38;5;129;01mnot\u001b[39;00m is_array_api_compliant:\n\u001b[32m    574\u001b[39m     \u001b[38;5;66;03m# Use scipy.linalg with NumPy/SciPy inputs for the sake of not\u001b[39;00m\n\u001b[32m    575\u001b[39m     \u001b[38;5;66;03m# introducing unanticipated behavior changes. In the long run we\u001b[39;00m\n\u001b[32m   (...)\u001b[39m\u001b[32m    579\u001b[39m     \u001b[38;5;66;03m# solver by default though (assuming both are built against the\u001b[39;00m\n\u001b[32m    580\u001b[39m     \u001b[38;5;66;03m# same BLAS).\u001b[39;00m\n\u001b[32m--> \u001b[39m\u001b[32m581\u001b[39m     U, S, Vt = \u001b[43mlinalg\u001b[49m\u001b[43m.\u001b[49m\u001b[43msvd\u001b[49m\u001b[43m(\u001b[49m\u001b[43mX_centered\u001b[49m\u001b[43m,\u001b[49m\u001b[43m \u001b[49m\u001b[43mfull_matrices\u001b[49m\u001b[43m=\u001b[49m\u001b[38;5;28;43;01mFalse\u001b[39;49;00m\u001b[43m)\u001b[49m\n\u001b[32m    582\u001b[39m \u001b[38;5;28;01melse\u001b[39;00m:\n\u001b[32m    583\u001b[39m     U, S, Vt = xp.linalg.svd(X_centered, full_matrices=\u001b[38;5;28;01mFalse\u001b[39;00m)\n",
      "\u001b[36mFile \u001b[39m\u001b[32m~\\AppData\\Local\\Packages\\PythonSoftwareFoundation.Python.3.11_qbz5n2kfra8p0\\LocalCache\\local-packages\\Python311\\site-packages\\scipy\\linalg\\_decomp_svd.py:162\u001b[39m, in \u001b[36msvd\u001b[39m\u001b[34m(a, full_matrices, compute_uv, overwrite_a, check_finite, lapack_driver)\u001b[39m\n\u001b[32m    158\u001b[39m lwork = _compute_lwork(gesXd_lwork, a1.shape[\u001b[32m0\u001b[39m], a1.shape[\u001b[32m1\u001b[39m],\n\u001b[32m    159\u001b[39m                        compute_uv=compute_uv, full_matrices=full_matrices)\n\u001b[32m    161\u001b[39m \u001b[38;5;66;03m# perform decomposition\u001b[39;00m\n\u001b[32m--> \u001b[39m\u001b[32m162\u001b[39m u, s, v, info = \u001b[43mgesXd\u001b[49m\u001b[43m(\u001b[49m\u001b[43ma1\u001b[49m\u001b[43m,\u001b[49m\u001b[43m \u001b[49m\u001b[43mcompute_uv\u001b[49m\u001b[43m=\u001b[49m\u001b[43mcompute_uv\u001b[49m\u001b[43m,\u001b[49m\u001b[43m \u001b[49m\u001b[43mlwork\u001b[49m\u001b[43m=\u001b[49m\u001b[43mlwork\u001b[49m\u001b[43m,\u001b[49m\n\u001b[32m    163\u001b[39m \u001b[43m                      \u001b[49m\u001b[43mfull_matrices\u001b[49m\u001b[43m=\u001b[49m\u001b[43mfull_matrices\u001b[49m\u001b[43m,\u001b[49m\u001b[43m \u001b[49m\u001b[43moverwrite_a\u001b[49m\u001b[43m=\u001b[49m\u001b[43moverwrite_a\u001b[49m\u001b[43m)\u001b[49m\n\u001b[32m    165\u001b[39m \u001b[38;5;28;01mif\u001b[39;00m info > \u001b[32m0\u001b[39m:\n\u001b[32m    166\u001b[39m     \u001b[38;5;28;01mraise\u001b[39;00m LinAlgError(\u001b[33m\"\u001b[39m\u001b[33mSVD did not converge\u001b[39m\u001b[33m\"\u001b[39m)\n",
      "\u001b[31mMemoryError\u001b[39m: Unable to allocate 578. MiB for an array with shape (8704, 8704) and data type float64"
     ]
    }
   ],
   "source": [
    "n_comp = elegir_n_componentes_pca(X_scaled)\n",
    "print(f\"Componentes seleccionados: {n_comp}\")"
   ]
  },
  {
   "cell_type": "markdown",
   "id": "2657229e-1742-44f8-b929-e920c9a8a004",
   "metadata": {},
   "source": [
    "Debido a que el resultado es muy elevado, utilizaremos un gráfico para ver cuánta varianza se explica con menos componentes. Nos permitirá visualizar si necesitamos realmente 5915 o si con menor cantidad de componentes explicariamos aproximadamente el 90%."
   ]
  },
  {
   "cell_type": "code",
   "execution_count": null,
   "id": "0f7590fa-5b04-4c0d-ab83-f7c35f994af1",
   "metadata": {},
   "outputs": [
    {
     "ename": "MemoryError",
     "evalue": "Unable to allocate 1.20 GiB for an array with shape (8704, 18570) and data type float64",
     "output_type": "error",
     "traceback": [
      "\u001b[31m---------------------------------------------------------------------------\u001b[39m",
      "\u001b[31mMemoryError\u001b[39m                               Traceback (most recent call last)",
      "\u001b[36mCell\u001b[39m\u001b[36m \u001b[39m\u001b[32mIn[102]\u001b[39m\u001b[32m, line 6\u001b[39m\n\u001b[32m      3\u001b[39m \u001b[38;5;28;01mimport\u001b[39;00m\u001b[38;5;250m \u001b[39m\u001b[34;01mnumpy\u001b[39;00m\u001b[38;5;250m \u001b[39m\u001b[38;5;28;01mas\u001b[39;00m\u001b[38;5;250m \u001b[39m\u001b[34;01mnp\u001b[39;00m\n\u001b[32m      5\u001b[39m pca = PCA()\n\u001b[32m----> \u001b[39m\u001b[32m6\u001b[39m \u001b[43mpca\u001b[49m\u001b[43m.\u001b[49m\u001b[43mfit\u001b[49m\u001b[43m(\u001b[49m\u001b[43mX_scaled\u001b[49m\u001b[43m)\u001b[49m\n\u001b[32m      8\u001b[39m var_acum = np.cumsum(pca.explained_variance_ratio_)\n\u001b[32m     10\u001b[39m plt.figure(figsize=(\u001b[32m10\u001b[39m, \u001b[32m5\u001b[39m))\n",
      "\u001b[36mFile \u001b[39m\u001b[32m~\\AppData\\Local\\Packages\\PythonSoftwareFoundation.Python.3.11_qbz5n2kfra8p0\\LocalCache\\local-packages\\Python311\\site-packages\\sklearn\\base.py:1363\u001b[39m, in \u001b[36m_fit_context.<locals>.decorator.<locals>.wrapper\u001b[39m\u001b[34m(estimator, *args, **kwargs)\u001b[39m\n\u001b[32m   1356\u001b[39m     estimator._validate_params()\n\u001b[32m   1358\u001b[39m \u001b[38;5;28;01mwith\u001b[39;00m config_context(\n\u001b[32m   1359\u001b[39m     skip_parameter_validation=(\n\u001b[32m   1360\u001b[39m         prefer_skip_nested_validation \u001b[38;5;129;01mor\u001b[39;00m global_skip_validation\n\u001b[32m   1361\u001b[39m     )\n\u001b[32m   1362\u001b[39m ):\n\u001b[32m-> \u001b[39m\u001b[32m1363\u001b[39m     \u001b[38;5;28;01mreturn\u001b[39;00m \u001b[43mfit_method\u001b[49m\u001b[43m(\u001b[49m\u001b[43mestimator\u001b[49m\u001b[43m,\u001b[49m\u001b[43m \u001b[49m\u001b[43m*\u001b[49m\u001b[43margs\u001b[49m\u001b[43m,\u001b[49m\u001b[43m \u001b[49m\u001b[43m*\u001b[49m\u001b[43m*\u001b[49m\u001b[43mkwargs\u001b[49m\u001b[43m)\u001b[49m\n",
      "\u001b[36mFile \u001b[39m\u001b[32m~\\AppData\\Local\\Packages\\PythonSoftwareFoundation.Python.3.11_qbz5n2kfra8p0\\LocalCache\\local-packages\\Python311\\site-packages\\sklearn\\decomposition\\_pca.py:440\u001b[39m, in \u001b[36mPCA.fit\u001b[39m\u001b[34m(self, X, y)\u001b[39m\n\u001b[32m    422\u001b[39m \u001b[38;5;129m@_fit_context\u001b[39m(prefer_skip_nested_validation=\u001b[38;5;28;01mTrue\u001b[39;00m)\n\u001b[32m    423\u001b[39m \u001b[38;5;28;01mdef\u001b[39;00m\u001b[38;5;250m \u001b[39m\u001b[34mfit\u001b[39m(\u001b[38;5;28mself\u001b[39m, X, y=\u001b[38;5;28;01mNone\u001b[39;00m):\n\u001b[32m    424\u001b[39m \u001b[38;5;250m    \u001b[39m\u001b[33;03m\"\"\"Fit the model with X.\u001b[39;00m\n\u001b[32m    425\u001b[39m \n\u001b[32m    426\u001b[39m \u001b[33;03m    Parameters\u001b[39;00m\n\u001b[32m   (...)\u001b[39m\u001b[32m    438\u001b[39m \u001b[33;03m        Returns the instance itself.\u001b[39;00m\n\u001b[32m    439\u001b[39m \u001b[33;03m    \"\"\"\u001b[39;00m\n\u001b[32m--> \u001b[39m\u001b[32m440\u001b[39m     \u001b[38;5;28;43mself\u001b[39;49m\u001b[43m.\u001b[49m\u001b[43m_fit\u001b[49m\u001b[43m(\u001b[49m\u001b[43mX\u001b[49m\u001b[43m)\u001b[49m\n\u001b[32m    441\u001b[39m     \u001b[38;5;28;01mreturn\u001b[39;00m \u001b[38;5;28mself\u001b[39m\n",
      "\u001b[36mFile \u001b[39m\u001b[32m~\\AppData\\Local\\Packages\\PythonSoftwareFoundation.Python.3.11_qbz5n2kfra8p0\\LocalCache\\local-packages\\Python311\\site-packages\\sklearn\\decomposition\\_pca.py:540\u001b[39m, in \u001b[36mPCA._fit\u001b[39m\u001b[34m(self, X)\u001b[39m\n\u001b[32m    538\u001b[39m \u001b[38;5;66;03m# Call different fits for either full or truncated SVD\u001b[39;00m\n\u001b[32m    539\u001b[39m \u001b[38;5;28;01mif\u001b[39;00m \u001b[38;5;28mself\u001b[39m._fit_svd_solver \u001b[38;5;129;01min\u001b[39;00m (\u001b[33m\"\u001b[39m\u001b[33mfull\u001b[39m\u001b[33m\"\u001b[39m, \u001b[33m\"\u001b[39m\u001b[33mcovariance_eigh\u001b[39m\u001b[33m\"\u001b[39m):\n\u001b[32m--> \u001b[39m\u001b[32m540\u001b[39m     \u001b[38;5;28;01mreturn\u001b[39;00m \u001b[38;5;28;43mself\u001b[39;49m\u001b[43m.\u001b[49m\u001b[43m_fit_full\u001b[49m\u001b[43m(\u001b[49m\u001b[43mX\u001b[49m\u001b[43m,\u001b[49m\u001b[43m \u001b[49m\u001b[43mn_components\u001b[49m\u001b[43m,\u001b[49m\u001b[43m \u001b[49m\u001b[43mxp\u001b[49m\u001b[43m,\u001b[49m\u001b[43m \u001b[49m\u001b[43mis_array_api_compliant\u001b[49m\u001b[43m)\u001b[49m\n\u001b[32m    541\u001b[39m \u001b[38;5;28;01melif\u001b[39;00m \u001b[38;5;28mself\u001b[39m._fit_svd_solver \u001b[38;5;129;01min\u001b[39;00m [\u001b[33m\"\u001b[39m\u001b[33marpack\u001b[39m\u001b[33m\"\u001b[39m, \u001b[33m\"\u001b[39m\u001b[33mrandomized\u001b[39m\u001b[33m\"\u001b[39m]:\n\u001b[32m    542\u001b[39m     \u001b[38;5;28;01mreturn\u001b[39;00m \u001b[38;5;28mself\u001b[39m._fit_truncated(X, n_components, xp)\n",
      "\u001b[36mFile \u001b[39m\u001b[32m~\\AppData\\Local\\Packages\\PythonSoftwareFoundation.Python.3.11_qbz5n2kfra8p0\\LocalCache\\local-packages\\Python311\\site-packages\\sklearn\\decomposition\\_pca.py:581\u001b[39m, in \u001b[36mPCA._fit_full\u001b[39m\u001b[34m(self, X, n_components, xp, is_array_api_compliant)\u001b[39m\n\u001b[32m    571\u001b[39m x_is_centered = \u001b[38;5;129;01mnot\u001b[39;00m \u001b[38;5;28mself\u001b[39m.copy\n\u001b[32m    573\u001b[39m \u001b[38;5;28;01mif\u001b[39;00m \u001b[38;5;129;01mnot\u001b[39;00m is_array_api_compliant:\n\u001b[32m    574\u001b[39m     \u001b[38;5;66;03m# Use scipy.linalg with NumPy/SciPy inputs for the sake of not\u001b[39;00m\n\u001b[32m    575\u001b[39m     \u001b[38;5;66;03m# introducing unanticipated behavior changes. In the long run we\u001b[39;00m\n\u001b[32m   (...)\u001b[39m\u001b[32m    579\u001b[39m     \u001b[38;5;66;03m# solver by default though (assuming both are built against the\u001b[39;00m\n\u001b[32m    580\u001b[39m     \u001b[38;5;66;03m# same BLAS).\u001b[39;00m\n\u001b[32m--> \u001b[39m\u001b[32m581\u001b[39m     U, S, Vt = \u001b[43mlinalg\u001b[49m\u001b[43m.\u001b[49m\u001b[43msvd\u001b[49m\u001b[43m(\u001b[49m\u001b[43mX_centered\u001b[49m\u001b[43m,\u001b[49m\u001b[43m \u001b[49m\u001b[43mfull_matrices\u001b[49m\u001b[43m=\u001b[49m\u001b[38;5;28;43;01mFalse\u001b[39;49;00m\u001b[43m)\u001b[49m\n\u001b[32m    582\u001b[39m \u001b[38;5;28;01melse\u001b[39;00m:\n\u001b[32m    583\u001b[39m     U, S, Vt = xp.linalg.svd(X_centered, full_matrices=\u001b[38;5;28;01mFalse\u001b[39;00m)\n",
      "\u001b[36mFile \u001b[39m\u001b[32m~\\AppData\\Local\\Packages\\PythonSoftwareFoundation.Python.3.11_qbz5n2kfra8p0\\LocalCache\\local-packages\\Python311\\site-packages\\scipy\\linalg\\_decomp_svd.py:162\u001b[39m, in \u001b[36msvd\u001b[39m\u001b[34m(a, full_matrices, compute_uv, overwrite_a, check_finite, lapack_driver)\u001b[39m\n\u001b[32m    158\u001b[39m lwork = _compute_lwork(gesXd_lwork, a1.shape[\u001b[32m0\u001b[39m], a1.shape[\u001b[32m1\u001b[39m],\n\u001b[32m    159\u001b[39m                        compute_uv=compute_uv, full_matrices=full_matrices)\n\u001b[32m    161\u001b[39m \u001b[38;5;66;03m# perform decomposition\u001b[39;00m\n\u001b[32m--> \u001b[39m\u001b[32m162\u001b[39m u, s, v, info = \u001b[43mgesXd\u001b[49m\u001b[43m(\u001b[49m\u001b[43ma1\u001b[49m\u001b[43m,\u001b[49m\u001b[43m \u001b[49m\u001b[43mcompute_uv\u001b[49m\u001b[43m=\u001b[49m\u001b[43mcompute_uv\u001b[49m\u001b[43m,\u001b[49m\u001b[43m \u001b[49m\u001b[43mlwork\u001b[49m\u001b[43m=\u001b[49m\u001b[43mlwork\u001b[49m\u001b[43m,\u001b[49m\n\u001b[32m    163\u001b[39m \u001b[43m                      \u001b[49m\u001b[43mfull_matrices\u001b[49m\u001b[43m=\u001b[49m\u001b[43mfull_matrices\u001b[49m\u001b[43m,\u001b[49m\u001b[43m \u001b[49m\u001b[43moverwrite_a\u001b[49m\u001b[43m=\u001b[49m\u001b[43moverwrite_a\u001b[49m\u001b[43m)\u001b[49m\n\u001b[32m    165\u001b[39m \u001b[38;5;28;01mif\u001b[39;00m info > \u001b[32m0\u001b[39m:\n\u001b[32m    166\u001b[39m     \u001b[38;5;28;01mraise\u001b[39;00m LinAlgError(\u001b[33m\"\u001b[39m\u001b[33mSVD did not converge\u001b[39m\u001b[33m\"\u001b[39m)\n",
      "\u001b[31mMemoryError\u001b[39m: Unable to allocate 1.20 GiB for an array with shape (8704, 18570) and data type float64"
     ]
    }
   ],
   "source": [
    "from sklearn.decomposition import PCA\n",
    "import matplotlib.pyplot as plt\n",
    "import numpy as np\n",
    "\n",
    "pca = PCA()\n",
    "pca.fit(X_scaled)\n",
    "\n",
    "var_acum = np.cumsum(pca.explained_variance_ratio_)\n",
    "\n",
    "plt.figure(figsize=(10, 5))\n",
    "plt.plot(var_acum, marker='o')\n",
    "plt.xlabel(\"Número de componentes\")\n",
    "plt.ylabel(\"Varianza acumulada\")\n",
    "plt.title(\"Varianza explicada por PCA\")\n",
    "plt.grid(True)\n",
    "plt.axhline(y=0.90, color='r', linestyle='--', label='90% de varianza')\n",
    "plt.legend()\n",
    "plt.show()"
   ]
  },
  {
   "cell_type": "markdown",
   "id": "2ce1da25-38df-4e46-8b3c-22e818abb38b",
   "metadata": {},
   "source": [
    "En el gráfico se observa claramente que necesitamos una gran cantidad de componenetes para explicar el 90% de la varianza y que por la forma de la curva una disminución de los componentes implica una disminución importante en la varianza explicada. Esto se debe a que aplicamos One hot encoding y cada categoría nueva crea una columna. Numerosas columnas categóricas con alta cardinalidad originan muchas con información redundante o casi nula.\n",
    "\n",
    "Debido a esto realizaremos elección y la carga manual de los componentes."
   ]
  },
  {
   "cell_type": "markdown",
   "id": "4560297a",
   "metadata": {},
   "source": [
    "Reducción de dimensionalidad con PCA:"
   ]
  },
  {
   "cell_type": "code",
   "execution_count": null,
   "id": "01149dce-76ee-438e-a298-95d1997f546e",
   "metadata": {},
   "outputs": [],
   "source": [
    "# Los datos ya estan escalados por lo tanto reducimos dimensionalidad con PCA. Definimos trabajar con 2 componentes.\n",
    "pca = PCA(n_components=2)  \n",
    "X_pca = pca.fit_transform(X_scaled)"
   ]
  },
  {
   "cell_type": "code",
   "execution_count": null,
   "id": "d0ffc45d-2640-4d71-87c1-c0188d2b60dd",
   "metadata": {},
   "outputs": [],
   "source": [
    "# Filtramos todas las variables numéricas (incluidas las dummies)\n",
    "df_clusters = df.select_dtypes(include='number').copy()\n",
    "\n",
    "# Excluimos la columna 'Cluster' si existe debido al analisis previo de Kmeans\n",
    "if 'Cluster' in df.columns:\n",
    "    df_clusters = df.drop(columns=['Cluster'])"
   ]
  },
  {
   "cell_type": "code",
   "execution_count": null,
   "id": "6b6f4a99-34c7-464a-9f93-2bd025bffc9d",
   "metadata": {},
   "outputs": [
    {
     "name": "stdout",
     "output_type": "stream",
     "text": [
      "Shape de componentes: (2, 18570)\n",
      "Cantidad de variables: 18570\n"
     ]
    }
   ],
   "source": [
    "#Corroboramos la eliminacion de la variable 'Cluster'\n",
    "print(f\"Shape de componentes: {pca.components_.shape}\")        \n",
    "print(f\"Cantidad de variables: {len(df_clusters.columns)}\")  "
   ]
  },
  {
   "cell_type": "markdown",
   "id": "79af9ee7",
   "metadata": {},
   "source": [
    "Grafico:\n"
   ]
  },
  {
   "cell_type": "markdown",
   "id": "53d0afec",
   "metadata": {},
   "source": [
    "Se construye un nuevo DataFrame con las dos primeras componentes principales (PCA1 y PCA2), que permiten visualizar los datos en 2D.\n",
    "Además, se incluye la columna Cluster, asignada previamente por el modelo GMM o KMeans, lo que facilita la visualización de los grupos formados."
   ]
  },
  {
   "cell_type": "code",
   "execution_count": null,
   "id": "a8f0124b-c8b9-4216-b0a0-042ad3f80545",
   "metadata": {},
   "outputs": [],
   "source": [
    "#Creamos un DataFrame para graficar\n",
    "df_plot = pd.DataFrame()\n",
    "df_plot['PCA1'] = X_pca[:, 0]\n",
    "df_plot['PCA2'] = X_pca[:, 1]\n",
    "df_plot['Cluster'] = clusters"
   ]
  },
  {
   "cell_type": "code",
   "execution_count": null,
   "id": "f6fd0c43-f4e2-4779-8d57-16d455a5033d",
   "metadata": {},
   "outputs": [
    {
     "data": {
      "image/png": "[encoded data removed]",
      "text/plain": [
       "<Figure size 1000x600 with 1 Axes>"
      ]
     },
     "metadata": {},
     "output_type": "display_data"
    }
   ],
   "source": [
    "#Graficamos\n",
    "plt.figure(figsize=(10, 6))\n",
    "sns.scatterplot(data=df_plot, x='PCA1', y='PCA2', hue='Cluster', palette='tab10', s=70)\n",
    "plt.title(f'Clusters visualizados con PCA')\n",
    "plt.xlabel('Componente Principal 1')\n",
    "plt.ylabel('Componente Principal 2')\n",
    "plt.legend(title='Cluster')\n",
    "plt.grid(True)\n",
    "plt.show()"
   ]
  },
  {
   "cell_type": "markdown",
   "id": "3ee6011e",
   "metadata": {},
   "source": [
    "Análisis de cargas de los componentes principales: \n",
    "Este análisis permite interpretar qué variables están detrás de los agrupamientos visualizados en el plano PCA."
   ]
  },
  {
   "cell_type": "code",
   "execution_count": null,
   "id": "efe7a9ff-cb3c-4f59-ad44-72879e14654e",
   "metadata": {},
   "outputs": [
    {
     "name": "stdout",
     "output_type": "stream",
     "text": [
      "                                  PCA1      PCA2\n",
      "Calificación_promedio        -0.084519 -0.002657\n",
      "Duración                     -0.026354 -0.003715\n",
      "Vistas                        0.052108  0.010752\n",
      "Ratings                       0.047126  0.010844\n",
      "Porcentaje_likes             -0.071137  0.002859\n",
      "...                                ...       ...\n",
      "Coprotagonista_Édith Scob    -0.006217 -0.001812\n",
      "Coprotagonista_Éric Cantona  -0.006452 -0.008349\n",
      "Coprotagonista_Ériq Ebouaney -0.002480  0.006148\n",
      "Coprotagonista_Óscar Jaenada  0.001448  0.000157\n",
      "Coprotagonista_Ørjan Gamst   -0.006134 -0.002506\n",
      "\n",
      "[18570 rows x 2 columns]\n"
     ]
    }
   ],
   "source": [
    "#Observamos la contribución (o \"peso\") de cada variable en cada componente\n",
    "componentes = pd.DataFrame(pca.components_, columns=df_clusters.columns, index=['PCA1', 'PCA2'])\n",
    "print(componentes.T)"
   ]
  },
  {
   "cell_type": "markdown",
   "id": "7ee57461",
   "metadata": {},
   "source": [
    "Interpretación de cargas relevantes:"
   ]
  },
  {
   "cell_type": "markdown",
   "id": "b3053c21",
   "metadata": {},
   "source": [
    "Esto es esencial para dar sentido a los agrupamientos obtenidos por clustering y para saber si los componentes están reflejando, por ejemplo, diferencias por cantidad de vistas, duración, idioma, actores frecuentes, etc.\n"
   ]
  },
  {
   "cell_type": "code",
   "execution_count": null,
   "id": "f27895b7-fbb2-4474-86d5-bf14c2372730",
   "metadata": {},
   "outputs": [
    {
     "name": "stdout",
     "output_type": "stream",
     "text": [
      "Cargas PCA para cada componente:\n",
      "   Calificación_promedio  Duración    Vistas   Ratings  Porcentaje_likes  \\\n",
      "0              -0.084519 -0.026354  0.052108  0.047126         -0.071137   \n",
      "1              -0.002657 -0.003715  0.010752  0.010844          0.002859   \n",
      "\n",
      "   Director_  Director_A.V. Rockwell  Director_Aaron B. Koontz  \\\n",
      "0   0.005542                0.001092                  0.003221   \n",
      "1  -0.000155               -0.001611                 -0.001188   \n",
      "\n",
      "   Director_Aaron Blaise  Director_Aaron Hann  ...  \\\n",
      "0               0.002237             0.000709  ...   \n",
      "1               0.000484             0.000784  ...   \n",
      "\n",
      "   Coprotagonista_Zoë Kravitz  Coprotagonista_Zuleikha Robinson  \\\n",
      "0                    0.003566                          0.001806   \n",
      "1                    0.001156                         -0.000154   \n",
      "\n",
      "   Coprotagonista_nan  Coprotagonista_Álvaro Guevara  \\\n",
      "0            0.009593                      -0.007006   \n",
      "1           -0.004160                       0.001402   \n",
      "\n",
      "   Coprotagonista_Ángel Aranda  Coprotagonista_Édith Scob  \\\n",
      "0                    -0.006305                  -0.006217   \n",
      "1                    -0.003079                  -0.001812   \n",
      "\n",
      "   Coprotagonista_Éric Cantona  Coprotagonista_Ériq Ebouaney  \\\n",
      "0                    -0.006452                     -0.002480   \n",
      "1                    -0.008349                      0.006148   \n",
      "\n",
      "   Coprotagonista_Óscar Jaenada  Coprotagonista_Ørjan Gamst  \n",
      "0                      0.001448                   -0.006134  \n",
      "1                      0.000157                   -0.002506  \n",
      "\n",
      "[2 rows x 18570 columns]\n"
     ]
    }
   ],
   "source": [
    "cargas = pd.DataFrame(pca.components_, columns=df_clusters.columns)\n",
    "\n",
    "print(\"Cargas PCA para cada componente:\")\n",
    "print(cargas)"
   ]
  },
  {
   "cell_type": "markdown",
   "id": "d657d57d",
   "metadata": {},
   "source": [
    "En este caso, variables como 'Vistas', 'Ratings' o ciertos actores/directores frecuentes son los que más influyen en la separación de los clústeres en el plano PCA."
   ]
  },
  {
   "cell_type": "markdown",
   "id": "9e6c208a",
   "metadata": {},
   "source": [
    "A continuacion usamos el metodo Elbow para encontrar el número óptimo de clústeres (k) antes de aplicar KMeans."
   ]
  },
  {
   "cell_type": "markdown",
   "id": "a717cfa0",
   "metadata": {},
   "source": [
    "Aplicamos método Elbow luego de aplicar PCA"
   ]
  },
  {
   "cell_type": "code",
   "execution_count": null,
   "id": "57d9aa82-9bc9-4105-bd8b-0c7c823c8c0f",
   "metadata": {},
   "outputs": [],
   "source": [
    "\n",
    "inertias = []\n",
    "K_range = range(1, 11)\n",
    "\n",
    "for k in K_range:\n",
    "    kmeans = KMeans(n_clusters=k, random_state=42)\n",
    "    kmeans.fit(X_pca)\n",
    "    inertias.append(kmeans.inertia_)"
   ]
  },
  {
   "cell_type": "code",
   "execution_count": null,
   "id": "8c21f032-cf35-40e8-b8e5-3b4f3dc346f4",
   "metadata": {},
   "outputs": [],
   "source": [
    "# Aplicamos KneeLocator para detectar el codo\n",
    "kneedle = KneeLocator(K_range, inertias, curve='convex', direction='decreasing')\n",
    "k_optimo = kneedle.knee"
   ]
  },
  {
   "cell_type": "code",
   "execution_count": null,
   "id": "8c8b6e6d-c913-45cf-a29a-2e46b3782706",
   "metadata": {},
   "outputs": [
    {
     "data": {
      "image/png": "[encoded data removed]",
      "text/plain": [
       "<Figure size 800x500 with 1 Axes>"
      ]
     },
     "metadata": {},
     "output_type": "display_data"
    },
    {
     "name": "stdout",
     "output_type": "stream",
     "text": [
      "El número óptimo de clusters detectado es: 6\n"
     ]
    }
   ],
   "source": [
    "#Graficamos con k_optimo\n",
    "plt.figure(figsize=(8, 5))\n",
    "plt.plot(K_range, inertias, marker='o')\n",
    "plt.axvline(x=k_optimo, color='red', linestyle='--', label=f'k óptimo = {k_optimo}')\n",
    "plt.xlabel('Número de clusters (k)')\n",
    "plt.ylabel('Inercia')\n",
    "plt.title('Método del codo sobre componentes PCA')\n",
    "plt.legend()\n",
    "plt.grid(True)\n",
    "plt.show()\n",
    "\n",
    "print(f\"El número óptimo de clusters detectado es: {k_optimo}\")"
   ]
  },
  {
   "cell_type": "markdown",
   "id": "30374112-eccb-431d-a71f-81f8defe3107",
   "metadata": {},
   "source": [
    "**OPCIÓN 3: Cambio de rango de k**"
   ]
  },
  {
   "cell_type": "code",
   "execution_count": null,
   "id": "4d368312-a709-490d-9ee4-033c478ee8a2",
   "metadata": {},
   "outputs": [],
   "source": [
    "# Aplicamos método Elbow para encontrar el mejor número de clusters cambiando el rango\n",
    "inertias = []\n",
    "K_range = range(1, 21)\n",
    "\n",
    "for k in K_range:\n",
    "    kmeans = KMeans(n_clusters=k, random_state=42)\n",
    "    kmeans.fit(X_scaled)\n",
    "    inertias.append(kmeans.inertia_)"
   ]
  },
  {
   "cell_type": "code",
   "execution_count": null,
   "id": "6f7f0572-36ed-4e99-a384-51dad6909ef1",
   "metadata": {},
   "outputs": [],
   "source": [
    "# Utilizamos KneeLocator para encontrar el k óptimo\n",
    "kneedle = KneeLocator(K_range, inertias, curve='convex', direction='decreasing')\n",
    "k_optimo = kneedle.knee"
   ]
  },
  {
   "cell_type": "code",
   "execution_count": null,
   "id": "04fa1095-0c64-4bd9-b747-5a5bf2707985",
   "metadata": {},
   "outputs": [
    {
     "ename": "TypeError",
     "evalue": "'>' not supported between instances of 'float' and 'NoneType'",
     "output_type": "error",
     "traceback": [
      "\u001b[31m---------------------------------------------------------------------------\u001b[39m",
      "\u001b[31mTypeError\u001b[39m                                 Traceback (most recent call last)",
      "\u001b[36mCell\u001b[39m\u001b[36m \u001b[39m\u001b[32mIn[198]\u001b[39m\u001b[32m, line 4\u001b[39m\n\u001b[32m      2\u001b[39m plt.figure(figsize=(\u001b[32m8\u001b[39m, \u001b[32m5\u001b[39m))\n\u001b[32m      3\u001b[39m plt.plot(K_range, inertias, marker=\u001b[33m'\u001b[39m\u001b[33mo\u001b[39m\u001b[33m'\u001b[39m)\n\u001b[32m----> \u001b[39m\u001b[32m4\u001b[39m \u001b[43mplt\u001b[49m\u001b[43m.\u001b[49m\u001b[43maxvline\u001b[49m\u001b[43m(\u001b[49m\u001b[43mx\u001b[49m\u001b[43m=\u001b[49m\u001b[43mk_optimo\u001b[49m\u001b[43m,\u001b[49m\u001b[43m \u001b[49m\u001b[43mcolor\u001b[49m\u001b[43m=\u001b[49m\u001b[33;43m'\u001b[39;49m\u001b[33;43mred\u001b[39;49m\u001b[33;43m'\u001b[39;49m\u001b[43m,\u001b[49m\u001b[43m \u001b[49m\u001b[43mlinestyle\u001b[49m\u001b[43m=\u001b[49m\u001b[33;43m'\u001b[39;49m\u001b[33;43m--\u001b[39;49m\u001b[33;43m'\u001b[39;49m\u001b[43m,\u001b[49m\u001b[43m \u001b[49m\u001b[43mlabel\u001b[49m\u001b[43m=\u001b[49m\u001b[33;43mf\u001b[39;49m\u001b[33;43m'\u001b[39;49m\u001b[33;43mk óptimo = \u001b[39;49m\u001b[38;5;132;43;01m{\u001b[39;49;00m\u001b[43mk_optimo\u001b[49m\u001b[38;5;132;43;01m}\u001b[39;49;00m\u001b[33;43m'\u001b[39;49m\u001b[43m)\u001b[49m\n\u001b[32m      5\u001b[39m plt.xlabel(\u001b[33m'\u001b[39m\u001b[33mNúmero de clusters (k)\u001b[39m\u001b[33m'\u001b[39m)\n\u001b[32m      6\u001b[39m plt.ylabel(\u001b[33m'\u001b[39m\u001b[33mInercia\u001b[39m\u001b[33m'\u001b[39m)\n",
      "\u001b[36mFile \u001b[39m\u001b[32m~\\AppData\\Local\\Packages\\PythonSoftwareFoundation.Python.3.11_qbz5n2kfra8p0\\LocalCache\\local-packages\\Python311\\site-packages\\matplotlib\\pyplot.py:2967\u001b[39m, in \u001b[36maxvline\u001b[39m\u001b[34m(x, ymin, ymax, **kwargs)\u001b[39m\n\u001b[32m   2965\u001b[39m \u001b[38;5;129m@_copy_docstring_and_deprecators\u001b[39m(Axes.axvline)\n\u001b[32m   2966\u001b[39m \u001b[38;5;28;01mdef\u001b[39;00m\u001b[38;5;250m \u001b[39m\u001b[34maxvline\u001b[39m(x: \u001b[38;5;28mfloat\u001b[39m = \u001b[32m0\u001b[39m, ymin: \u001b[38;5;28mfloat\u001b[39m = \u001b[32m0\u001b[39m, ymax: \u001b[38;5;28mfloat\u001b[39m = \u001b[32m1\u001b[39m, **kwargs) -> Line2D:\n\u001b[32m-> \u001b[39m\u001b[32m2967\u001b[39m     \u001b[38;5;28;01mreturn\u001b[39;00m \u001b[43mgca\u001b[49m\u001b[43m(\u001b[49m\u001b[43m)\u001b[49m\u001b[43m.\u001b[49m\u001b[43maxvline\u001b[49m\u001b[43m(\u001b[49m\u001b[43mx\u001b[49m\u001b[43m=\u001b[49m\u001b[43mx\u001b[49m\u001b[43m,\u001b[49m\u001b[43m \u001b[49m\u001b[43mymin\u001b[49m\u001b[43m=\u001b[49m\u001b[43mymin\u001b[49m\u001b[43m,\u001b[49m\u001b[43m \u001b[49m\u001b[43mymax\u001b[49m\u001b[43m=\u001b[49m\u001b[43mymax\u001b[49m\u001b[43m,\u001b[49m\u001b[43m \u001b[49m\u001b[43m*\u001b[49m\u001b[43m*\u001b[49m\u001b[43mkwargs\u001b[49m\u001b[43m)\u001b[49m\n",
      "\u001b[36mFile \u001b[39m\u001b[32m~\\AppData\\Local\\Packages\\PythonSoftwareFoundation.Python.3.11_qbz5n2kfra8p0\\LocalCache\\local-packages\\Python311\\site-packages\\matplotlib\\axes\\_axes.py:888\u001b[39m, in \u001b[36mAxes.axvline\u001b[39m\u001b[34m(self, x, ymin, ymax, **kwargs)\u001b[39m\n\u001b[32m    886\u001b[39m \u001b[38;5;66;03m# Strip away the units for comparison with non-unitized bounds.\u001b[39;00m\n\u001b[32m    887\u001b[39m xx, = \u001b[38;5;28mself\u001b[39m._process_unit_info([(\u001b[33m\"\u001b[39m\u001b[33mx\u001b[39m\u001b[33m\"\u001b[39m, x)], kwargs)\n\u001b[32m--> \u001b[39m\u001b[32m888\u001b[39m scalex = (\u001b[43mxx\u001b[49m\u001b[43m \u001b[49m\u001b[43m<\u001b[49m\u001b[43m \u001b[49m\u001b[43mxmin\u001b[49m) \u001b[38;5;129;01mor\u001b[39;00m (xx > xmax)\n\u001b[32m    890\u001b[39m trans = \u001b[38;5;28mself\u001b[39m.get_xaxis_transform(which=\u001b[33m'\u001b[39m\u001b[33mgrid\u001b[39m\u001b[33m'\u001b[39m)\n\u001b[32m    891\u001b[39m l = mlines.Line2D([x, x], [ymin, ymax], transform=trans, **kwargs)\n",
      "\u001b[31mTypeError\u001b[39m: '>' not supported between instances of 'float' and 'NoneType'"
     ]
    },
    {
     "data": {
      "image/png": "[encoded data removed]",
      "text/plain": [
       "<Figure size 800x500 with 1 Axes>"
      ]
     },
     "metadata": {},
     "output_type": "display_data"
    }
   ],
   "source": [
    "\n",
    "# Gráficamos para obseravr el k óptimo\n",
    "plt.figure(figsize=(8, 5))\n",
    "plt.plot(K_range, inertias, marker='o')\n",
    "plt.axvline(x=k_optimo, color='red', linestyle='--', label=f'k óptimo = {k_optimo}')\n",
    "plt.xlabel('Número de clusters (k)')\n",
    "plt.ylabel('Inercia')\n",
    "plt.title('Método del Codo con k óptimo')\n",
    "plt.legend()\n",
    "plt.grid(True)\n",
    "plt.show()\n",
    "\n",
    "print(f\"El número óptimo de clusters es: {k_optimo}\")"
   ]
  },
  {
   "cell_type": "markdown",
   "id": "0d842367-e22c-408f-9f2d-3b8c0163bf61",
   "metadata": {},
   "source": [
    "Realizando cambio de rango no se identifica un valor de k óptimo, por lo tanto a continuación realizaremos KMeans con los valores de k obtenidos en las Opciones 1 y 2. "
   ]
  },
  {
   "cell_type": "markdown",
   "id": "72a563a0-d550-43eb-9fac-b5670ef25d4c",
   "metadata": {},
   "source": [
    "*Aplicación de Kmeans*"
   ]
  },
  {
   "cell_type": "code",
   "execution_count": null,
   "id": "f5122f05-d550-4822-82e0-4582365c83bf",
   "metadata": {},
   "outputs": [],
   "source": [
    "# Aplicamos KMeans (k=5, obtenido con Slihouette)\n",
    "k = 5 \n",
    "kmeans = KMeans(n_clusters=k, random_state=42)\n",
    "clusters = kmeans.fit_predict(X_scaled)"
   ]
  },
  {
   "cell_type": "code",
   "execution_count": null,
   "id": "6f4e2914-a63e-4536-83f2-95b6291f56f7",
   "metadata": {},
   "outputs": [],
   "source": [
    "#Agregamos cluster al DataFrame original\n",
    "df_clusters = df.copy()\n",
    "df_clusters ['Cluster'] = clusters"
   ]
  },
  {
   "cell_type": "code",
   "execution_count": null,
   "id": "df7bbf12-ef26-4af7-89f1-90ec8435acc4",
   "metadata": {},
   "outputs": [
    {
     "name": "stdout",
     "output_type": "stream",
     "text": [
      "\n",
      "Cantidad de elementos por cluster:\n",
      "Cluster\n",
      "0    8700\n",
      "2       1\n",
      "3       1\n",
      "1       1\n",
      "4       1\n",
      "Name: count, dtype: int64\n",
      "\n",
      "Centroides de los clusters (en escala):\n",
      "[[ 2.21097389e-04  1.39813591e-04  1.66478715e-04 ...  4.92840338e-06\n",
      "   4.92840338e-06  4.92840338e-06]\n",
      " [-1.32749663e+00 -5.67103303e-01 -3.70890465e-01 ... -1.07192774e-02\n",
      "  -1.07192774e-02 -1.07192774e-02]\n",
      " [ 3.65722987e-01 -3.24326002e-01 -3.64060600e-01 ... -1.07192774e-02\n",
      "  -1.07192774e-02 -1.07192774e-02]\n",
      " [ 3.65722987e-01  8.03028318e-02 -3.59843443e-01 ... -1.07192774e-02\n",
      "  -1.07192774e-02 -1.07192774e-02]\n",
      " [-1.32749663e+00 -4.05251769e-01 -3.53570312e-01 ... -1.07192774e-02\n",
      "  -1.07192774e-02 -1.07192774e-02]]\n"
     ]
    }
   ],
   "source": [
    "#Mostramos el resumen\n",
    "print(\"\\nCantidad de elementos por cluster:\")\n",
    "print(df_clusters['Cluster'].value_counts())\n",
    "    \n",
    "print(\"\\nCentroides de los clusters (en escala):\")\n",
    "print(kmeans.cluster_centers_)"
   ]
  },
  {
   "cell_type": "markdown",
   "id": "86fa7843",
   "metadata": {},
   "source": [
    "El resumen indica que Cluster 0 contiene casi todos los datos (8700).\n",
    "\n",
    "Los otros 5 clústeres contienen solo un elemento cada uno.\n",
    "Este patrón indica que KMeans no logró encontrar una separación real entre grupos y probablemente los datos fueron dominados por una gran masa compacta con muy poca variación fuera de esa región O los datos tienen valores extremos (outliers) que terminan aislándose como clústeres individuales."
   ]
  },
  {
   "cell_type": "code",
   "execution_count": null,
   "id": "9609ed2e-7641-4221-a3c1-5d9e409a9b72",
   "metadata": {},
   "outputs": [
    {
     "name": "stderr",
     "output_type": "stream",
     "text": [
      "C:\\Users\\mkorb\\AppData\\Local\\Temp\\ipykernel_31524\\2987498290.py:6: FutureWarning: \n",
      "\n",
      "Passing `palette` without assigning `hue` is deprecated and will be removed in v0.14.0. Assign the `x` variable to `hue` and set `legend=False` for the same effect.\n",
      "\n",
      "  sns.barplot(x=cluster_counts.index, y=cluster_counts.values, palette='viridis')\n"
     ]
    },
    {
     "data": {
      "image/png": "[encoded data removed]",
      "text/plain": [
       "<Figure size 800x500 with 1 Axes>"
      ]
     },
     "metadata": {},
     "output_type": "display_data"
    }
   ],
   "source": [
    "#Contamos cuántos elementos hay en cada cluster\n",
    "cluster_counts = df_clusters['Cluster'].value_counts().sort_index()\n",
    "\n",
    "# Creamos el gráfico de barras para observar la distribución de elementos por cluster\n",
    "plt.figure(figsize=(8, 5))\n",
    "sns.barplot(x=cluster_counts.index, y=cluster_counts.values, palette='viridis')\n",
    "\n",
    "plt.xlabel('Cluster')\n",
    "plt.ylabel('Cantidad de elementos')\n",
    "plt.title('Distribución de elementos por cluster')\n",
    "plt.grid(True, axis='y')\n",
    "plt.show()"
   ]
  },
  {
   "cell_type": "markdown",
   "id": "0c28c07a-2298-4ab7-ae46-4245412ae2e4",
   "metadata": {},
   "source": [
    "Se observa un desbalance importante en la cantidad de datos por clusters con k=5"
   ]
  },
  {
   "cell_type": "code",
   "execution_count": null,
   "id": "156db6e5-765d-483c-a9c7-93ef38724fd3",
   "metadata": {},
   "outputs": [],
   "source": [
    "# Aplicamos KMeans (k=3, obtenido con Elbow luwgo de PCA con parámetros optimizados)\n",
    "k = 3 \n",
    "kmeans = KMeans(n_clusters=k, random_state=42)\n",
    "clusters = kmeans.fit_predict(X_scaled)"
   ]
  },
  {
   "cell_type": "code",
   "execution_count": null,
   "id": "9ac4b1c4-a758-43e0-a789-fea905f69927",
   "metadata": {},
   "outputs": [],
   "source": [
    "#Agregamos cluster al DataFrame original\n",
    "df_clusters= df.copy()\n",
    "df_clusters['Cluster'] = clusters"
   ]
  },
  {
   "cell_type": "code",
   "execution_count": null,
   "id": "7bfadbe6-be38-4496-b484-3132202b8419",
   "metadata": {},
   "outputs": [
    {
     "name": "stdout",
     "output_type": "stream",
     "text": [
      "\n",
      "Cantidad de elementos por cluster:\n",
      "Cluster\n",
      "0    8702\n",
      "2       1\n",
      "1       1\n",
      "Name: count, dtype: int64\n",
      "\n",
      "Centroides de los clusters (en escala):\n",
      "[[ 1.10523287e-04  1.02439589e-04  8.44577183e-05 ...  2.46363534e-06\n",
      "   2.46363534e-06  2.46363534e-06]\n",
      " [-1.32749663e+00 -5.67103303e-01 -3.70890465e-01 ... -1.07192774e-02\n",
      "  -1.07192774e-02 -1.07192774e-02]\n",
      " [ 3.65722987e-01 -3.24326002e-01 -3.64060600e-01 ... -1.07192774e-02\n",
      "  -1.07192774e-02 -1.07192774e-02]]\n"
     ]
    }
   ],
   "source": [
    "#Mostramos el resumen\n",
    "print(\"\\nCantidad de elementos por cluster:\")\n",
    "print(df_clusters['Cluster'].value_counts())\n",
    "    \n",
    "print(\"\\nCentroides de los clusters (en escala):\")\n",
    "print(kmeans.cluster_centers_)"
   ]
  },
  {
   "cell_type": "code",
   "execution_count": null,
   "id": "11d9b915-b19d-4726-a1ca-fead85de8f5d",
   "metadata": {},
   "outputs": [
    {
     "name": "stderr",
     "output_type": "stream",
     "text": [
      "C:\\Users\\mkorb\\AppData\\Local\\Temp\\ipykernel_31524\\2987498290.py:6: FutureWarning: \n",
      "\n",
      "Passing `palette` without assigning `hue` is deprecated and will be removed in v0.14.0. Assign the `x` variable to `hue` and set `legend=False` for the same effect.\n",
      "\n",
      "  sns.barplot(x=cluster_counts.index, y=cluster_counts.values, palette='viridis')\n"
     ]
    },
    {
     "data": {
      "image/png": "[encoded data removed]",
      "text/plain": [
       "<Figure size 800x500 with 1 Axes>"
      ]
     },
     "metadata": {},
     "output_type": "display_data"
    }
   ],
   "source": [
    "#Contamos cuántos elementos hay en cada cluster\n",
    "cluster_counts = df_clusters['Cluster'].value_counts().sort_index()\n",
    "\n",
    "# Creamos el gráfico de barras para observar la distribución de elementos por cluster\n",
    "plt.figure(figsize=(8, 5))\n",
    "sns.barplot(x=cluster_counts.index, y=cluster_counts.values, palette='viridis')\n",
    "\n",
    "plt.xlabel('Cluster')\n",
    "plt.ylabel('Cantidad de elementos')\n",
    "plt.title('Distribución de elementos por cluster')\n",
    "plt.grid(True, axis='y')\n",
    "plt.show()"
   ]
  },
  {
   "cell_type": "markdown",
   "id": "8408d153-c9d2-44c2-8350-e6fd21c26241",
   "metadata": {},
   "source": [
    " En los dos casos se observa un importante desbalance en la cantidad de datos que integran los clusters. Puede estar sucediendo que debido a que el dataframe presentaba outliers, que fueron conservados por no pertenecer a errores de registro, kmeans es sensible a ellos y no sería el método más apto para la formación de Clusters."
   ]
  },
  {
   "cell_type": "markdown",
   "id": "2ec9da4a-ee84-4075-80ba-fd800276aaf2",
   "metadata": {},
   "source": [
    "Debido a que nuestros datos siguen desbalanceados a continuación utilizaremos DBSCAN"
   ]
  },
  {
   "cell_type": "markdown",
   "id": "b1f26ac3-6146-4e08-b511-191cac81a124",
   "metadata": {},
   "source": [
    "**DBSCAN**"
   ]
  },
  {
   "cell_type": "markdown",
   "id": "3e1e0cbd-efaa-4b45-84f0-b05779d0246e",
   "metadata": {},
   "source": [
    "Aplicaremos DBSCAN sobre PCA"
   ]
  },
  {
   "cell_type": "code",
   "execution_count": null,
   "id": "23c08786-cba0-45af-8e2a-418a2a1b8b59",
   "metadata": {},
   "outputs": [],
   "source": [
    "#Importamos libreria\n",
    "from sklearn.cluster import DBSCAN"
   ]
  },
  {
   "cell_type": "code",
   "execution_count": null,
   "id": "82c596de-d3eb-41aa-87ea-de02717a0879",
   "metadata": {},
   "outputs": [],
   "source": [
    "#Aplicamos DBSCAN con PCA previamente realizado\n",
    "dbscan = DBSCAN(eps=1.5, min_samples=5)  \n",
    "clusters = dbscan.fit_predict(X_pca)"
   ]
  },
  {
   "cell_type": "code",
   "execution_count": null,
   "id": "ba5e2453-5165-4c64-9ff8-3f770042719e",
   "metadata": {},
   "outputs": [],
   "source": [
    "#Agregamos clusters al DataFrame\n",
    "df_clusters = df.copy()\n",
    "df_clusters['Cluster'] = clusters"
   ]
  },
  {
   "cell_type": "code",
   "execution_count": null,
   "id": "01346360-bdbe-42eb-9a8b-2bd6f5b47de7",
   "metadata": {},
   "outputs": [
    {
     "name": "stdout",
     "output_type": "stream",
     "text": [
      "\n",
      "Cantidad de elementos por cluster:\n",
      "Cluster\n",
      " 0    8665\n",
      "-1      34\n",
      " 1       5\n",
      "Name: count, dtype: int64\n"
     ]
    }
   ],
   "source": [
    "#Mostramos el resumen\n",
    "print(\"\\nCantidad de elementos por cluster:\")\n",
    "print(df_clusters['Cluster'].value_counts())"
   ]
  },
  {
   "cell_type": "markdown",
   "id": "2bb4ea07",
   "metadata": {},
   "source": [
    "DBSCAN permitió identificar una estructura más realista en los datos reducidos con PCA, detectando un clúster principal con 8665 películas, un pequeño grupo de 5 películas con características particulares, y 34 casos que fueron clasificados outliers. DBSCAN se adaptó mejor a la distribución natural de los datos y logró una agrupación más coherente sin necesidad de definir el número de clústeres previamente."
   ]
  },
  {
   "cell_type": "code",
   "execution_count": null,
   "id": "1747ce6c-9bed-4c55-b06c-a28770911b1a",
   "metadata": {},
   "outputs": [
    {
     "name": "stderr",
     "output_type": "stream",
     "text": [
      "C:\\Users\\mkorb\\AppData\\Local\\Temp\\ipykernel_31524\\176014760.py:3: FutureWarning: \n",
      "\n",
      "Passing `palette` without assigning `hue` is deprecated and will be removed in v0.14.0. Assign the `x` variable to `hue` and set `legend=False` for the same effect.\n",
      "\n",
      "  sns.countplot(x='Cluster', data=df_clusters, palette='Set2')\n"
     ]
    },
    {
     "data": {
      "image/png": "[encoded data removed]",
      "text/plain": [
       "<Figure size 800x500 with 1 Axes>"
      ]
     },
     "metadata": {},
     "output_type": "display_data"
    }
   ],
   "source": [
    "# Graficamos distribución de clusters\n",
    "plt.figure(figsize=(8, 5))\n",
    "sns.countplot(x='Cluster', data=df_clusters, palette='Set2')\n",
    "plt.title(\"Distribución de elementos por cluster (DBSCAN)\")\n",
    "plt.xlabel(\"Cluster (ruido = -1)\")\n",
    "plt.ylabel(\"Cantidad de elementos\")\n",
    "plt.grid(True, axis='y')\n",
    "plt.show()"
   ]
  },
  {
   "cell_type": "code",
   "execution_count": null,
   "id": "14abda0c-3c07-4b5a-b8e8-2e90470878da",
   "metadata": {},
   "outputs": [],
   "source": [
    "# Armamos dataframe para graficar\n",
    "df_plot = pd.DataFrame(X_pca, columns=['PC1', 'PC2'])\n",
    "df_plot['Cluster'] = clusters"
   ]
  },
  {
   "cell_type": "code",
   "execution_count": null,
   "id": "042b0053-093a-42b3-a9ab-6aca18de2f8b",
   "metadata": {},
   "outputs": [
    {
     "data": {
      "image/png": "[encoded data removed]",
      "text/plain": [
       "<Figure size 800x600 with 1 Axes>"
      ]
     },
     "metadata": {},
     "output_type": "display_data"
    }
   ],
   "source": [
    "# Gráficamos\n",
    "plt.figure(figsize=(8, 6))\n",
    "sns.scatterplot(\n",
    "    x='PC1', y='PC2',\n",
    "    hue='Cluster',\n",
    "    palette='Set2',\n",
    "    data=df_plot,\n",
    "    legend='full',\n",
    "    s=60\n",
    ")\n",
    "plt.title('Clusters detectados por DBSCAN (PCA 2D)')\n",
    "plt.legend(title='Cluster', bbox_to_anchor=(1.05, 1), loc='upper left')\n",
    "plt.grid(True)\n",
    "plt.tight_layout()\n",
    "plt.show()"
   ]
  },
  {
   "cell_type": "markdown",
   "id": "57293681-c662-45bd-88b8-661784d78927",
   "metadata": {},
   "source": [
    "Debido a que los datos por clusters estan desbalanceados y no se observa una separación clara de clusters, optimizaremos los parámetros Eps y Min-samples"
   ]
  },
  {
   "cell_type": "markdown",
   "id": "e79d85c0-5824-428a-8e34-3a60067a5212",
   "metadata": {},
   "source": [
    "**Min-samples** : utilizaremos 3 ya que contamos con PCA reducido a 2 componentes"
   ]
  },
  {
   "cell_type": "markdown",
   "id": "08d52544-5876-4f22-90a2-4bf771a253a9",
   "metadata": {},
   "source": [
    "**Eps**"
   ]
  },
  {
   "cell_type": "markdown",
   "id": "f8291072-76c1-4678-a9c2-72ef2d9ca6d3",
   "metadata": {},
   "source": [
    "Realizaremos los analisis para encontrar un buen valor para el parámetro eps, uitlizaremos el metodo gráfico de k-distancia y KneeLocator"
   ]
  },
  {
   "cell_type": "markdown",
   "id": "7c83b927-85d3-455a-988e-8a027851f186",
   "metadata": {},
   "source": [
    "*k-distancia*:"
   ]
  },
  {
   "cell_type": "code",
   "execution_count": null,
   "id": "09652bcc-9231-4399-afe6-629ea88e742f",
   "metadata": {},
   "outputs": [],
   "source": [
    "from sklearn.neighbors import NearestNeighbors"
   ]
  },
  {
   "cell_type": "code",
   "execution_count": null,
   "id": "0bb71c79-e176-4f61-9f61-46fa0a748b12",
   "metadata": {},
   "outputs": [
    {
     "data": {
      "image/png": "[encoded data removed]",
      "text/plain": [
       "<Figure size 800x500 with 1 Axes>"
      ]
     },
     "metadata": {},
     "output_type": "display_data"
    }
   ],
   "source": [
    "X = X_pca\n",
    "\n",
    "# Usamos min_samples como número de vecinos \n",
    "neighbors = NearestNeighbors(n_neighbors=3)\n",
    "neighbors_fit = neighbors.fit(X)\n",
    "distances, indices = neighbors_fit.kneighbors(X)\n",
    "\n",
    "# Tomamos la distancia al k-ésimo vecino más cercano (última columna)\n",
    "k_distances = np.sort(distances[:, 2])  # índice 2 porque usamos n_neighbors=3\n",
    "\n",
    "# Graficamos\n",
    "plt.figure(figsize=(8, 5))\n",
    "plt.plot(k_distances)\n",
    "plt.title(\"Gráfico de k-distancia (k = 3)\")\n",
    "plt.xlabel(\"Puntos ordenados\")\n",
    "plt.ylabel(\"Distancia al 5º vecino más cercano\")\n",
    "plt.grid(True)\n",
    "plt.show()"
   ]
  },
  {
   "cell_type": "markdown",
   "id": "410e3a31-7379-41e9-a15e-67c176a7a9e1",
   "metadata": {},
   "source": [
    "*KneeLocator*"
   ]
  },
  {
   "cell_type": "code",
   "execution_count": null,
   "id": "20669dee-259a-4b65-825e-23c98b0a1666",
   "metadata": {},
   "outputs": [
    {
     "data": {
      "image/png": "[encoded data removed]",
      "text/plain": [
       "<Figure size 800x500 with 1 Axes>"
      ]
     },
     "metadata": {},
     "output_type": "display_data"
    },
    {
     "name": "stdout",
     "output_type": "stream",
     "text": [
      "Eps óptimo sugerido para DBSCAN: 2.31\n"
     ]
    }
   ],
   "source": [
    "X = X_pca\n",
    "\n",
    "# Elegimos el número de vecinos \n",
    "k = 3\n",
    "neighbors = NearestNeighbors(n_neighbors=k)\n",
    "neighbors_fit = neighbors.fit(X)\n",
    "distances, indices = neighbors_fit.kneighbors(X)\n",
    "\n",
    "# Ordenamos las distancias al k-ésimo vecino más cercano\n",
    "k_distances = np.sort(distances[:, 2])\n",
    "\n",
    "# Detectamos el codo con KneeLocator\n",
    "kneedle = KneeLocator(range(len(k_distances)), k_distances, curve='convex', direction='increasing')\n",
    "eps_optimo = kneedle.knee_y  # valor óptimo de eps\n",
    "indice_codo = kneedle.knee   # posición del codo en el eje X\n",
    "\n",
    "# Graficamos\n",
    "plt.figure(figsize=(8, 5))\n",
    "plt.plot(k_distances, label='Distancia al k-ésimo vecino')\n",
    "plt.axvline(x=indice_codo, color='red', linestyle='--', label=f'Codo en índice {indice_codo}')\n",
    "plt.axhline(y=eps_optimo, color='green', linestyle='--', label=f'eps óptimo ≈ {eps_optimo:.2f}')\n",
    "plt.title(\"Gráfico de k-distancia con codo detectado\")\n",
    "plt.xlabel(\"Puntos ordenados\")\n",
    "plt.ylabel(\"Distancia al k-ésimo vecino\")\n",
    "plt.legend()\n",
    "plt.grid(True)\n",
    "plt.show()\n",
    "\n",
    "print(f\"Eps óptimo sugerido para DBSCAN: {eps_optimo:.2f}\")"
   ]
  },
  {
   "cell_type": "code",
   "execution_count": null,
   "id": "6afa3d51-175d-436c-b197-c905cc6e7422",
   "metadata": {},
   "outputs": [],
   "source": [
    "#DBSCAN con eps=0,99\n",
    "dbscan = DBSCAN(eps=0.99, min_samples=3)\n",
    "clusters = dbscan.fit_predict(X)"
   ]
  },
  {
   "cell_type": "code",
   "execution_count": null,
   "id": "d9b7d23a-8111-4454-8467-76a93b93fa3a",
   "metadata": {},
   "outputs": [],
   "source": [
    "#Agregamos los clusters al dataset\n",
    "df_dbscan = df.copy()\n",
    "df_dbscan['Cluster'] = clusters"
   ]
  },
  {
   "cell_type": "code",
   "execution_count": null,
   "id": "cd83ce40-ae1f-49aa-9b5d-0489b69d410c",
   "metadata": {},
   "outputs": [
    {
     "data": {
      "image/png": "[encoded data removed]",
      "text/plain": [
       "<Figure size 800x600 with 1 Axes>"
      ]
     },
     "metadata": {},
     "output_type": "display_data"
    }
   ],
   "source": [
    "#Visualizamos los clusters\n",
    "df_plot = pd.DataFrame(X, columns=['PC1', 'PC2'])\n",
    "df_plot['Cluster'] = clusters\n",
    "\n",
    "plt.figure(figsize=(8, 6))\n",
    "sns.scatterplot(data=df_plot, x='PC1', y='PC2', hue='Cluster', palette='tab10', s=60)\n",
    "plt.title('Clusters con DBSCAN (eps = 0.99)')\n",
    "plt.legend(title='Cluster', bbox_to_anchor=(1.05, 1), loc='upper left')\n",
    "plt.grid(True)\n",
    "plt.tight_layout()\n",
    "plt.show()"
   ]
  },
  {
   "cell_type": "code",
   "execution_count": null,
   "id": "79a10500-fe5f-4041-9b49-af8095f4949a",
   "metadata": {},
   "outputs": [
    {
     "name": "stdout",
     "output_type": "stream",
     "text": [
      "\n",
      "Cantidad de elementos por cluster:\n",
      "Cluster\n",
      " 0    8665\n",
      "-1      34\n",
      " 1       5\n",
      "Name: count, dtype: int64\n"
     ]
    }
   ],
   "source": [
    "#Mostramos el resumen\n",
    "print(\"\\nCantidad de elementos por cluster:\")\n",
    "print(df_clusters['Cluster'].value_counts())"
   ]
  },
  {
   "cell_type": "markdown",
   "id": "f11e933b-177b-4c45-a8b0-015c967a68e8",
   "metadata": {},
   "source": [
    "Los clusters continuan desbalanceados."
   ]
  },
  {
   "cell_type": "markdown",
   "id": "3c2b4693-743f-4b54-b1c8-85307908966b",
   "metadata": {},
   "source": [
    "A continuación probaremos con otro modelo de aprendizaje no supervizado que procesa los outliers de manera diferente a KMeans y DBSCAN"
   ]
  },
  {
   "cell_type": "markdown",
   "id": "cff16195-61a3-44c5-9317-fa062f04c107",
   "metadata": {},
   "source": [
    "**Gaussian Mixture Models (GMM)** "
   ]
  },
  {
   "cell_type": "code",
   "execution_count": null,
   "id": "d36ad3b5-b923-4fae-bbc6-8944a39e3095",
   "metadata": {},
   "outputs": [],
   "source": [
    "from sklearn.mixture import GaussianMixture"
   ]
  },
  {
   "cell_type": "code",
   "execution_count": null,
   "id": "47db9dea-fa61-4236-ad3d-5680f5020ed0",
   "metadata": {},
   "outputs": [],
   "source": [
    "# Aplicamos PCA con el número de componentes.\n",
    "pca = PCA(n_components=2)  \n",
    "X_pca = pca.fit_transform(X_scaled)"
   ]
  },
  {
   "cell_type": "code",
   "execution_count": null,
   "id": "1deb9bcd-88f2-46c8-b98d-7120b1359ce0",
   "metadata": {},
   "outputs": [],
   "source": [
    "#Número de clusters a probar, en este caso elegimos 3\n",
    "gmm = GaussianMixture(n_components=3, random_state=42)\n",
    "clusters = gmm.fit_predict(X_pca)  "
   ]
  },
  {
   "cell_type": "code",
   "execution_count": null,
   "id": "352bd986-4c15-4d9a-8694-b9ec9084a01a",
   "metadata": {},
   "outputs": [],
   "source": [
    "#Agregamos los cluster al dataframe\n",
    "df_gmm = df.copy()\n",
    "df_gmm['Cluster'] = clusters"
   ]
  },
  {
   "cell_type": "code",
   "execution_count": null,
   "id": "53bf6f14-8d4b-428d-8413-c32353e1732f",
   "metadata": {},
   "outputs": [
    {
     "data": {
      "image/png": "[encoded data removed]",
      "text/plain": [
       "<Figure size 800x600 with 1 Axes>"
      ]
     },
     "metadata": {},
     "output_type": "display_data"
    }
   ],
   "source": [
    "#Graficamos los clusters\n",
    "df_plot = pd.DataFrame(X_pca, columns=['PC1', 'PC2'])\n",
    "df_plot['Cluster'] = clusters\n",
    "\n",
    "plt.figure(figsize=(8, 6))\n",
    "sns.scatterplot(data=df_plot, x='PC1', y='PC2', hue='Cluster', palette='Set2', s=60)\n",
    "plt.title('Clusters detectados por Gaussian Mixture Models (GMM)')\n",
    "plt.legend(title='Cluster', bbox_to_anchor=(1.05, 1), loc='upper left')\n",
    "plt.grid(True)\n",
    "plt.tight_layout()\n",
    "plt.show()"
   ]
  },
  {
   "cell_type": "code",
   "execution_count": null,
   "id": "6e7c6c9f-f8ff-467a-9c66-52164cc7971a",
   "metadata": {},
   "outputs": [
    {
     "name": "stdout",
     "output_type": "stream",
     "text": [
      "Métricas de clustering:\n",
      "Silhouette Score: 0.646\n",
      "Davies-Bouldin Index: 0.602\n",
      "Calinski-Harabasz Score: 4686.565\n"
     ]
    }
   ],
   "source": [
    "#Aplicamos las metricas al modelo\n",
    "from sklearn.metrics import silhouette_score, davies_bouldin_score, calinski_harabasz_score\n",
    "\n",
    "print(\"Métricas de clustering:\")\n",
    "print(f\"Silhouette Score: {silhouette_score(X_pca, clusters):.3f}\")\n",
    "print(f\"Davies-Bouldin Index: {davies_bouldin_score(X_pca, clusters):.3f}\")\n",
    "print(f\"Calinski-Harabasz Score: {calinski_harabasz_score(X_pca, clusters):.3f}\")"
   ]
  },
  {
   "cell_type": "markdown",
   "id": "d0a50624-d792-4bb4-a1e9-0978040a2dd7",
   "metadata": {},
   "source": [
    "El valor de Silhouette (0.646) indica que el clustering tiene una buena separación entre los clusters y coherencia interna. Es un valor sólido, especialmente para datos reales, lo que sugiere que los puntos están bien agrupados y no hay mucho solapamiento.\n",
    "\n",
    "El Davies-Bouldin Index (0.602) es bajo, lo cual es muy bueno. Significa que los clusters son compactos y están claramente separados entre sí, con muy poco solapamiento.\n",
    "\n",
    "El Calinski-Harabasz Score (4686.565) es alto, lo que refuerza la idea de que los clusters están bien definidos y distribuidos de forma dispersa entre ellos en el espacio multidimensional.\n"
   ]
  },
  {
   "cell_type": "markdown",
   "id": "50f0156b-2080-4d7e-abbe-f5d8272791ea",
   "metadata": {},
   "source": [
    "Esto te permite ver para cada película (o fila) qué tan seguro está el modelo de asignarla a cada grupo. ver codigo"
   ]
  },
  {
   "cell_type": "markdown",
   "id": "5e1e64be-305c-41ad-b2a0-14e21f190d6f",
   "metadata": {},
   "source": [
    "Dado que este analisis se adapta mejor a nuetro dataset ajustaremos los parametros de PCA para luego encontrar el mejor parámetro n-components de GMM"
   ]
  },
  {
   "cell_type": "markdown",
   "id": "bfe9437b-4eb8-4347-a1e7-a2f05ba443a5",
   "metadata": {},
   "source": [
    "*n_componentes (PCA)*: por lo visto anteriormente elegiremos 2"
   ]
  },
  {
   "cell_type": "markdown",
   "id": "ac21e6ac-a851-4d5b-a53d-ce1b7413f9b2",
   "metadata": {},
   "source": [
    "*n_componenetes GMM:* número de clusters"
   ]
  },
  {
   "cell_type": "markdown",
   "id": "5afaa67b-2afe-445a-8417-3ccdd6c384fe",
   "metadata": {},
   "source": [
    "Con el valor de PCA=2 optimizaremos el número de cluesters"
   ]
  },
  {
   "cell_type": "code",
   "execution_count": null,
   "id": "fcf5c485-4e23-4972-b468-798d2d730ebb",
   "metadata": {},
   "outputs": [],
   "source": [
    "def evaluar_gmm_n_components(X, k_min=2, k_max=10):\n",
    "    resultados = []\n",
    "\n",
    "    for k in range(k_min, k_max + 1):\n",
    "        gmm = GaussianMixture(n_components=2, random_state=42)\n",
    "        labels = gmm.fit_predict(X)\n",
    "\n",
    "        if len(set(labels)) > 1:\n",
    "            sil_score = silhouette_score(X, labels)\n",
    "        else:\n",
    "            sil_score = np.nan\n",
    "\n",
    "        resultados.append({\n",
    "            'n_components': k,\n",
    "            'Silhouette': sil_score,\n",
    "            'BIC': gmm.bic(X),\n",
    "            'AIC': gmm.aic(X)\n",
    "        })\n",
    "\n",
    "    df_resultados = pd.DataFrame(resultados)\n",
    "\n",
    "    if df_resultados['Silhouette'].notnull().any():\n",
    "        mejor_k = df_resultados.loc[df_resultados['Silhouette'].idxmax(), 'n_components']\n",
    "        print(f\"Mejor número de clusters según Silhouette Score: {mejor_k}\")\n",
    "    else:\n",
    "        print(\"No se pudieron calcular valores válidos de Silhouette Score.\")\n",
    "        mejor_k = None\n",
    "\n",
    "    plt.figure(figsize=(12,5))\n",
    "\n",
    "    plt.subplot(1,2,1)\n",
    "    plt.plot(df_resultados['n_components'], df_resultados['Silhouette'], marker='o')\n",
    "    plt.xlabel('Número de clusters (GMM)')\n",
    "    plt.ylabel('Silhouette Score')\n",
    "    plt.title('Silhouette Score vs número de clusters')\n",
    "    plt.grid(True)\n",
    "\n",
    "    plt.subplot(1,2,2)\n",
    "    plt.plot(df_resultados['n_components'], df_resultados['BIC'], marker='o', label='BIC')\n",
    "    plt.plot(df_resultados['n_components'], df_resultados['AIC'], marker='o', label='AIC')\n",
    "    plt.xlabel('Número de clusters (GMM)')\n",
    "    plt.ylabel('Valor')\n",
    "    plt.title('BIC y AIC vs número de clusters')\n",
    "    plt.legend()\n",
    "    plt.grid(True)\n",
    "\n",
    "    plt.tight_layout()\n",
    "    plt.show()\n",
    "\n",
    "    print (mejor_k)\n",
    "    return df_resultados, mejor_k"
   ]
  },
  {
   "cell_type": "code",
   "execution_count": null,
   "id": "53e2c883-3cf0-4d6f-9e80-11075a8e8f57",
   "metadata": {},
   "outputs": [
    {
     "name": "stdout",
     "output_type": "stream",
     "text": [
      "Mejor número de clusters según Silhouette Score: 2\n"
     ]
    },
    {
     "data": {
      "image/png": "[encoded data removed]",
      "text/plain": [
       "<Figure size 1200x500 with 2 Axes>"
      ]
     },
     "metadata": {},
     "output_type": "display_data"
    },
    {
     "name": "stdout",
     "output_type": "stream",
     "text": [
      "2\n",
      "2\n"
     ]
    }
   ],
   "source": [
    "df_resultados, mejor_k = evaluar_gmm_n_components(X_pca)\n",
    "print(mejor_k) "
   ]
  },
  {
   "cell_type": "markdown",
   "id": "4b9025e6-dad5-49c3-a439-fe44c7fa9dae",
   "metadata": {},
   "source": [
    "El número de clusters óptimo para aplicar GMM es 2."
   ]
  },
  {
   "cell_type": "code",
   "execution_count": null,
   "id": "e0cb7a80-cbca-4d47-bc61-44a2c68d4e6a",
   "metadata": {},
   "outputs": [
    {
     "data": {
      "image/png": "[encoded data removed]",
      "text/plain": [
       "<Figure size 640x480 with 1 Axes>"
      ]
     },
     "metadata": {},
     "output_type": "display_data"
    }
   ],
   "source": [
    "#Visualizamos los clusters en 2D\n",
    "pca_2d = PCA(n_components=2)\n",
    "X_pca_2d = pca_2d.fit_transform(X)\n",
    "\n",
    "gmm = GaussianMixture(n_components=mejor_k)\n",
    "labels = gmm.fit_predict(X_pca)\n",
    "\n",
    "plt.scatter(X_pca_2d[:, 0], X_pca_2d[:, 1], c=labels, cmap='Set1')\n",
    "plt.title('Visualización de Clusters en espacio 2D')\n",
    "plt.show()"
   ]
  },
  {
   "cell_type": "markdown",
   "id": "8249cd80-3b63-46e9-b21c-fbba043f912c",
   "metadata": {},
   "source": [
    "Con los valores optimizados de n-componentes para PCA y de n-componentes (clusters) aplicamos nuevamente GMM"
   ]
  },
  {
   "cell_type": "code",
   "execution_count": null,
   "id": "8bd23a2e-895f-4f3f-a0bd-8afb6101c0e0",
   "metadata": {},
   "outputs": [],
   "source": [
    "#Número de clusters a probar \n",
    "gmm = GaussianMixture(n_components=2, random_state=42)\n",
    "clusters = gmm.fit_predict(X_pca)  "
   ]
  },
  {
   "cell_type": "code",
   "execution_count": null,
   "id": "6a677233-e7d7-4f1f-ab2e-f105514a6868",
   "metadata": {},
   "outputs": [],
   "source": [
    "#Agregamos los cluster al dataframe\n",
    "df_gmm = df.copy()\n",
    "df_gmm['Cluster'] = clusters"
   ]
  },
  {
   "cell_type": "code",
   "execution_count": null,
   "id": "3337ace0-a18c-460a-95a1-cb9fcce4630c",
   "metadata": {},
   "outputs": [
    {
     "data": {
      "image/png": "[encoded data removed]",
      "text/plain": [
       "<Figure size 800x600 with 1 Axes>"
      ]
     },
     "metadata": {},
     "output_type": "display_data"
    }
   ],
   "source": [
    "#Graficamos los clusters\n",
    "df_plot = pd.DataFrame(X_pca, columns=['PC1', 'PC2'])\n",
    "df_plot['Cluster'] = clusters\n",
    "\n",
    "plt.figure(figsize=(8, 6))\n",
    "sns.scatterplot(data=df_plot, x='PC1', y='PC2', hue='Cluster', palette='Set2', s=60)\n",
    "plt.title('Clusters detectados por Gaussian Mixture Models (GMM)')\n",
    "plt.legend(title='Cluster', bbox_to_anchor=(1.05, 1), loc='upper left')\n",
    "plt.grid(True)\n",
    "plt.tight_layout()\n",
    "plt.show()"
   ]
  },
  {
   "cell_type": "markdown",
   "id": "8101c802-7147-443a-a171-e9af3f1c35f8",
   "metadata": {},
   "source": [
    "Analizamos la distribución de los clusters"
   ]
  },
  {
   "cell_type": "code",
   "execution_count": null,
   "id": "bc0dbb51",
   "metadata": {},
   "outputs": [
    {
     "name": "stdout",
     "output_type": "stream",
     "text": [
      "   Cluster  Count Percent\n",
      "0        0   6387  73.38%\n",
      "1        1   2317  26.62%\n"
     ]
    }
   ],
   "source": [
    "# Convertimos a Series y contamos\n",
    "serie = pd.Series(labels, name=\"Cluster\")\n",
    "conteos = serie.value_counts()\n",
    "porcentajes = serie.value_counts(normalize=True) * 100\n",
    "\n",
    "# Construimos un DataFrame con ambos\n",
    "df_dist = pd.DataFrame({\n",
    "    'Cluster': conteos.index,\n",
    "    'Count': conteos.values,\n",
    "    'Percent': porcentajes.values\n",
    "})\n",
    "\n",
    "# Ajustamos formato\n",
    "df_dist['Percent'] = df_dist['Percent'].round(2).astype(str) + '%'\n",
    "\n",
    "# Ordenamos por Count descendente\n",
    "df_dist = df_dist.sort_values(by='Count', ascending=False).reset_index(drop=True)\n",
    "\n",
    "# Mostramos el resultado\n",
    "print(df_dist)"
   ]
  },
  {
   "cell_type": "markdown",
   "id": "152b5b35",
   "metadata": {},
   "source": [
    "Se observan dos clusters, el cluster 0 en que se encuentran la mayoria de los datos y el cluster 1 que contiene un subgrupo con diferencias claras respecto a la mayoria. Tienen cierto desbalance, pero no es extremo. El desbalance puede deberse a que el grupo minoritario corresponda a películas muy taquilleras."
   ]
  },
  {
   "cell_type": "code",
   "execution_count": null,
   "id": "a30bb78b-82f3-4185-bbdc-fd1c8e87cb0b",
   "metadata": {},
   "outputs": [
    {
     "name": "stdout",
     "output_type": "stream",
     "text": [
      "Métricas de clustering:\n",
      "Silhouette Score: 0.661\n",
      "Davies-Bouldin Index: 0.764\n",
      "Calinski-Harabasz Score: 4197.081\n"
     ]
    }
   ],
   "source": [
    "#Aplicamos las metricas al modelo\n",
    "from sklearn.metrics import silhouette_score, davies_bouldin_score, calinski_harabasz_score\n",
    "\n",
    "print(\"Métricas de clustering:\")\n",
    "print(f\"Silhouette Score: {silhouette_score(X_pca, clusters):.3f}\")\n",
    "print(f\"Davies-Bouldin Index: {davies_bouldin_score(X_pca, clusters):.3f}\")\n",
    "print(f\"Calinski-Harabasz Score: {calinski_harabasz_score(X_pca, clusters):.3f}\")"
   ]
  },
  {
   "cell_type": "markdown",
   "id": "468b495b-1037-400f-be6e-3fccd876f6ae",
   "metadata": {},
   "source": [
    "El Silhouette Score de 0.661 indica una excelente separación entre los clusters, ya que valores superiores a 0.5 reflejan grupos bien definidos y cohesionados internamente.\n",
    "\n",
    "El Davies–Bouldin Index de 0.764 es muy bajo (idealmente < 1), lo cual confirma que los clusters son compactos y están bien separados entre sí, con mínimo solapamiento.\n",
    "\n",
    "El Calinski–Harabasz Score de 4197.081 es muy alto, lo que refuerza que la dispersión entre clusters es grande comparada con su cohesión."
   ]
  },
  {
   "cell_type": "code",
   "execution_count": null,
   "id": "57dda96e-f418-446e-9ca2-abce026f9f30",
   "metadata": {},
   "outputs": [
    {
     "name": "stdout",
     "output_type": "stream",
     "text": [
      "📊 Suma por cluster:\n"
     ]
    },
    {
     "data": {
      "text/html": [
       "<div>\n",
       "<style scoped>\n",
       "    .dataframe tbody tr th:only-of-type {\n",
       "        vertical-align: middle;\n",
       "    }\n",
       "\n",
       "    .dataframe tbody tr th {\n",
       "        vertical-align: top;\n",
       "    }\n",
       "\n",
       "    .dataframe thead th {\n",
       "        text-align: right;\n",
       "    }\n",
       "</style>\n",
       "<table border=\"1\" class=\"dataframe\">\n",
       "  <thead>\n",
       "    <tr style=\"text-align: right;\">\n",
       "      <th></th>\n",
       "      <th>Calificación_promedio</th>\n",
       "      <th>Duración</th>\n",
       "      <th>Vistas</th>\n",
       "      <th>Ratings</th>\n",
       "      <th>Porcentaje_likes</th>\n",
       "      <th>Director_</th>\n",
       "      <th>Director_A.V. Rockwell</th>\n",
       "      <th>Director_Aaron B. Koontz</th>\n",
       "      <th>Director_Aaron Blaise</th>\n",
       "      <th>Director_Aaron Hann</th>\n",
       "      <th>...</th>\n",
       "      <th>Coprotagonista_Zoë Kravitz</th>\n",
       "      <th>Coprotagonista_Zuleikha Robinson</th>\n",
       "      <th>Coprotagonista_nan</th>\n",
       "      <th>Coprotagonista_Álvaro Guevara</th>\n",
       "      <th>Coprotagonista_Ángel Aranda</th>\n",
       "      <th>Coprotagonista_Édith Scob</th>\n",
       "      <th>Coprotagonista_Éric Cantona</th>\n",
       "      <th>Coprotagonista_Ériq Ebouaney</th>\n",
       "      <th>Coprotagonista_Óscar Jaenada</th>\n",
       "      <th>Coprotagonista_Ørjan Gamst</th>\n",
       "    </tr>\n",
       "    <tr>\n",
       "      <th>Cluster</th>\n",
       "      <th></th>\n",
       "      <th></th>\n",
       "      <th></th>\n",
       "      <th></th>\n",
       "      <th></th>\n",
       "      <th></th>\n",
       "      <th></th>\n",
       "      <th></th>\n",
       "      <th></th>\n",
       "      <th></th>\n",
       "      <th></th>\n",
       "      <th></th>\n",
       "      <th></th>\n",
       "      <th></th>\n",
       "      <th></th>\n",
       "      <th></th>\n",
       "      <th></th>\n",
       "      <th></th>\n",
       "      <th></th>\n",
       "      <th></th>\n",
       "      <th></th>\n",
       "    </tr>\n",
       "  </thead>\n",
       "  <tbody>\n",
       "    <tr>\n",
       "      <th>0</th>\n",
       "      <td>17429</td>\n",
       "      <td>649039</td>\n",
       "      <td>1350519682</td>\n",
       "      <td>835023717</td>\n",
       "      <td>114383</td>\n",
       "      <td>6</td>\n",
       "      <td>1</td>\n",
       "      <td>1</td>\n",
       "      <td>1</td>\n",
       "      <td>0</td>\n",
       "      <td>...</td>\n",
       "      <td>1</td>\n",
       "      <td>1</td>\n",
       "      <td>53</td>\n",
       "      <td>0</td>\n",
       "      <td>0</td>\n",
       "      <td>0</td>\n",
       "      <td>0</td>\n",
       "      <td>0</td>\n",
       "      <td>1</td>\n",
       "      <td>0</td>\n",
       "    </tr>\n",
       "    <tr>\n",
       "      <th>1</th>\n",
       "      <td>6803</td>\n",
       "      <td>230199</td>\n",
       "      <td>137167391</td>\n",
       "      <td>95000209</td>\n",
       "      <td>48603</td>\n",
       "      <td>0</td>\n",
       "      <td>0</td>\n",
       "      <td>0</td>\n",
       "      <td>0</td>\n",
       "      <td>1</td>\n",
       "      <td>...</td>\n",
       "      <td>0</td>\n",
       "      <td>0</td>\n",
       "      <td>21</td>\n",
       "      <td>1</td>\n",
       "      <td>1</td>\n",
       "      <td>1</td>\n",
       "      <td>1</td>\n",
       "      <td>1</td>\n",
       "      <td>0</td>\n",
       "      <td>1</td>\n",
       "    </tr>\n",
       "  </tbody>\n",
       "</table>\n",
       "<p>2 rows × 18570 columns</p>\n",
       "</div>"
      ],
      "text/plain": [
       "         Calificación_promedio  Duración      Vistas    Ratings  \\\n",
       "Cluster                                                           \n",
       "0                        17429    649039  1350519682  835023717   \n",
       "1                         6803    230199   137167391   95000209   \n",
       "\n",
       "         Porcentaje_likes  Director_  Director_A.V. Rockwell  \\\n",
       "Cluster                                                        \n",
       "0                  114383          6                       1   \n",
       "1                   48603          0                       0   \n",
       "\n",
       "         Director_Aaron B. Koontz  Director_Aaron Blaise  Director_Aaron Hann  \\\n",
       "Cluster                                                                         \n",
       "0                               1                      1                    0   \n",
       "1                               0                      0                    1   \n",
       "\n",
       "         ...  Coprotagonista_Zoë Kravitz  Coprotagonista_Zuleikha Robinson  \\\n",
       "Cluster  ...                                                                 \n",
       "0        ...                           1                                 1   \n",
       "1        ...                           0                                 0   \n",
       "\n",
       "         Coprotagonista_nan  Coprotagonista_Álvaro Guevara  \\\n",
       "Cluster                                                      \n",
       "0                        53                              0   \n",
       "1                        21                              1   \n",
       "\n",
       "         Coprotagonista_Ángel Aranda  Coprotagonista_Édith Scob  \\\n",
       "Cluster                                                           \n",
       "0                                  0                          0   \n",
       "1                                  1                          1   \n",
       "\n",
       "         Coprotagonista_Éric Cantona  Coprotagonista_Ériq Ebouaney  \\\n",
       "Cluster                                                              \n",
       "0                                  0                             0   \n",
       "1                                  1                             1   \n",
       "\n",
       "         Coprotagonista_Óscar Jaenada  Coprotagonista_Ørjan Gamst  \n",
       "Cluster                                                            \n",
       "0                                   1                           0  \n",
       "1                                   0                           1  \n",
       "\n",
       "[2 rows x 18570 columns]"
      ]
     },
     "metadata": {},
     "output_type": "display_data"
    },
    {
     "data": {
      "image/png": "[encoded data removed]",
      "text/plain": [
       "<Figure size 500x500 with 1 Axes>"
      ]
     },
     "metadata": {},
     "output_type": "display_data"
    },
    {
     "ename": "NameError",
     "evalue": "name 'df_encoded' is not defined",
     "output_type": "error",
     "traceback": [
      "\u001b[31m---------------------------------------------------------------------------\u001b[39m",
      "\u001b[31mNameError\u001b[39m                                 Traceback (most recent call last)",
      "\u001b[36mCell\u001b[39m\u001b[36m \u001b[39m\u001b[32mIn[272]\u001b[39m\u001b[32m, line 23\u001b[39m\n\u001b[32m     18\u001b[39m plt.show()\n\u001b[32m     20\u001b[39m \u001b[38;5;66;03m# 5. Guardamos las columnas originales del dataset antes del PCA\u001b[39;00m\n\u001b[32m     21\u001b[39m \u001b[38;5;66;03m# Esto debe ejecutarse ANTES de aplicar PCA, justo después del one-hot encoding\u001b[39;00m\n\u001b[32m     22\u001b[39m \u001b[38;5;66;03m# Si ya tenés PCA entrenado, asegurate de usar la misma variable usada para fit\u001b[39;00m\n\u001b[32m---> \u001b[39m\u001b[32m23\u001b[39m columnas_originales = \u001b[43mdf_encoded\u001b[49m.columns  \u001b[38;5;66;03m# df_encoded es el dataframe que se usó para fit_transform del PCA\u001b[39;00m\n\u001b[32m     25\u001b[39m \u001b[38;5;66;03m# 6. Creamos DataFrame con los componentes del PCA\u001b[39;00m\n\u001b[32m     26\u001b[39m componentes = pd.DataFrame(\n\u001b[32m     27\u001b[39m     pca.components_,\n\u001b[32m     28\u001b[39m     columns=columnas_originales,\n\u001b[32m     29\u001b[39m     index=[\u001b[33mf\u001b[39m\u001b[33m\"\u001b[39m\u001b[33mPC\u001b[39m\u001b[38;5;132;01m{\u001b[39;00mi+\u001b[32m1\u001b[39m\u001b[38;5;132;01m}\u001b[39;00m\u001b[33m\"\u001b[39m \u001b[38;5;28;01mfor\u001b[39;00m i \u001b[38;5;129;01min\u001b[39;00m \u001b[38;5;28mrange\u001b[39m(pca.n_components_)]\n\u001b[32m     30\u001b[39m )\n",
      "\u001b[31mNameError\u001b[39m: name 'df_encoded' is not defined"
     ]
    }
   ],
   "source": [
    "\n",
    "\n",
    "# 1. Asignamos las etiquetas de los clusters al DataFrame original\n",
    "df[\"Cluster\"] = labels  # labels es la salida de tu modelo de clustering (KMeans, GMM, etc.)\n",
    "\n",
    "# 2. Suma por cluster\n",
    "suma_por_cluster = df.groupby(\"Cluster\").sum(numeric_only=True)\n",
    "print(\"📊 Suma por cluster:\")\n",
    "display(suma_por_cluster)\n",
    "\n",
    "# 3. Conteo de elementos por cluster\n",
    "counts = df[\"Cluster\"].value_counts().sort_index()\n",
    "unique = counts.index\n",
    "\n",
    "# 4. Pie chart - proporción por cluster\n",
    "plt.figure(figsize=(5, 5))\n",
    "plt.pie(counts, labels=[f\"Cluster {i}\" for i in unique], autopct='%1.1f%%', startangle=90)\n",
    "plt.title(\"Distribución de elementos por cluster\")\n",
    "plt.axis('equal')\n",
    "plt.show()\n",
    "\n",
    "# 5. Guardamos las columnas originales del dataset antes del PCA\n",
    "# Esto debe ejecutarse ANTES de aplicar PCA, justo después del one-hot encoding\n",
    "# Si ya tenés PCA entrenado, asegurate de usar la misma variable usada para fit\n",
    "columnas_originales = df_encoded.columns  # df_encoded es el dataframe que se usó para fit_transform del PCA\n",
    "\n",
    "# 6. Creamos DataFrame con los componentes del PCA\n",
    "componentes = pd.DataFrame(\n",
    "    pca.components_,\n",
    "    columns=columnas_originales,\n",
    "    index=[f\"PC{i+1}\" for i in range(pca.n_components_)]\n",
    ")\n",
    "\n",
    "# 7. Mostramos las variables más importantes para el primer componente principal\n",
    "print(\"💡 Variables más importantes en PC1:\")\n",
    "display(componentes.T.sort_values(\"PC1\", ascending=False).head(10))\n",
    "\n",
    "# 8. Media por cluster (perfil promedio)\n",
    "media_por_cluster = df.groupby(\"Cluster\").mean(numeric_only=True)\n",
    "print(\"📈 Perfil promedio por cluster:\")\n",
    "display(media_por_cluster)\n"
   ]
  },
  {
   "cell_type": "markdown",
   "id": "c51cf360",
   "metadata": {},
   "source": [
    "El error se debe al gran número de columnas que generó el Hot Encoding"
   ]
  },
  {
   "cell_type": "code",
   "execution_count": null,
   "id": "07ae285e-5204-4774-b1aa-34499d8c624a",
   "metadata": {},
   "outputs": [],
   "source": [
    "#Guardamos el modelo y los resultados\n",
    "df[\"Cluster\"] = labels\n",
    "df.to_csv(\"resultado_clusters.csv\", index=False)"
   ]
  },
  {
   "cell_type": "code",
   "execution_count": null,
   "id": "5ca5ee7f-e6ff-4ca1-baa8-91fd902345d3",
   "metadata": {},
   "outputs": [
    {
     "name": "stdout",
     "output_type": "stream",
     "text": [
      "Lenguaje_English         0.339957\n",
      "Pais_USA                 0.227316\n",
      "Lenguaje_Japanese        0.154047\n",
      "Pais_Japan               0.147862\n",
      "Lenguaje_Italian         0.140915\n",
      "Pais_Italy               0.114404\n",
      "Lenguaje_French          0.101261\n",
      "Calificación_promedio    0.096661\n",
      "Lenguaje_Korean          0.094425\n",
      "Pais_France              0.094266\n",
      "Name: PC1, dtype: float64\n"
     ]
    }
   ],
   "source": [
    "loadings = pd.DataFrame(\n",
    "    pca.components_.T,  # si guardaste el PCA en gmm_pca\n",
    "    index=df_cluster.columns, \n",
    "    columns=[f\"PC{i+1}\" for i in range(pca.n_components)]\n",
    ")\n",
    "print(loadings['PC1'].abs().sort_values(ascending=False).head(10))"
   ]
  },
  {
   "cell_type": "markdown",
   "id": "096485f5",
   "metadata": {},
   "source": [
    "PC1 parece representar una dimensión cultural y de mercado dominante, donde las películas de habla inglesa o de países con alta producción cinematográfica (EE.UU., Japón, Italia) tienen más peso. Además, PC1 está asociada a popularidad o visibilidad internacional (vistas, ratings altos), con fuerte presencia de idiomas globales."
   ]
  },
  {
   "cell_type": "code",
   "execution_count": null,
   "id": "08069a17-05a8-431e-9fde-e0a9d4fd0888",
   "metadata": {},
   "outputs": [
    {
     "name": "stdout",
     "output_type": "stream",
     "text": [
      "         Calificación_promedio    Duración         Vistas        Ratings  \\\n",
      "Cluster                                                                    \n",
      "0                     2.728824  101.618757  211448.204478  130738.017379   \n",
      "1                     2.936124   99.352180   59200.427708   41001.384981   \n",
      "\n",
      "         Porcentaje_likes Action (%) Adventure (%) Animation (%) Comedy (%)  \\\n",
      "Cluster                                                                       \n",
      "0               17.908721       7.2%          4.7%          2.1%      16.1%   \n",
      "1               20.976694       8.2%          3.3%          3.1%       8.1%   \n",
      "\n",
      "        Crime (%)  ... History (%) Horror (%) Music (%) Mystery (%)  \\\n",
      "Cluster            ...                                                \n",
      "0            5.3%  ...        1.6%       7.8%      1.3%        2.5%   \n",
      "1            4.6%  ...        1.9%      10.9%      0.9%        2.6%   \n",
      "\n",
      "        Romance (%) Science Fiction (%) TV Movie (%) Thriller (%) War (%)  \\\n",
      "Cluster                                                                     \n",
      "0              5.6%                4.8%         0.7%         8.6%    1.3%   \n",
      "1              3.8%                3.8%         0.5%         7.1%    1.7%   \n",
      "\n",
      "        Western (%)  \n",
      "Cluster              \n",
      "0              1.5%  \n",
      "1              1.7%  \n",
      "\n",
      "[2 rows x 25 columns]\n"
     ]
    }
   ],
   "source": [
    "# 1. Creamos un DataFrame que incluya la columna de cluster\n",
    "df_insights = df.copy()\n",
    "df_insights['Cluster'] = labels  \n",
    "\n",
    "# 2. Definimos qué variables queremos resumir\n",
    "#    – Numéricas\n",
    "#    – Dummies de Género: porcentaje de presencia por cluster\n",
    "\n",
    "numeric_vars = ['Calificación_promedio', 'Duración' , 'Vistas' , 'Ratings' ,  'Porcentaje_likes'] \n",
    "genero_dummies = [col for col in df_insights.columns if col.startswith('Genero_')]\n",
    "\n",
    "# 3. Agregamos al resumen el promedio de las numéricas y el promedio de las dummies (que equivale al % de ejemplares con esa categoría)\n",
    "agg_dict = {var: 'mean' for var in numeric_vars + genero_dummies}\n",
    "\n",
    "resumen = df_insights.groupby('Cluster').agg(agg_dict)\n",
    "\n",
    "# 4. Formateamos porcentajes para los géneros\n",
    "for col in genero_dummies:\n",
    "    resumen[col] = (resumen[col] * 100).round(1).astype(str) + '%'\n",
    "\n",
    "# 5. Renombramos columnas para mayor claridad\n",
    "resumen = resumen.rename(columns={g: g.replace('Genero_', '') + ' (%)' for g in genero_dummies})\n",
    "\n",
    "\n",
    "# 6. Mostramos el resultado\n",
    "print(resumen)"
   ]
  },
  {
   "cell_type": "markdown",
   "id": "54c98722",
   "metadata": {},
   "source": [
    "En resumen, el Cluster 0, que agrupa la mayoría de las películas, tiene una calificación promedio más baja (2.73), mayor cantidad de vistas y menor porcentaje de likes, y muestra una mayor presencia de géneros como Comedy, Drama y Thriller. En cambio, el Cluster 1 —más reducido— muestra calificaciones promedio y porcentaje de likes más altos, aunque con menor alcance en vistas. Además, tiene una mayor proporción de películas de Horror, Action y Animation, lo que sugiere que este grupo representa películas con un perfil más de nicho o con valoraciones más positivas, a pesar de su menor popularidad masiva."
   ]
  },
  {
   "cell_type": "code",
   "execution_count": null,
   "id": "cf9bb1df",
   "metadata": {},
   "outputs": [],
   "source": [
    "# exportar a un excel los resultados\n",
    "resumen.to_excel('resumen_clusters.xlsx')\n"
   ]
  },
  {
   "cell_type": "markdown",
   "id": "c25e57cd",
   "metadata": {},
   "source": [
    "## Conlclusion"
   ]
  },
  {
   "cell_type": "markdown",
   "id": "fc62468f",
   "metadata": {},
   "source": [
    "*Durante el proyecto se exploraron varios métodos de agrupamiento no supervisado tras aplicar reducción de dimensionalidad con Análisis de Componentes Principales (PCA). Aunque se probaron técnicas como K-Means, este método no logró una separación adecuada de los clusters.En contraste, el algoritmo DBSCAN resultó ser el más útil, ya que logró identificar agrupamientos más coherentes y significativos.*"
   ]
  },
  {
   "cell_type": "markdown",
   "id": "48bf37ee",
   "metadata": {},
   "source": [
    "Resultados:\n",
    "\n",
    "Cluster 0(contiene la mayoría de peliculas):\n",
    "\n",
    "-Tiene una calificación promedio más baja \n",
    "-Duración más larga promedio \n",
    "-Mucho más vistas y ratings \n",
    "-Porcentaje de likes más bajo\n",
    "-Mayor proporción en géneros como Comedy , Drama , Romance , Thriller\n",
    "-Menor en géneros como Action , Adventure , Family \n",
    "\n",
    "Cluster 1:\n",
    "\n",
    "-Mejor calificación promedio \n",
    "-Duración promedio un poco más corta (99.3 min)\n",
    "-Menos vistas y ratings\n",
    "-Más porcentaje de likes\n",
    "-Más orientado a géneros como Drama (27.8%), Documentary (4.2%), History (10.9%), War (1.7%)\n",
    "-Menos comedia y acción en comparación con el cluster 0"
   ]
  },
  {
   "cell_type": "markdown",
   "id": "e9042e57",
   "metadata": {},
   "source": [
    "El componente principal 1 (PC1) está dominado por variables relacionadas con lenguaje y país (ej. inglés, USA, japonés, Japón, italiano, Italia, francés, Francia).\n",
    "\n",
    "Esto indica que PC1 está capturando una gran parte de la variabilidad basada en la localización geográfica y el idioma."
   ]
  },
  {
   "cell_type": "markdown",
   "id": "7732e0db",
   "metadata": {},
   "source": [
    "En resumen:\n",
    "\n",
    "Cluster 0 tiene más vistas, ratings, y géneros populares de acción/comedia. Sería el grupo popular, más entretenido.\n",
    "\n",
    "Cluster 1 tiene mejor calificación promedio y más documental/histórico. Vendría a ser el grupo más crítico y serio.\n",
    "\n",
    "Dado que PC1 tiene cargas altas en idioma y país, si cluster 0 o 1 representan grupos con diferente idioma o país, la asignación puede variar."
   ]
  }
 ],
 "metadata": {
  "kernelspec": {
   "display_name": "Python 3",
   "language": "python",
   "name": "python3"
  },
  "language_info": {
   "codemirror_mode": {
    "name": "ipython",
    "version": 3
   },
   "file_extension": ".py",
   "mimetype": "text/x-python",
   "name": "python",
   "nbconvert_exporter": "python",
   "pygments_lexer": "ipython3",
   "version": "3.11.9"
  }
 },
 "nbformat": 4,
 "nbformat_minor": 5
}
